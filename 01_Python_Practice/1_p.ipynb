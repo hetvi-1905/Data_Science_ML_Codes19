{
 "cells": [
  {
   "cell_type": "code",
   "execution_count": 1,
   "id": "c5ec3393",
   "metadata": {},
   "outputs": [
    {
     "name": "stdout",
     "output_type": "stream",
     "text": [
      "Hello World\n"
     ]
    }
   ],
   "source": [
    "print(\"Hello World\")"
   ]
  },
  {
   "cell_type": "code",
   "execution_count": 215,
   "id": "20380983",
   "metadata": {},
   "outputs": [
    {
     "name": "stdout",
     "output_type": "stream",
     "text": [
      "9 is the sum of  2 , 3 and 4\n",
      "9 is the sum of 2 , 3 and 4\n",
      "9 is the sum of 2 , 3 , 4\n"
     ]
    }
   ],
   "source": [
    "# 3 ways to print something with calculated values in it\n",
    "\n",
    "a=2\n",
    "b=3\n",
    "c=4\n",
    "sum =a+b+c\n",
    "\n",
    "# M-1\n",
    "print( sum ,str(\"is the sum of \"), a , str(\",\"), b , str(\"and\"), c)\n",
    "\n",
    "# M-2\n",
    "print( str(sum) + str(\" is the sum of \") +  str(a) + str(\" , \") + str(b) + str(\" and \") + str(c)) #---> by converting int to str and concat\n",
    "\n",
    "# M-3\n",
    "print(f\"{sum} is the sum of {a} , {b} , {c}\")"
   ]
  },
  {
   "cell_type": "code",
   "execution_count": 2,
   "id": "9e84f81f",
   "metadata": {},
   "outputs": [
    {
     "name": "stdout",
     "output_type": "stream",
     "text": [
      "<class 'int'>\n",
      "<class 'str'>\n",
      "<class 'float'>\n",
      "<class 'bool'>\n"
     ]
    }
   ],
   "source": [
    "a=5\n",
    "b=\"hetvi\"\n",
    "c=19.7\n",
    "d=True\n",
    "print(type(a))\n",
    "print(type(b))\n",
    "print(type(c))\n",
    "print(type(d))"
   ]
  },
  {
   "cell_type": "code",
   "execution_count": 3,
   "id": "f9052302",
   "metadata": {},
   "outputs": [
    {
     "name": "stdout",
     "output_type": "stream",
     "text": [
      "enter your name:hetvi\n",
      "<class 'str'>\n"
     ]
    }
   ],
   "source": [
    "a=input(\"enter your name:\")\n",
    "print(type(a))"
   ]
  },
  {
   "cell_type": "code",
   "execution_count": 4,
   "id": "70529dff",
   "metadata": {},
   "outputs": [
    {
     "name": "stdout",
     "output_type": "stream",
     "text": [
      "enter your name:19\n",
      "<class 'str'>\n"
     ]
    }
   ],
   "source": [
    "a=input(\"enter your name:\")\n",
    "print(type(a))\n"
   ]
  },
  {
   "cell_type": "code",
   "execution_count": 6,
   "id": "7e2e4c20",
   "metadata": {},
   "outputs": [],
   "source": [
    "# the input in such a way by user is always of type str even if the user inputs a number and we have to typecast it "
   ]
  },
  {
   "cell_type": "code",
   "execution_count": 8,
   "id": "2a9da381",
   "metadata": {},
   "outputs": [
    {
     "name": "stdout",
     "output_type": "stream",
     "text": [
      "enter your age:19\n",
      "<class 'str'>\n",
      "<class 'int'>\n"
     ]
    }
   ],
   "source": [
    "a=input(\"enter your age:\")\n",
    "print(type(a))\n",
    "a=int(a)\n",
    "print(type(a))\n",
    "#typecating............"
   ]
  },
  {
   "cell_type": "code",
   "execution_count": 9,
   "id": "21d1894e",
   "metadata": {},
   "outputs": [
    {
     "name": "stdout",
     "output_type": "stream",
     "text": [
      "Enter a num12\n",
      "Enter a num24\n"
     ]
    },
    {
     "ename": "TypeError",
     "evalue": "unsupported operand type(s) for /: 'str' and 'int'",
     "output_type": "error",
     "traceback": [
      "\u001b[1;31m---------------------------------------------------------------------------\u001b[0m",
      "\u001b[1;31mTypeError\u001b[0m                                 Traceback (most recent call last)",
      "\u001b[1;32m~\\AppData\\Local\\Temp/ipykernel_3532/3023074643.py\u001b[0m in \u001b[0;36m<module>\u001b[1;34m\u001b[0m\n\u001b[0;32m      1\u001b[0m \u001b[0ma\u001b[0m\u001b[1;33m=\u001b[0m\u001b[0minput\u001b[0m\u001b[1;33m(\u001b[0m\u001b[1;34m\"Enter a num1\"\u001b[0m\u001b[1;33m)\u001b[0m\u001b[1;33m\u001b[0m\u001b[1;33m\u001b[0m\u001b[0m\n\u001b[0;32m      2\u001b[0m \u001b[0mb\u001b[0m\u001b[1;33m=\u001b[0m\u001b[0minput\u001b[0m\u001b[1;33m(\u001b[0m\u001b[1;34m\"Enter a num2\"\u001b[0m\u001b[1;33m)\u001b[0m\u001b[1;33m\u001b[0m\u001b[1;33m\u001b[0m\u001b[0m\n\u001b[1;32m----> 3\u001b[1;33m \u001b[0mavg\u001b[0m\u001b[1;33m=\u001b[0m\u001b[1;33m(\u001b[0m\u001b[0ma\u001b[0m\u001b[1;33m+\u001b[0m\u001b[0mb\u001b[0m\u001b[1;33m)\u001b[0m\u001b[1;33m/\u001b[0m\u001b[1;36m2\u001b[0m\u001b[1;33m\u001b[0m\u001b[1;33m\u001b[0m\u001b[0m\n\u001b[0m\u001b[0;32m      4\u001b[0m \u001b[0mprint\u001b[0m\u001b[1;33m(\u001b[0m\u001b[0mavg\u001b[0m\u001b[1;33m)\u001b[0m\u001b[1;33m\u001b[0m\u001b[1;33m\u001b[0m\u001b[0m\n",
      "\u001b[1;31mTypeError\u001b[0m: unsupported operand type(s) for /: 'str' and 'int'"
     ]
    }
   ],
   "source": [
    "a=input(\"Enter a num1\")\n",
    "b=input(\"Enter a num2\")\n",
    "avg=(a+b)/2\n",
    "print(avg)"
   ]
  },
  {
   "cell_type": "code",
   "execution_count": 39,
   "id": "a6e9e6f3",
   "metadata": {},
   "outputs": [
    {
     "name": "stdout",
     "output_type": "stream",
     "text": [
      "Enter a num12\n",
      "Enter a num22\n",
      "2.0\n",
      "Enter a num1\n",
      "2\n",
      "Enter a num2\n",
      "2\n",
      "number1=2 and number2=2\n",
      "Average=3.0\n"
     ]
    }
   ],
   "source": [
    "# M-1\n",
    "a=input(\"Enter a num1\")\n",
    "b=input(\"Enter a num2\")\n",
    "a=int(a)   # typecasting str into int\n",
    "b=int(b)   # typecasting str into int\n",
    "avg=(a+b)/2\n",
    "print(avg)\n",
    "\n",
    "#----------- OR --------------------\n",
    "\n",
    "# M-2\n",
    "a=int(input(\"Enter a num1\\n\"))\n",
    "b=int(input(\"Enter a num2\\n\"))\n",
    "avg=a+b/2\n",
    "print(f\"number1={a} and number2={b}\")\n",
    "print(f\"Average={avg}\")"
   ]
  },
  {
   "cell_type": "code",
   "execution_count": 32,
   "id": "d67cdedb",
   "metadata": {},
   "outputs": [
    {
     "name": "stdout",
     "output_type": "stream",
     "text": [
      "H\n",
      "e\n",
      "t\n",
      "v\n",
      "i\n",
      "Bhora\n",
      "Hetvi\n",
      "HetviBhora\n",
      "Bhora\n",
      "Htihr\n",
      "Hvha\n",
      "10\n",
      "True\n",
      "1\n",
      "1\n"
     ]
    }
   ],
   "source": [
    "name = \"HetviBhora\"\n",
    "print(name[0])\n",
    "print(name[1])\n",
    "print(name[2])\n",
    "print(name[3])\n",
    "print(name[4])\n",
    "print(name[5:])\n",
    "print(name[:5])\n",
    "print(name[0:])\n",
    "print(name[-5:]) # a=-1, r=-2 , o=-3, h=-4, B=-5 , ...........H=-9\n",
    "print(name[0::2]) # skips 1 letter \n",
    "print(name[0::3]) # skips 2 letters \n",
    "print(len(name)) #gives length of str\n",
    "print(name.endswith(\"Bhora\")) \n",
    "print(name.count(\"h\")) # H and h are different in str \n",
    "print(name.count(\"etvi\"))"
   ]
  },
  {
   "cell_type": "code",
   "execution_count": 43,
   "id": "5d0359ce",
   "metadata": {},
   "outputs": [
    {
     "name": "stdout",
     "output_type": "stream",
     "text": [
      "*****************Dear All!******************\n",
      "\n",
      "I am Hetvi Bhora and I am happy to announce that miss. <|name|> is selected for <|post|> post in our company\n",
      "Enter your name:\n",
      "Rajvi\n",
      "Enter your post you want in company:\n",
      "Physian\n",
      "*****************Dear All!******************\n",
      "\n",
      "I am Hetvi Bhora and I am happy to announce that miss. <|name|> is selected for <|post|> post in our company\n"
     ]
    }
   ],
   "source": [
    "letter = '''*****************Dear All!******************\\n\n",
    "I am Hetvi Bhora and I am happy to announce that miss. <|name|> is selected for <|post|> post in our company'''\n",
    "print(letter)\n",
    "name = input(\"Enter your name:\\n\")\n",
    "post = input(\"Enter your post you want in company:\\n\")\n",
    "letter.replace(\"<|name|>\",name)\n",
    "letter.replace(\"<|post|>\",post)\n",
    "print(letter)  # there will be no replacement in this ...........No ERROR. But unfaverable o/p....."
   ]
  },
  {
   "cell_type": "code",
   "execution_count": 44,
   "id": "d148df21",
   "metadata": {},
   "outputs": [
    {
     "name": "stdout",
     "output_type": "stream",
     "text": [
      "*****************Dear All!******************\n",
      "\n",
      "I am Hetvi Bhora and I am happy to announce that miss. <|name|> is selected for <|post|> post in our company\n",
      "Enter your name:\n",
      "Rajvi\n",
      "Enter your post you want in company:\n",
      "Physian\n",
      "*****************Dear All!******************\n",
      "\n",
      "I am Hetvi Bhora and I am happy to announce that miss. Rajvi is selected for Physian post in our company\n"
     ]
    }
   ],
   "source": [
    "letter = '''*****************Dear All!******************\\n\n",
    "I am Hetvi Bhora and I am happy to announce that miss. <|name|> is selected for <|post|> post in our company'''\n",
    "print(letter)\n",
    "name = input(\"Enter your name:\\n\")\n",
    "post = input(\"Enter your post you want in company:\\n\")\n",
    "letter=letter.replace(\"<|name|>\",name)\n",
    "letter=letter.replace(\"<|post|>\",post)\n",
    "print(letter)"
   ]
  },
  {
   "cell_type": "code",
   "execution_count": 2,
   "id": "b3c041f2",
   "metadata": {},
   "outputs": [
    {
     "name": "stdout",
     "output_type": "stream",
     "text": [
      "<class 'list'>\n",
      "[1, 2, 3, 4, 5]\n",
      "[99, 2, 3, 4, 5]\n",
      "99\n",
      "5\n",
      "[1, 'hetvi', 19.19, False, True]\n",
      "['Bhumi', 'Zil', 'Aditi', 'Naisargi']\n",
      "['Bhumi', 'Zil', 'Aditi', 'Naisargi', 'Kausha']\n",
      "['Bhumi', 'Aditi', 'Kausha']\n",
      "None\n",
      "['Aditi', 'Bhumi', 'Kausha', 'Naisargi', 'Zil']\n"
     ]
    }
   ],
   "source": [
    "#list intro (Refer for more from W3 schools...)\n",
    "a=[]        # declaring empty list \n",
    "print(type(a))\n",
    "a=[1,2,3,4,5]\n",
    "print(a)\n",
    "a[0]=99\n",
    "print(a)\n",
    "print(a[0])\n",
    "print(a[4])\n",
    "# print(a[5])            # gives error of out of range from list\n",
    "\n",
    "#list can contain different types of data types\n",
    "b=[1,\"hetvi\",19.19,False,True]  # heterogeneous list  # don't write \"true\" instead write \"True\" or else error will occur\n",
    "print(b)\n",
    "\n",
    "\n",
    "friends=[\"Bhumi\",\"Zil\",\"Aditi\",\"Naisargi\",\"Kausha\"]\n",
    "print(friends[0:4])\n",
    "print(friends[0:])\n",
    "print(friends[0::2])\n",
    "\n",
    "friends_sorted = friends.sort()        # wrong way\n",
    "print(friends_sorted)\n",
    "\n",
    "friends.sort()                       # right way\n",
    "print(friends)"
   ]
  },
  {
   "cell_type": "code",
   "execution_count": 73,
   "id": "872b624b",
   "metadata": {},
   "outputs": [
    {
     "name": "stdout",
     "output_type": "stream",
     "text": [
      "None\n",
      "[1, 2, 3, 4, 5, 6, 8]\n",
      "[8, 6, 5, 4, 3, 2, 1]\n",
      "[8, 6, 5, 4, 3, 2, 1, 100]\n",
      "[8, 6, 5, 4, 3, 9999, 2, 1, 100]\n",
      "[8, 6, 5, 4, 3, 2, 1, 100]\n",
      "[8, 6, 5, 4, 3, 2, 1]\n"
     ]
    }
   ],
   "source": [
    "# List contunue............\n",
    "nums=[1,5,4,6,8,3,2]\n",
    "sorted_nums=nums.sort()                # wrong way\n",
    "print(sorted_nums)\n",
    "\n",
    "nums.sort()\n",
    "print(nums)\n",
    "\n",
    "nums.reverse()\n",
    "print(nums)\n",
    "\n",
    "nums.append(100)\n",
    "print(nums)\n",
    "\n",
    "nums.insert(5,9999)\n",
    "print(nums)\n",
    "\n",
    "nums.pop(5)\n",
    "print(nums)\n",
    "\n",
    "nums.remove(100)\n",
    "print(nums)\n",
    "\n",
    "# therfore, in list, original list is only modified by the application of different methids on it\n",
    "\n",
    "# can explore other methods of list from google "
   ]
  },
  {
   "cell_type": "code",
   "execution_count": 85,
   "id": "1191d944",
   "metadata": {},
   "outputs": [
    {
     "name": "stdout",
     "output_type": "stream",
     "text": [
      "(1, 2, 3, 4, 5)\n",
      "()\n",
      "<class 'tuple'>\n",
      "(1, 2, 3, 4, 5)\n",
      "<class 'int'>\n",
      "(5,)\n",
      "<class 'tuple'>\n",
      "4\n",
      "5\n"
     ]
    }
   ],
   "source": [
    "#Tuples\n",
    "\n",
    "t=(1,2,3,4,5)\n",
    "print(t)\n",
    "\n",
    "# t[0]=99   # WRONG : can't reassign(update) the value of tuple i.e can't change the value of tuple at all.....\n",
    "# print(t) \n",
    "\n",
    "# declaring \"Empty\" Tuple:\n",
    "tu = ()\n",
    "print(tu)\n",
    "print(type(tu))\n",
    "\n",
    "#tuple with only one element always needs a comma at the end\n",
    "tup = (5)         # wrong way -------> it becomes a list/ or shows int\n",
    "print(t)\n",
    "print(type(tup))\n",
    "\n",
    "tuple = (5,)       # Right way...............\n",
    "print(tuple)\n",
    "print(type(tuple))\n",
    "\n",
    "tuple1 = (5,5,5,5,10,15,20)\n",
    "print(tuple1.count(5))\n",
    "print(tuple1.index(15))   # returns the index of first occurence of 15 in tuple1\n"
   ]
  },
  {
   "cell_type": "code",
   "execution_count": 4,
   "id": "0d7d9d28",
   "metadata": {},
   "outputs": [
    {
     "name": "stdout",
     "output_type": "stream",
     "text": [
      "Enter a number:\n",
      "0\n",
      "Enter a number:\n",
      "1\n",
      "Enter a number:\n",
      "1\n",
      "Enter a number:\n",
      "4\n",
      "['0', '1', '1', '4']\n",
      "<class 'list'>\n",
      "Enter a number:\n",
      "1\n",
      "Enter a number:\n",
      "14\n",
      "Enter a number:\n",
      "4\n",
      "Enter a number:\n",
      "5\n",
      "[1, 14, 4, 5]\n",
      "<class 'list'>\n",
      "24\n"
     ]
    }
   ],
   "source": [
    "f1 = input(\"Enter a number:\\n\")\n",
    "f2 = input(\"Enter a number:\\n\")\n",
    "f3 = input(\"Enter a number:\\n\")\n",
    "f4 = input(\"Enter a number:\\n\")\n",
    "myNumList=[f1,f2,f3,f4]\n",
    "print(myNumList)\n",
    "print(type(myNumList))\n",
    "# print(sum(myNumList)) ---> str can't be added!! ---> gives error\n",
    "\n",
    "# --------0r-------------\n",
    "\n",
    "f1 = int(input(\"Enter a number:\\n\"))\n",
    "f2 = int(input(\"Enter a number:\\n\"))\n",
    "f3 = int(input(\"Enter a number:\\n\"))\n",
    "f4 = int(input(\"Enter a number:\\n\"))\n",
    "myNumList1=[f1,f2,f3,f4]\n",
    "print(myNumList1)\n",
    "print(type(myNumList1))\n",
    "\n",
    "# In built function for summation\n",
    "print(sum(myNumList1))"
   ]
  },
  {
   "cell_type": "code",
   "execution_count": 202,
   "id": "6c473178",
   "metadata": {},
   "outputs": [
    {
     "name": "stdout",
     "output_type": "stream",
     "text": [
      "I am first in Dictionary\n",
      "I am first in Dictionary1\n",
      "I am second in Dictionary1\n",
      "100\n",
      "[1, 2, 3, 4]\n",
      "I am first in Dictionary2\n",
      "I am second in Dictionary2\n",
      "[1, 2, 3, 4]\n",
      "2\n",
      "i am subfirst\n",
      "i am subsecond\n",
      "i am subthird\n",
      "\n",
      "\n",
      "Modifing the values of dictionary:\n",
      "[11, 12, 13, 14]\n",
      "\n",
      "\n",
      "keys of Dict2:\n",
      "\n",
      "dict_keys(['First', 'Second', 'Marks', 'anotherDict', 1])\n",
      "\n",
      "\n",
      "values of Dict2:\n",
      "\n",
      "dict_values(['I am first in Dictionary2', 'I am second in Dictionary2', [11, 12, 13, 14], {'SubFirst': 'i am subfirst', 'SubSecond': 'i am subsecond', 'SubThird': 'i am subthird'}, 2])\n",
      "\n",
      "\n",
      "{'First': 'I am first in Dictionary2', 'Second': 'I am second in Dictionary2', 'Marks': [11, 12, 13, 14], 'anotherDict': {'SubFirst': 'i am subfirst', 'SubSecond': 'i am subsecond', 'SubThird': 'i am subthird'}, 1: 2, 'movies': '3 idiots'}\n",
      "\n",
      "\n",
      "3 idiots  getting by get method\n",
      "3 idiots getting by 'get' method\n",
      "None\n",
      "3 idiots getting by using key\n",
      "3 idiots getting by using key \n"
     ]
    }
   ],
   "source": [
    "# Dictionary has key and its values in it here First and Second are keys and the description beside are its values respectively\n",
    "###################################################\n",
    "myDict = {\n",
    "    \"First\" : \"I am first in Dictionary\",\n",
    "    \"Second\" : \"I am second in Dictionary\"\n",
    "}\n",
    "print(myDict['First'])\n",
    "\n",
    "# Dictionary can also have list in the form of values\n",
    "####################################################\n",
    "myDict1 = {\n",
    "    \"First\" : \"I am first in Dictionary1\",\n",
    "    \"Second\" : \"I am second in Dictionary1\",\n",
    "     \"List\" : \"100\",\n",
    "     \"Marks\" : [1,2,3,4]\n",
    "}\n",
    "print(myDict1['First'])\n",
    "print(myDict1['Second'])\n",
    "print(myDict1['List'])\n",
    "print(myDict1['Marks'])\n",
    "\n",
    "\n",
    "####################################################\n",
    "myDict2 = {\n",
    "    \"First\" : \"I am first in Dictionary2\",\n",
    "    \"Second\" : \"I am second in Dictionary2\",\n",
    "    \"Marks\" : [1,2,3,4],\n",
    "    \"anotherDict\" : \n",
    "    {\n",
    "        \"SubFirst\" : \"i am subfirst\",\n",
    "        \"SubSecond\" : \"i am subsecond\",\n",
    "        \"SubThird\" : \"i am subthird\",\n",
    "        \n",
    "    },\n",
    "    1 : 2\n",
    "}\n",
    "print(myDict2['First'])\n",
    "print(myDict2['Second'])\n",
    "print(myDict2['Marks'])\n",
    "print(myDict2[1])\n",
    "print(myDict2['anotherDict']['SubFirst'])\n",
    "print(myDict2['anotherDict']['SubSecond'])\n",
    "print(myDict2['anotherDict']['SubThird'])\n",
    "print(\"\\n\")\n",
    "\n",
    "#******dictionary can modify the values*********\n",
    "print(\"Modifing the values of dictionary:\")\n",
    "myDict2['Marks']=[11,12,13,14]\n",
    "print(myDict2['Marks'])\n",
    "print(\"\\n\")\n",
    "\n",
    "# printing the keys of dictionary\n",
    "print(\"keys of Dict2:\\n\")\n",
    "print(myDict2.keys())   ####### Typcasting can be done on Dictionary into list like: print(list(myDict2.keys()))\n",
    "print(\"\\n\")\n",
    "\n",
    "\n",
    "# printing the values of dictionary\n",
    "print(\"values of Dict2:\\n\")\n",
    "print(myDict2.values())\n",
    "print(\"\\n\")\n",
    "\n",
    "# Updating the dictionary \n",
    "updateDict = {\n",
    "    \"movies\" : \"3 idiots\"\n",
    "}\n",
    "myDict2.update(updateDict)\n",
    "\n",
    "#### printing after updating the dict\n",
    "print(myDict2)\n",
    "print(\"\\n\")\n",
    "\n",
    "###### Differnece between \"get\" in dictionary and getting values by writting key name\n",
    "####  M-1\n",
    "print(myDict2.get('movies') , str(\" getting by get method\"))\n",
    "print(f\"{myDict2.get('movies')} getting by 'get' method\")\n",
    "print(myDict2.get('movies1'))   #---------------------------->This will not give \"ERROR\" but will print \"None\"\n",
    "#### M-2\n",
    "print(myDict2['movies'] + str(\" getting by using key\"))\n",
    "print(f\"{myDict2['movies']} getting by using key \")\n",
    "# print(myDict2['movies1']) #---------------------------------->This will give \"Key ERROR\"\n",
    "\n",
    "# Properties of Dictionary\n",
    "# 1.It is unordered\n",
    "# 2.It is mutable/Changeable\n",
    "# 3.It is Indexed\n",
    "# 4.Cannot Contain Duplicate \"Keys\" but can contain same values for more than once\n"
   ]
  },
  {
   "cell_type": "code",
   "execution_count": 180,
   "id": "994e3e95",
   "metadata": {},
   "outputs": [
    {
     "name": "stdout",
     "output_type": "stream",
     "text": [
      "<class 'set'>\n",
      "{1, 2, 3, 4, 5}\n",
      "<class 'dict'>\n",
      "Syntax to make empty Set:\n",
      "<class 'set'>\n",
      "{1, 2, 3, 4, 5}\n",
      "{1, 2, 3, 4, 5, (9, 99, 999)}\n",
      "6\n",
      "{1, 2, 3, 4, 5}\n",
      "{1, 2, 3, 4}\n",
      "{2, 3, 4}\n",
      "set()\n",
      "2\n"
     ]
    }
   ],
   "source": [
    "##########   set   #######################\n",
    "a = {1,2,3,4,5}\n",
    "print(type(a))\n",
    "print(a)\n",
    "\n",
    "################## Syntax to make empty set\n",
    "a = {}\n",
    "print(type(a))  # -----------------------------> This Syntax will make empty \"Dictionary\" and not empty \"Set\"\n",
    "\n",
    "b = set()\n",
    "print(\"Syntax to make empty Set:\")\n",
    "print(type(b))\n",
    "\n",
    "# Main property of set is that it doesn't allow dupicate values in it ############################\n",
    "b.add(1)\n",
    "b.add(2)\n",
    "b.add(2)\n",
    "b.add(3)\n",
    "b.add(2)\n",
    "b.add(4)\n",
    "b.add(5)\n",
    "print(b)\n",
    "\n",
    "# b.add([9,99,999])   #---------------------> can't add unhashable type of datatype in set like list \n",
    "# print(b)\n",
    "\n",
    "# b.add({1:2})   #---------------------> can't add unhashable type of datatype in set like dictionary \n",
    "# print(b)\n",
    "\n",
    "b.add((9,99,999))  #---------------------> can add hashable type of datatype in set like \"tuple\" \n",
    "print(b)\n",
    "\n",
    "########## printing length of set\n",
    "print(len(b))\n",
    "\n",
    "######## removing element from set\n",
    "b.remove((9,99,999))\n",
    "print(b)\n",
    "b.remove(5)\n",
    "print(b)\n",
    "\n",
    "# b.remove(999) #-------------------------> throws error on trying to remove the element which is already not present in the set\n",
    "# print(b)\n",
    "\n",
    "########### pop removes first element from set\n",
    "b.pop()\n",
    "print(b)\n",
    "\n",
    "########## clears the whole set\n",
    "b.clear()\n",
    "print(b)\n",
    "\n",
    "# see set \"union\" and \"intersection\" function from google \n",
    "\n",
    "######### Properties of set ###################\n",
    "# 1.sets are unordered\n",
    "# 2.sets are unindexed\n",
    "# 3.There is no way to change items in sets\n",
    "# 4.sets can't contain duplicate items\n",
    "\n",
    "#####\n",
    "s = {20,\"20\",20.0}\n",
    "print(len(s)) # -------------> here length will be 2 instead of 3 as 20 (int) and 20.0 (float->int) will be considered as same "
   ]
  },
  {
   "cell_type": "code",
   "execution_count": 186,
   "id": "7376e0a8",
   "metadata": {},
   "outputs": [
    {
     "name": "stdout",
     "output_type": "stream",
     "text": [
      "Enter your favourite language hetvi\n",
      "c\n",
      "Enter your favourite language rajvi\n",
      "c++\n",
      "Enter your favourite language parv\n",
      "java \n",
      "Enter your favourite language misha\n",
      "python\n",
      "{'hetvi': 'python', 'rajvi': 'c++', 'parv': 'java '}\n"
     ]
    }
   ],
   "source": [
    "############ making dictionary by taking names of user as keys and their favourite language as values of respective keys.....\n",
    "# Important note:\n",
    "# 1.every key must be unique\n",
    "# 2.Two different keys can have same values in them \n",
    "favLang={}  ###-----------> defining dictionary\n",
    "a = input(\"Enter your favourite language hetvi\\n\")\n",
    "b = input(\"Enter your favourite language rajvi\\n\")\n",
    "c = input(\"Enter your favourite language parv\\n\")\n",
    "d = input(\"Enter your favourite language misha\\n\")\n",
    "favLang[\"hetvi\"] = a\n",
    "favLang[\"rajvi\"] = b\n",
    "favLang[\"parv\"] = c\n",
    "favLang[\"misha\"] = d\n",
    "# favLang[\"hetvi\"] = d -----------------> on writting this again, key =\"hetvi\" will get new value \n",
    "print(favLang)"
   ]
  },
  {
   "cell_type": "code",
   "execution_count": 193,
   "id": "09cf34af",
   "metadata": {},
   "outputs": [
    {
     "name": "stdout",
     "output_type": "stream",
     "text": [
      "Enter your age:\n",
      "20\n",
      "Age more than 1818\n",
      "Not at all\n",
      "Yes\n",
      "True\n"
     ]
    }
   ],
   "source": [
    "## conditional statements\n",
    "## if-else\n",
    "age=int(input(\"Enter your age:\\n\"))\n",
    "if age>18:\n",
    "    print(\"Age more than 18\" )\n",
    "else:\n",
    "    print(\"Age less than or equal to 18\")\n",
    "\n",
    "    \n",
    "## if-elif-else ladder\n",
    "a=6\n",
    "if(a==7):\n",
    "    print(\"Yes\")\n",
    "elif(a>7):\n",
    "    print(\"No\")\n",
    "elif(a<7):\n",
    "    print(\"Not at all\")\n",
    "else:    # --------------------------> else is not compulsory at the end of ladder , it is optional\n",
    "    print(\"I am optional !\")\n",
    "    \n",
    "\n",
    "## \"is\" keyword\n",
    "a = None\n",
    "if(a is None):\n",
    "    print(\"Yes\")\n",
    "else:\n",
    "    print(\"No\")\n",
    "\n",
    "    \n",
    "## \"in\" keyword\n",
    "a=[23,34,45]\n",
    "print(45 in a)\n",
    "\n",
    "###### NOTE: for more info or if-elif-else, refer w3 school "
   ]
  },
  {
   "cell_type": "code",
   "execution_count": 263,
   "id": "54315b0d",
   "metadata": {},
   "outputs": [
    {
     "name": "stdout",
     "output_type": "stream",
     "text": [
      "Yes 0\n",
      "Yes 1\n",
      "Yes 2\n",
      "Yes 3\n",
      "Yes 4\n",
      "Yes 5\n",
      "Yes 6\n",
      "Yes 7\n",
      "Yes 8\n",
      "Yes 9\n",
      "******************\n",
      "Yes 0\n",
      "Yes 1\n",
      "Yes 2\n",
      "Yes 3\n",
      "******************\n",
      "1\n",
      "2\n",
      "4\n",
      "5\n",
      "6\n",
      "7\n",
      "8\n",
      "9\n",
      "10\n",
      "******************\n",
      "1\n",
      "2\n",
      "3\n",
      "4\n",
      "5\n",
      "End!\n",
      "******************\n",
      "apple\n",
      "banana\n",
      "chickoo\n",
      "******************\n",
      "apple\n",
      "mango\n",
      "cherry\n",
      "******************\n",
      "apple\n",
      "mango\n",
      "cherry\n",
      "chickoo\n",
      "******************\n",
      "0\n",
      "1\n",
      "2\n",
      "3\n",
      "4\n",
      "5\n",
      "6\n",
      "7\n",
      "8\n",
      "9\n",
      "******************\n",
      "2\n",
      "3\n",
      "4\n",
      "5\n",
      "6\n",
      "7\n",
      "8\n",
      "9\n",
      "******************\n",
      "0\n",
      "3\n",
      "6\n",
      "9\n",
      "******************\n",
      "0\n",
      "1\n",
      "2\n",
      "3\n",
      "4\n",
      "5\n",
      "6\n",
      "7\n",
      "8\n",
      "9\n",
      "finally finished\n",
      "******************\n",
      "5X1=5\n",
      "5X2=10\n",
      "5X3=15\n",
      "5X4=20\n",
      "5X5=25\n",
      "5X6=30\n",
      "5X7=35\n",
      "5X8=40\n",
      "5X9=45\n",
      "5X10=50\n",
      "5 X 1 = 5\n",
      "5 X 2 = 10\n",
      "5 X 3 = 15\n",
      "5 X 4 = 20\n",
      "5 X 5 = 25\n",
      "5 X 6 = 30\n",
      "5 X 7 = 35\n",
      "5 X 8 = 40\n",
      "5 X 9 = 45\n",
      "5 X 10 = 50\n",
      "hello rajvi\n",
      "hello ruchi\n",
      "Enter a num:\n",
      "\n"
     ]
    },
    {
     "ename": "KeyboardInterrupt",
     "evalue": "Interrupted by user",
     "output_type": "error",
     "traceback": [
      "\u001b[1;31m---------------------------------------------------------------------------\u001b[0m",
      "\u001b[1;31mKeyboardInterrupt\u001b[0m                         Traceback (most recent call last)",
      "\u001b[1;32m~\\AppData\\Local\\Temp/ipykernel_3532/3030747218.py\u001b[0m in \u001b[0;36m<module>\u001b[1;34m\u001b[0m\n\u001b[0;32m    100\u001b[0m \u001b[1;33m\u001b[0m\u001b[0m\n\u001b[0;32m    101\u001b[0m \u001b[1;31m## ex-3\u001b[0m\u001b[1;33m\u001b[0m\u001b[1;33m\u001b[0m\u001b[0m\n\u001b[1;32m--> 102\u001b[1;33m \u001b[0mnum\u001b[0m \u001b[1;33m=\u001b[0m \u001b[0mint\u001b[0m\u001b[1;33m(\u001b[0m\u001b[0minput\u001b[0m\u001b[1;33m(\u001b[0m\u001b[0mprint\u001b[0m\u001b[1;33m(\u001b[0m\u001b[1;34m\"Enter a num:\\n\"\u001b[0m\u001b[1;33m)\u001b[0m\u001b[1;33m)\u001b[0m\u001b[1;33m)\u001b[0m\u001b[1;33m\u001b[0m\u001b[1;33m\u001b[0m\u001b[0m\n\u001b[0m\u001b[0;32m    103\u001b[0m \u001b[0mprime\u001b[0m\u001b[1;33m=\u001b[0m\u001b[1;32mTrue\u001b[0m\u001b[1;33m\u001b[0m\u001b[1;33m\u001b[0m\u001b[0m\n\u001b[0;32m    104\u001b[0m \u001b[1;32mfor\u001b[0m \u001b[0mi\u001b[0m \u001b[1;32min\u001b[0m \u001b[0mrange\u001b[0m\u001b[1;33m(\u001b[0m\u001b[1;36m2\u001b[0m\u001b[1;33m,\u001b[0m\u001b[0mnum\u001b[0m\u001b[1;33m)\u001b[0m\u001b[1;33m:\u001b[0m\u001b[1;33m\u001b[0m\u001b[1;33m\u001b[0m\u001b[0m\n",
      "\u001b[1;32m~\\anaconda3\\lib\\site-packages\\ipykernel\\kernelbase.py\u001b[0m in \u001b[0;36mraw_input\u001b[1;34m(self, prompt)\u001b[0m\n\u001b[0;32m   1004\u001b[0m                 \u001b[1;34m\"raw_input was called, but this frontend does not support input requests.\"\u001b[0m\u001b[1;33m\u001b[0m\u001b[1;33m\u001b[0m\u001b[0m\n\u001b[0;32m   1005\u001b[0m             )\n\u001b[1;32m-> 1006\u001b[1;33m         return self._input_request(\n\u001b[0m\u001b[0;32m   1007\u001b[0m             \u001b[0mstr\u001b[0m\u001b[1;33m(\u001b[0m\u001b[0mprompt\u001b[0m\u001b[1;33m)\u001b[0m\u001b[1;33m,\u001b[0m\u001b[1;33m\u001b[0m\u001b[1;33m\u001b[0m\u001b[0m\n\u001b[0;32m   1008\u001b[0m             \u001b[0mself\u001b[0m\u001b[1;33m.\u001b[0m\u001b[0m_parent_ident\u001b[0m\u001b[1;33m[\u001b[0m\u001b[1;34m\"shell\"\u001b[0m\u001b[1;33m]\u001b[0m\u001b[1;33m,\u001b[0m\u001b[1;33m\u001b[0m\u001b[1;33m\u001b[0m\u001b[0m\n",
      "\u001b[1;32m~\\anaconda3\\lib\\site-packages\\ipykernel\\kernelbase.py\u001b[0m in \u001b[0;36m_input_request\u001b[1;34m(self, prompt, ident, parent, password)\u001b[0m\n\u001b[0;32m   1049\u001b[0m             \u001b[1;32mexcept\u001b[0m \u001b[0mKeyboardInterrupt\u001b[0m\u001b[1;33m:\u001b[0m\u001b[1;33m\u001b[0m\u001b[1;33m\u001b[0m\u001b[0m\n\u001b[0;32m   1050\u001b[0m                 \u001b[1;31m# re-raise KeyboardInterrupt, to truncate traceback\u001b[0m\u001b[1;33m\u001b[0m\u001b[1;33m\u001b[0m\u001b[0m\n\u001b[1;32m-> 1051\u001b[1;33m                 \u001b[1;32mraise\u001b[0m \u001b[0mKeyboardInterrupt\u001b[0m\u001b[1;33m(\u001b[0m\u001b[1;34m\"Interrupted by user\"\u001b[0m\u001b[1;33m)\u001b[0m \u001b[1;32mfrom\u001b[0m \u001b[1;32mNone\u001b[0m\u001b[1;33m\u001b[0m\u001b[1;33m\u001b[0m\u001b[0m\n\u001b[0m\u001b[0;32m   1052\u001b[0m             \u001b[1;32mexcept\u001b[0m \u001b[0mException\u001b[0m\u001b[1;33m:\u001b[0m\u001b[1;33m\u001b[0m\u001b[1;33m\u001b[0m\u001b[0m\n\u001b[0;32m   1053\u001b[0m                 \u001b[0mself\u001b[0m\u001b[1;33m.\u001b[0m\u001b[0mlog\u001b[0m\u001b[1;33m.\u001b[0m\u001b[0mwarning\u001b[0m\u001b[1;33m(\u001b[0m\u001b[1;34m\"Invalid Message:\"\u001b[0m\u001b[1;33m,\u001b[0m \u001b[0mexc_info\u001b[0m\u001b[1;33m=\u001b[0m\u001b[1;32mTrue\u001b[0m\u001b[1;33m)\u001b[0m\u001b[1;33m\u001b[0m\u001b[1;33m\u001b[0m\u001b[0m\n",
      "\u001b[1;31mKeyboardInterrupt\u001b[0m: Interrupted by user"
     ]
    }
   ],
   "source": [
    "### loops in Python\n",
    "\n",
    "######### while loops#######\n",
    "i=0\n",
    "while i<10 :\n",
    "    print(\"Yes \" + str(i))\n",
    "    i+=1                              #----------------> in python i++ is replaced by i+=1\n",
    "print(\"******************\")    \n",
    "\n",
    "\n",
    "## break statement\n",
    "i=0\n",
    "while i<10:\n",
    "    print(\"Yes \" + str(i))\n",
    "      if(i==3):\n",
    "        break\n",
    "    i+=1\n",
    "print(\"******************\")    \n",
    "    \n",
    "    \n",
    "## continue statement\n",
    "i=0\n",
    "while i<10:\n",
    "    i+=1\n",
    "    if(i==3):\n",
    "    continue\n",
    "    print(i)\n",
    "print(\"******************\")    \n",
    "\n",
    "\n",
    "## else statement with while loop\n",
    "i=1 \n",
    "while i<6:\n",
    "    print(i)\n",
    "    i+=1\n",
    "else:\n",
    "    print(\"End!\")\n",
    "print(\"******************\")  \n",
    "\n",
    "\n",
    "############### for loop ---> List  #################\n",
    "fruits = [\"apple\",\"banana\",\"chickoo\"]\n",
    "for x in fruits:\n",
    "    print(x)\n",
    "print(\"******************\")  \n",
    "\n",
    "#break in for loop\n",
    "fruits = [\"apple\",\"mango\",\"cherry\",\"banana\",\"chickoo\"]\n",
    "for x in fruits:\n",
    "    if(x==\"banana\"):\n",
    "        break\n",
    "    print(x)\n",
    "print(\"******************\")  \n",
    "\n",
    "#continue in for loop\n",
    "fruits = [\"apple\",\"mango\",\"cherry\",\"banana\",\"chickoo\"]\n",
    "for x in fruits:\n",
    "    if(x==\"banana\"):\n",
    "        continue\n",
    "    print(x)\n",
    "print(\"******************\") \n",
    "\n",
    "## \"range\" in for loop\n",
    "for x in range(10):\n",
    "   print(x)\n",
    "print(\"******************\") \n",
    "\n",
    "\n",
    "for x in range(2,10):  #-----------------------> from starting number to lastnumber-1 here starting number=2 and lastnumber=10\n",
    "   print(x)\n",
    "print(\"******************\") \n",
    "\n",
    "\n",
    "for x in range(0,10,3): #--------------> skips every 2 numbers between 0 to 10-1 starting from 0\n",
    "   print(x)\n",
    "print(\"******************\") \n",
    "    \n",
    "for x in range(10):\n",
    "   print(x)\n",
    "else: print(\"finally finished\")\n",
    "print(\"******************\")   \n",
    "\n",
    "\n",
    "## see \"pass\" keyword importance from w3 or google \n",
    "\n",
    "# exercise of multiplication table \n",
    "num = 5\n",
    "for i in range(1,11):\n",
    "    print(str(num) + str(\"X\") + str(i) + str(\"=\") + str(num*i))\n",
    "#                  or\n",
    "for i in range(1,11):\n",
    "    print(f\"{num} X {i} = {num*i}\")\n",
    "    \n",
    "## ex-2\n",
    "l1 = [\"hetvi\",\"rajvi\",\"Harshvi\",\"ruchi\"]\n",
    "\n",
    "for i in l1:\n",
    "    if i.startswith(\"r\"):\n",
    "        print(\"hello \" + i)\n",
    "        \n",
    "## ex-3\n",
    "num = int(input(print(\"Enter a num:\\n\")))\n",
    "prime=True\n",
    "for i in range(2,num):\n",
    "    if(num%i == 0):\n",
    "        prime = False\n",
    "        break\n",
    "\n",
    "if prime:\n",
    "    print(\"Number is prime\")\n",
    "else:\n",
    "    print(\"Number is composite\")\n",
    "    \n",
    "\n",
    "    \n"
   ]
  },
  {
   "cell_type": "code",
   "execution_count": 270,
   "id": "3b662acb",
   "metadata": {},
   "outputs": [
    {
     "name": "stdout",
     "output_type": "stream",
     "text": [
      "45is the largest number among these three numbers\n"
     ]
    }
   ],
   "source": [
    "### functions #########\n",
    "# example:\n",
    "def Maximum(num1,num2,num3):\n",
    "    if(num1>num2):\n",
    "        if(num1>num3):\n",
    "            return num1\n",
    "        else:\n",
    "            return num3\n",
    "    else:\n",
    "        if(num2>num3):\n",
    "            return num2\n",
    "        else:\n",
    "            return num3\n",
    "        \n",
    "m = Maximum(3,45,5)\n",
    "print(str(m) + str(\" is the largest number among these three numbers\") )\n"
   ]
  },
  {
   "cell_type": "code",
   "execution_count": null,
   "id": "8ff9560f",
   "metadata": {},
   "outputs": [],
   "source": [
    "###    file input / output in python ######\n",
    "### Refer \"code with harry 12 hours video\"  for this topic and its exercise of this topic and \n",
    "#    then if time allows do more in deep or else that will be enough"
   ]
  },
  {
   "cell_type": "code",
   "execution_count": null,
   "id": "aab9d143",
   "metadata": {},
   "outputs": [],
   "source": [
    "###  object oriented programming in python ## \n",
    "# Also rewise from code with harry video as well as w3 school as well"
   ]
  },
  {
   "cell_type": "code",
   "execution_count": 1,
   "id": "410227f8",
   "metadata": {},
   "outputs": [
    {
     "data": {
      "text/plain": [
       "5.0"
      ]
     },
     "execution_count": 1,
     "metadata": {},
     "output_type": "execute_result"
    }
   ],
   "source": [
    "# 'generic import' of math module\n",
    "import math\n",
    "math.sqrt(25)"
   ]
  },
  {
   "cell_type": "code",
   "execution_count": 2,
   "id": "ddad9e97",
   "metadata": {},
   "outputs": [
    {
     "data": {
      "text/plain": [
       "5.0"
      ]
     },
     "execution_count": 2,
     "metadata": {},
     "output_type": "execute_result"
    }
   ],
   "source": [
    "# import a function\n",
    "from math import sqrt\n",
    "sqrt(25)    # no longer have to reference the module"
   ]
  },
  {
   "cell_type": "code",
   "execution_count": 3,
   "id": "924ef9dd",
   "metadata": {},
   "outputs": [],
   "source": [
    "# import multiple functions at once\n",
    "from math import cos, floor"
   ]
  },
  {
   "cell_type": "code",
   "execution_count": 4,
   "id": "ed3c90bf",
   "metadata": {},
   "outputs": [],
   "source": [
    "# import all functions in a module (generally discouraged)\n",
    "from math import *"
   ]
  },
  {
   "cell_type": "code",
   "execution_count": 5,
   "id": "b631f134",
   "metadata": {},
   "outputs": [],
   "source": [
    "# define an alias\n",
    "import datetime as dt"
   ]
  },
  {
   "cell_type": "code",
   "execution_count": 6,
   "id": "5e71a085",
   "metadata": {},
   "outputs": [
    {
     "name": "stdout",
     "output_type": "stream",
     "text": [
      "['__doc__', '__loader__', '__name__', '__package__', '__spec__', 'acos', 'acosh', 'asin', 'asinh', 'atan', 'atan2', 'atanh', 'ceil', 'comb', 'copysign', 'cos', 'cosh', 'degrees', 'dist', 'e', 'erf', 'erfc', 'exp', 'expm1', 'fabs', 'factorial', 'floor', 'fmod', 'frexp', 'fsum', 'gamma', 'gcd', 'hypot', 'inf', 'isclose', 'isfinite', 'isinf', 'isnan', 'isqrt', 'lcm', 'ldexp', 'lgamma', 'log', 'log10', 'log1p', 'log2', 'modf', 'nan', 'nextafter', 'perm', 'pi', 'pow', 'prod', 'radians', 'remainder', 'sin', 'sinh', 'sqrt', 'tan', 'tanh', 'tau', 'trunc', 'ulp']\n"
     ]
    }
   ],
   "source": [
    "# show all functions in math module\n",
    "print(dir(math))"
   ]
  },
  {
   "cell_type": "code",
   "execution_count": 14,
   "id": "d7e60d1f",
   "metadata": {},
   "outputs": [
    {
     "data": {
      "text/plain": [
       "NoneType"
      ]
     },
     "execution_count": 14,
     "metadata": {},
     "output_type": "execute_result"
    }
   ],
   "source": [
    "type(None)"
   ]
  },
  {
   "cell_type": "code",
   "execution_count": 10,
   "id": "37527a70",
   "metadata": {},
   "outputs": [
    {
     "data": {
      "text/plain": [
       "str"
      ]
     },
     "execution_count": 10,
     "metadata": {},
     "output_type": "execute_result"
    }
   ],
   "source": [
    "type(\"two\")"
   ]
  },
  {
   "cell_type": "code",
   "execution_count": 11,
   "id": "badc9bc4",
   "metadata": {},
   "outputs": [
    {
     "data": {
      "text/plain": [
       "float"
      ]
     },
     "execution_count": 11,
     "metadata": {},
     "output_type": "execute_result"
    }
   ],
   "source": [
    "type(2.0)"
   ]
  },
  {
   "cell_type": "code",
   "execution_count": 12,
   "id": "8a62ddc6",
   "metadata": {},
   "outputs": [
    {
     "data": {
      "text/plain": [
       "int"
      ]
     },
     "execution_count": 12,
     "metadata": {},
     "output_type": "execute_result"
    }
   ],
   "source": [
    "type(2)"
   ]
  },
  {
   "cell_type": "code",
   "execution_count": 13,
   "id": "f62ffc1a",
   "metadata": {},
   "outputs": [
    {
     "data": {
      "text/plain": [
       "bool"
      ]
     },
     "execution_count": 13,
     "metadata": {},
     "output_type": "execute_result"
    }
   ],
   "source": [
    "type(True)"
   ]
  },
  {
   "cell_type": "code",
   "execution_count": 15,
   "id": "b10d8ddb",
   "metadata": {},
   "outputs": [
    {
     "data": {
      "text/plain": [
       "False"
      ]
     },
     "execution_count": 15,
     "metadata": {},
     "output_type": "execute_result"
    }
   ],
   "source": [
    "isinstance(2.0, int)"
   ]
  },
  {
   "cell_type": "code",
   "execution_count": 16,
   "id": "51d58ae0",
   "metadata": {},
   "outputs": [
    {
     "data": {
      "text/plain": [
       "True"
      ]
     },
     "execution_count": 16,
     "metadata": {},
     "output_type": "execute_result"
    }
   ],
   "source": [
    "isinstance(2.0, (int, float))"
   ]
  },
  {
   "cell_type": "code",
   "execution_count": 18,
   "id": "3b0584c8",
   "metadata": {},
   "outputs": [
    {
     "name": "stdout",
     "output_type": "stream",
     "text": [
      "positive\n"
     ]
    }
   ],
   "source": [
    "# single-line if statement (sometimes discouraged)\n",
    "x=5\n",
    "if x > 0: print('positive')"
   ]
  },
  {
   "cell_type": "code",
   "execution_count": 19,
   "id": "e1a8b887",
   "metadata": {},
   "outputs": [
    {
     "data": {
      "text/plain": [
       "'zero or negative'"
      ]
     },
     "execution_count": 19,
     "metadata": {},
     "output_type": "execute_result"
    }
   ],
   "source": [
    "# single-line if/else statement (sometimes discouraged), known as a 'ternary operator'\n",
    "x=-10\n",
    "'positive' if x > 0 else 'zero or negative'"
   ]
  },
  {
   "cell_type": "markdown",
   "id": "ff3043dd",
   "metadata": {},
   "source": [
    "# List and its important methods"
   ]
  },
  {
   "cell_type": "code",
   "execution_count": 20,
   "id": "e59243a4",
   "metadata": {},
   "outputs": [],
   "source": [
    "# create an empty list (two ways)                                   ************** IMP ***************\n",
    "empty_list = []\n",
    "empty_list = list()"
   ]
  },
  {
   "cell_type": "code",
   "execution_count": 21,
   "id": "e71e6dfb",
   "metadata": {},
   "outputs": [],
   "source": [
    "# create a list\n",
    "simpsons = ['homer', 'marge', 'bart']"
   ]
  },
  {
   "cell_type": "code",
   "execution_count": 22,
   "id": "32997009",
   "metadata": {},
   "outputs": [
    {
     "data": {
      "text/plain": [
       "'homer'"
      ]
     },
     "execution_count": 22,
     "metadata": {},
     "output_type": "execute_result"
    }
   ],
   "source": [
    "# print element 0\n",
    "simpsons[0]"
   ]
  },
  {
   "cell_type": "code",
   "execution_count": 23,
   "id": "98cbd4ca",
   "metadata": {},
   "outputs": [
    {
     "data": {
      "text/plain": [
       "3"
      ]
     },
     "execution_count": 23,
     "metadata": {},
     "output_type": "execute_result"
    }
   ],
   "source": [
    "len(simpsons)"
   ]
  },
  {
   "cell_type": "code",
   "execution_count": 24,
   "id": "03f7b9c3",
   "metadata": {},
   "outputs": [
    {
     "data": {
      "text/plain": [
       "['homer', 'marge', 'bart', 'lisa']"
      ]
     },
     "execution_count": 24,
     "metadata": {},
     "output_type": "execute_result"
    }
   ],
   "source": [
    "# append element to end\n",
    "simpsons.append('lisa')\n",
    "simpsons"
   ]
  },
  {
   "cell_type": "code",
   "execution_count": 25,
   "id": "0c26194e",
   "metadata": {},
   "outputs": [
    {
     "data": {
      "text/plain": [
       "['homer', 'marge', 'bart', 'lisa', 'itchy', 'scratchy']"
      ]
     },
     "execution_count": 25,
     "metadata": {},
     "output_type": "execute_result"
    }
   ],
   "source": [
    "# append multiple elements to end\n",
    "simpsons.extend(['itchy', 'scratchy'])\n",
    "simpsons"
   ]
  },
  {
   "cell_type": "code",
   "execution_count": 26,
   "id": "019ae367",
   "metadata": {},
   "outputs": [
    {
     "data": {
      "text/plain": [
       "['maggie', 'homer', 'marge', 'bart', 'lisa', 'itchy', 'scratchy']"
      ]
     },
     "execution_count": 26,
     "metadata": {},
     "output_type": "execute_result"
    }
   ],
   "source": [
    "# insert element at index 0 (shifts everything right)\n",
    "simpsons.insert(0, 'maggie')\n",
    "simpsons"
   ]
  },
  {
   "cell_type": "code",
   "execution_count": 27,
   "id": "e186f6ab",
   "metadata": {},
   "outputs": [
    {
     "data": {
      "text/plain": [
       "['maggie', 'homer', 'marge', 'lisa', 'itchy', 'scratchy']"
      ]
     },
     "execution_count": 27,
     "metadata": {},
     "output_type": "execute_result"
    }
   ],
   "source": [
    "# search for first instance and remove it\n",
    "simpsons.remove('bart')\n",
    "simpsons"
   ]
  },
  {
   "cell_type": "code",
   "execution_count": 28,
   "id": "5d66b4a8",
   "metadata": {},
   "outputs": [
    {
     "data": {
      "text/plain": [
       "'maggie'"
      ]
     },
     "execution_count": 28,
     "metadata": {},
     "output_type": "execute_result"
    }
   ],
   "source": [
    "# remove element 0 and return it\n",
    "simpsons.pop(0)"
   ]
  },
  {
   "cell_type": "code",
   "execution_count": 29,
   "id": "977f0892",
   "metadata": {},
   "outputs": [
    {
     "data": {
      "text/plain": [
       "['marge', 'lisa', 'itchy', 'scratchy']"
      ]
     },
     "execution_count": 29,
     "metadata": {},
     "output_type": "execute_result"
    }
   ],
   "source": [
    "# remove element 0 (does not return it)\n",
    "del simpsons[0]\n",
    "simpsons"
   ]
  },
  {
   "cell_type": "code",
   "execution_count": 30,
   "id": "aedac783",
   "metadata": {},
   "outputs": [
    {
     "data": {
      "text/plain": [
       "['krusty', 'lisa', 'itchy', 'scratchy']"
      ]
     },
     "execution_count": 30,
     "metadata": {},
     "output_type": "execute_result"
    }
   ],
   "source": [
    "# replace element 0\n",
    "simpsons[0] = 'krusty'\n",
    "simpsons"
   ]
  },
  {
   "cell_type": "code",
   "execution_count": 31,
   "id": "56b6a665",
   "metadata": {},
   "outputs": [
    {
     "data": {
      "text/plain": [
       "['krusty', 'lisa', 'itchy', 'scratchy', 'ned', 'rod', 'todd']"
      ]
     },
     "execution_count": 31,
     "metadata": {},
     "output_type": "execute_result"
    }
   ],
   "source": [
    "# concatenate lists (slower than 'extend' method)\n",
    "neighbors = simpsons + ['ned', 'rod', 'todd']\n",
    "neighbors"
   ]
  },
  {
   "cell_type": "code",
   "execution_count": 34,
   "id": "169cb64e",
   "metadata": {},
   "outputs": [
    {
     "data": {
      "text/plain": [
       "['itchy', 'krusty', 'lisa', 'scratchy']"
      ]
     },
     "execution_count": 34,
     "metadata": {},
     "output_type": "execute_result"
    }
   ],
   "source": [
    "#Sort a list in place (modifies but does not return the list):\n",
    "#1\n",
    "simpsons.sort()\n",
    "simpsons"
   ]
  },
  {
   "cell_type": "code",
   "execution_count": 35,
   "id": "ffccde6c",
   "metadata": {},
   "outputs": [
    {
     "data": {
      "text/plain": [
       "['scratchy', 'lisa', 'krusty', 'itchy']"
      ]
     },
     "execution_count": 35,
     "metadata": {},
     "output_type": "execute_result"
    }
   ],
   "source": [
    "# sort in reverse\n",
    "#2\n",
    "simpsons.sort(reverse=True)\n",
    "simpsons"
   ]
  },
  {
   "cell_type": "code",
   "execution_count": 36,
   "id": "cb61e9bd",
   "metadata": {},
   "outputs": [
    {
     "data": {
      "text/plain": [
       "['lisa', 'itchy', 'krusty', 'scratchy']"
      ]
     },
     "execution_count": 36,
     "metadata": {},
     "output_type": "execute_result"
    }
   ],
   "source": [
    "# sort by a key length\n",
    "#3\n",
    "simpsons.sort(key=len)\n",
    "simpsons"
   ]
  },
  {
   "cell_type": "code",
   "execution_count": 37,
   "id": "1f9c710b",
   "metadata": {},
   "outputs": [
    {
     "data": {
      "text/plain": [
       "['itchy', 'krusty', 'lisa', 'scratchy']"
      ]
     },
     "execution_count": 37,
     "metadata": {},
     "output_type": "execute_result"
    }
   ],
   "source": [
    "#Return a sorted list (does not modify the original list):\n",
    "#1\n",
    "sorted(simpsons)"
   ]
  },
  {
   "cell_type": "code",
   "execution_count": 38,
   "id": "a2b2d97e",
   "metadata": {},
   "outputs": [
    {
     "data": {
      "text/plain": [
       "['scratchy', 'lisa', 'krusty', 'itchy']"
      ]
     },
     "execution_count": 38,
     "metadata": {},
     "output_type": "execute_result"
    }
   ],
   "source": [
    "#2\n",
    "sorted(simpsons, reverse=True)"
   ]
  },
  {
   "cell_type": "code",
   "execution_count": 39,
   "id": "e4ea91c0",
   "metadata": {},
   "outputs": [
    {
     "data": {
      "text/plain": [
       "['lisa', 'itchy', 'krusty', 'scratchy']"
      ]
     },
     "execution_count": 39,
     "metadata": {},
     "output_type": "execute_result"
    }
   ],
   "source": [
    "#3\n",
    "sorted(simpsons, key=len)"
   ]
  },
  {
   "cell_type": "code",
   "execution_count": 40,
   "id": "96fbc6d6",
   "metadata": {},
   "outputs": [
    {
     "data": {
      "text/plain": [
       "[10, 20, 30, 40, 50]"
      ]
     },
     "execution_count": 40,
     "metadata": {},
     "output_type": "execute_result"
    }
   ],
   "source": [
    "#Insert into an already sorted list, and keep it sorted: using \"insort\" function of biset package\n",
    "num = [10, 20, 40, 50]\n",
    "from bisect import insort\n",
    "insort(num, 30)\n",
    "num  #----->prints \"num\" list"
   ]
  },
  {
   "cell_type": "code",
   "execution_count": 42,
   "id": "f9f8d85b",
   "metadata": {},
   "outputs": [
    {
     "data": {
      "text/plain": [
       "[10, 20, 30, 40, 50]"
      ]
     },
     "execution_count": 42,
     "metadata": {},
     "output_type": "execute_result"
    }
   ],
   "source": [
    "# create a second reference to the same list\n",
    "same_num = num\n",
    "same_num #----->prints \"num\" list, To print more than one thing, write \" print(same_num) \" and in next line \" print(num) \""
   ]
  },
  {
   "cell_type": "code",
   "execution_count": 43,
   "id": "330c6936",
   "metadata": {},
   "outputs": [
    {
     "name": "stdout",
     "output_type": "stream",
     "text": [
      "[0, 20, 30, 40, 50]\n",
      "[0, 20, 30, 40, 50]\n"
     ]
    }
   ],
   "source": [
    "# modifies both 'num' and 'same_num'\n",
    "same_num[0] = 0\n",
    "print(num)\n",
    "print(same_num)"
   ]
  },
  {
   "cell_type": "code",
   "execution_count": 44,
   "id": "d605c608",
   "metadata": {},
   "outputs": [],
   "source": [
    "# copy a list (two ways)\n",
    "new_num = num[:]\n",
    "new_num = list(num)"
   ]
  },
  {
   "cell_type": "markdown",
   "id": "f664feed",
   "metadata": {},
   "source": [
    "# Tuples and its important function"
   ]
  },
  {
   "cell_type": "code",
   "execution_count": 3,
   "id": "1ed249f8",
   "metadata": {},
   "outputs": [
    {
     "name": "stdout",
     "output_type": "stream",
     "text": [
      "<class 'tuple'>\n"
     ]
    }
   ],
   "source": [
    "## Tuples ##                                              ****************** IMP ***************************\n",
    "# creating empty tuple\n",
    "digit=()\n",
    "digit= tuple()\n",
    "print(type(digit))\n",
    "\n",
    "# create a tuple directly\n",
    "digits = (0, 1, 'two')\n",
    "\n",
    "# create a tuple from a list\n",
    "digits = tuple([0, 1, 'two']) \n",
    "#Imp: list is taken in tuples as element and tuples n list both are taken in as element in dictionary\n",
    "\n",
    "# trailing comma is required to indicate it's a tuple\n",
    "zero = (0,)"
   ]
  },
  {
   "cell_type": "code",
   "execution_count": 47,
   "id": "230d6000",
   "metadata": {},
   "outputs": [
    {
     "name": "stdout",
     "output_type": "stream",
     "text": [
      "two\n",
      "3\n",
      "1\n",
      "2\n"
     ]
    }
   ],
   "source": [
    "# examine tuples\n",
    "print(digits[2])\n",
    "\n",
    "print(len(digits))\n",
    "\n",
    "# counts the number of instances of that value\n",
    "print(digits.count(0))\n",
    "\n",
    "# returns the index of the first instance of that value\n",
    "print(digits.index(\"two\"))"
   ]
  },
  {
   "cell_type": "code",
   "execution_count": 48,
   "id": "9a4628d1",
   "metadata": {},
   "outputs": [
    {
     "data": {
      "text/plain": [
       "(0, 1, 'two', 3, 4)"
      ]
     },
     "execution_count": 48,
     "metadata": {},
     "output_type": "execute_result"
    }
   ],
   "source": [
    "#Modify a tuple:\n",
    "\n",
    "# elements of a tuple cannot be modified (this would throw an error)       modificstion can take place in dictionary,list\n",
    "# digits[2] = 2 \n",
    "\n",
    "# concatenate tuples\n",
    "digits = digits + (3, 4)\n",
    "digits"
   ]
  },
  {
   "cell_type": "code",
   "execution_count": 1,
   "id": "93fad30b",
   "metadata": {},
   "outputs": [
    {
     "name": "stdout",
     "output_type": "stream",
     "text": [
      "(3, 4, 3, 4)\n",
      "[(10, 40), (20, 30), (20, 60)]\n",
      "<class 'list'>\n",
      "male\n",
      "10\n",
      "simpson\n"
     ]
    }
   ],
   "source": [
    "#Other tuple operations:\n",
    "\n",
    "# create a single tuple with elements repeated (also works with lists)\n",
    "print((3, 4) * 2)\n",
    "\n",
    "# sort a list of tuples\n",
    "tens = [(20, 60), (10, 40), (20, 30)]     #------>list containing tuples\n",
    "print(sorted(tens))   # sorts by first element in tuple, then second element\n",
    "print(type(tens))  \n",
    "\n",
    "# tuple unpacking\n",
    "bart = ('male', 10, 'simpson')    # create a tuple\n",
    "(sex, age, surname) = bart        # assign three values at once\n",
    "print(sex)\n",
    "print(age)\n",
    "print(surname)"
   ]
  },
  {
   "cell_type": "markdown",
   "id": "057402ff",
   "metadata": {},
   "source": [
    "# strings"
   ]
  },
  {
   "cell_type": "code",
   "execution_count": 57,
   "id": "5ea1b10c",
   "metadata": {},
   "outputs": [
    {
     "name": "stdout",
     "output_type": "stream",
     "text": [
      "42\n",
      "I\n",
      "10\n",
      "I like\n",
      "you\n",
      "u\n",
      "*********************************\n",
      "i like you\n",
      "I LIKE YOU\n",
      "True\n",
      "True\n",
      "False\n",
      "2\n",
      "-1\n",
      "I love you\n",
      "************************************\n",
      "['I', 'like', 'you']\n",
      "['I', 'like', 'you']\n",
      "['a', ' an', ' the']\n",
      "**************************************\n",
      "larry curly moe\n",
      "The meaning of life is 42\n",
      "ham and cheese\n",
      "raining cats and dogs\n",
      "raining cats and dogs\n",
      "raining cats and dogs\n",
      "first line\n",
      "second line\n",
      "first line\\nfirst line\n"
     ]
    }
   ],
   "source": [
    "# Strings\n",
    "\n",
    "#String properties: iterable, immutable\n",
    "\n",
    "# convert another data type into a string\n",
    "s = str(42)\n",
    "print(s)\n",
    "\n",
    "# create a string directly\n",
    "s = 'I like you'\n",
    "\n",
    "#Examine a string:\n",
    "\n",
    "print(s[0])\n",
    "\n",
    "print(len(s))\n",
    "\n",
    "#String slicing is like list slicing:\n",
    "\n",
    "print(s[:6])\n",
    "\n",
    "print(s[7:])\n",
    "\n",
    "print(s[-1])\n",
    "\n",
    "##Basic string methods (does not modify the original string):\n",
    "print(\"*********************************\")\n",
    "print(s.lower())\n",
    "\n",
    "print(s.upper())\n",
    "\n",
    "print(s.startswith('I'))\n",
    "\n",
    "print(s.endswith('you'))\n",
    "\n",
    "# checks whether any character in the string is a digit\n",
    "print(s.isdigit())\n",
    "\n",
    "# returns index of first occurrence, but doesn't support regex\n",
    "print(s.find('like'))\n",
    "\n",
    "# returns -1 since not found\n",
    "print(s.find('hate'))\n",
    "\n",
    "# replaces all instances of 'like' with 'love'\n",
    "print(s.replace('like', 'love'))\n",
    "\n",
    "##Split a string:\n",
    "print(\"************************************\")\n",
    "# split a string into a list of substrings separated by a delimiter\n",
    "print(s.split(' '))\n",
    "\n",
    "# equivalent (since space is the default delimiter)\n",
    "print(s.split())\n",
    "\n",
    "s2 = 'a, an, the'\n",
    "print(s2.split(','))\n",
    "\n",
    "##Join or concatenate strings:\n",
    "print(\"**************************************\")\n",
    "# join a list of strings into one string using a delimiter\n",
    "stooges = ['larry', 'curly', 'moe']\n",
    "using_Join = ' '.join(stooges)\n",
    "print(using_Join)\n",
    "# output : 'larry curly moe' (should be.........)  \n",
    "\n",
    "# concatenate strings\n",
    "s3 = 'The meaning of life is'\n",
    "s4 = '42'\n",
    "finalString = s3 + ' ' + s4\n",
    "print(finalString)\n",
    "\n",
    "\n",
    "##Remove whitespace from the start and end of a string:\n",
    "\n",
    "s5 = '  ham and cheese  '\n",
    "print(s5.strip())\n",
    "\n",
    "##String substitutions:\n",
    "\n",
    "# old way\n",
    "print('raining %s and %s' % ('cats', 'dogs'))\n",
    "\n",
    "\n",
    "# new way\n",
    "print('raining {} and {}'.format('cats', 'dogs'))\n",
    "\n",
    "\n",
    "# new way (using named arguments)\n",
    "print('raining {arg1} and {arg2}'.format(arg1='cats', arg2='dogs'))\n",
    "\n",
    "\n",
    "#String formatting (more examples):\n",
    "\n",
    "##Normal strings versus raw strings:\n",
    "\n",
    "# normal strings allow for escaped characters\n",
    "print('first line\\nsecond line')\n",
    "\n",
    "# raw strings treat backslashes as literal characters\n",
    "print(r'first line\\nfirst line')\n"
   ]
  },
  {
   "cell_type": "markdown",
   "id": "3d755b50",
   "metadata": {},
   "source": [
    "# Dictionary and its important methods"
   ]
  },
  {
   "cell_type": "code",
   "execution_count": 61,
   "id": "245fd2a9",
   "metadata": {},
   "outputs": [
    {
     "name": "stdout",
     "output_type": "stream",
     "text": [
      "{'dad': 'homer', 'mom': 'marge', 'size': 6}\n",
      "{'dad': 'homer', 'mom': 'marge', 'size': 6}\n",
      "homer\n",
      "3\n",
      "True\n",
      "False\n",
      "dict_keys(['dad', 'mom', 'size'])\n",
      "dict_values(['homer', 'marge', 6])\n",
      "dict_items([('dad', 'homer'), ('mom', 'marge'), ('size', 6)])\n",
      "{'dad': 'homer', 'mom': 'marge', 'size': 6, 'cat': 'snowball'}\n",
      "{'dad': 'homer', 'mom': 'marge', 'size': 6, 'cat': 'snowball ii'}\n",
      "{'dad': 'homer', 'mom': 'marge', 'size': 6}\n",
      "{'dad': 'homer', 'mom': 'marge', 'size': 6, 'kids': ['bart', 'lisa']}\n",
      "homer\n",
      "{'mom': 'marge', 'size': 6, 'kids': ['bart', 'lisa'], 'baby': 'maggie', 'grandpa': 'abe'}\n",
      "******************************************************\n",
      "marge\n",
      "marge\n",
      "None\n",
      "not found\n",
      "bart\n",
      "{'mom': 'marge', 'size': 6, 'kids': ['bart'], 'baby': 'maggie', 'grandpa': 'abe'}\n"
     ]
    }
   ],
   "source": [
    "# Dictionary.....................                                     *************** IMP *****************************\n",
    "#create an empty dictionary (two ways)\n",
    "empty_dict = {}\n",
    "empty_dict = dict()\n",
    "\n",
    "# create a dictionary (two ways)\n",
    "family = {'dad':'homer', 'mom':'marge', 'size':6}\n",
    "family = dict(dad='homer', mom='marge', size=6)\n",
    "print(family)\n",
    "\n",
    "# convert a list of tuples into a dictionary  \n",
    "##@@#Imp: list is taken in tuples as element and tuples and lists(as values) both are taken in as element in dictionary\n",
    "list_of_tuples = [('dad', 'homer'), ('mom', 'marge'), ('size', 6)]\n",
    "family = dict(list_of_tuples)\n",
    "print(family)\n",
    "\n",
    "##Examine a dictionary:\n",
    "\n",
    "# pass a key to return its value\n",
    "print(family['dad'])\n",
    "\n",
    "# return the number of key-value pairs\n",
    "print(len(family))\n",
    "\n",
    "# check if key exists in dictionary\n",
    "print('mom' in family)\n",
    "\n",
    "# dictionary values are not checked\n",
    "print('marge' in family)\n",
    "\n",
    "# returns a list of keys (Python 2) or an iterable view (Python 3)\n",
    "print(family.keys())\n",
    "\n",
    "# returns a list of values (Python 2) or an iterable view (Python 3)\n",
    "print(family.values())\n",
    "\n",
    "# returns a list of key-value pairs (Python 2) or an iterable view (Python 3)\n",
    "print(family.items())\n",
    "\n",
    "\n",
    "##Modify a dictionary (does not return the dictionary):   Modification is not allowed in tuples but allowed in dict\n",
    "\n",
    "# add a new entry\n",
    "family['cat'] = 'snowball'\n",
    "print(family)\n",
    "\n",
    "# edit an existing entry\n",
    "family['cat'] = 'snowball ii'\n",
    "print(family)\n",
    "\n",
    "# delete an entry\n",
    "del family['cat']\n",
    "print(family)\n",
    "\n",
    "# dictionary value can be a list\n",
    "family['kids'] = ['bart', 'lisa']\n",
    "print(family)\n",
    "\n",
    "# remove an entry and return the value\n",
    "print(family.pop('dad'))\n",
    "\n",
    "# add multiple entries\n",
    "family.update({'baby':'maggie', 'grandpa':'abe'})\n",
    "print(family)\n",
    "\n",
    "##Access values more safely with get:\n",
    "print(\"******************************************************\")\n",
    "print(family['mom'])\n",
    "\n",
    "# equivalent to a dictionary lookup\n",
    "print(family.get('mom'))\n",
    "\n",
    "# this would throw an error since the key does not exist\n",
    "# family['grandma']\n",
    "\n",
    "# return None if not found\n",
    "print(family.get('grandma'))\n",
    "\n",
    "# provide a default return value if not found\n",
    "print(family.get('grandma', 'not found'))\n",
    "\n",
    "##Access a list element within a dictionary:\n",
    "\n",
    "print(family['kids'][0])\n",
    "\n",
    "family['kids'].remove('lisa')\n",
    "print(family)\n",
    "\n"
   ]
  },
  {
   "cell_type": "markdown",
   "id": "83770a12",
   "metadata": {},
   "source": [
    "# set and its important methods"
   ]
  },
  {
   "cell_type": "code",
   "execution_count": 62,
   "id": "0e30e121",
   "metadata": {},
   "outputs": [
    {
     "name": "stdout",
     "output_type": "stream",
     "text": [
      "3\n",
      "True\n",
      "{'python'}\n",
      "{'r', 'viper', 'cobra', 'java', 'python'}\n",
      "{'r', 'java'}\n",
      "{'cobra', 'viper'}\n",
      "{'r', 'sql', 'java', 'python'}\n",
      "{'r', 'sql', 'java', 'python'}\n",
      "{'r', 'sql', 'python'}\n",
      "{'r', 'sql', 'python'}\n",
      "r\n",
      "set()\n",
      "{'spark', 'go'}\n",
      "[0, 1, 2, 9]\n"
     ]
    }
   ],
   "source": [
    "### set                                                            *************** IMP ***************************************\n",
    "\n",
    "#Set properties: unordered, iterable, mutable, can contain multiple data types\n",
    "#Made of unique elements (strings, numbers, or tuples)\n",
    "#Like dictionaries, but with keys only (no values)\n",
    "\n",
    "# create an empty set\n",
    "empty_set = set()\n",
    "\n",
    "# create a set directly\n",
    "languages = {'python', 'r', 'java'}\n",
    "\n",
    "# create a set from a list\n",
    "snakes = set(['cobra', 'viper', 'python'])\n",
    "\n",
    "##Examine a set:\n",
    "print(len(languages))\n",
    "\n",
    "print('python' in languages)\n",
    "\n",
    "##Set operations:\n",
    "# intersection\n",
    "print(languages & snakes)\n",
    "\n",
    "# union\n",
    "print(languages | snakes)\n",
    "\n",
    "# set difference\n",
    "print(languages - snakes)\n",
    "\n",
    "# set difference\n",
    "print(snakes - languages)\n",
    "\n",
    "##Modify a set (does not return the set):\n",
    "# add a new element\n",
    "languages.add('sql')\n",
    "print(languages)\n",
    "\n",
    "# try to add an existing element (ignored, no error)\n",
    "languages.add('r')\n",
    "print(languages)\n",
    "\n",
    "# remove an element\n",
    "languages.remove('java')\n",
    "print(languages)\n",
    "\n",
    "# try to remove a non-existing element (this would throw an error)\n",
    "# languages.remove('c')\n",
    "\n",
    "# remove an element if present, but ignore otherwise\n",
    "languages.discard('c')\n",
    "print(languages)\n",
    "\n",
    "# remove and return an arbitrary element\n",
    "print(languages.pop())\n",
    "\n",
    "# remove all elements\n",
    "languages.clear()\n",
    "print(languages)\n",
    "\n",
    "# add multiple elements (can also pass a set)\n",
    "languages.update(['go', 'spark'])\n",
    "print(languages)\n",
    "\n",
    "##Get a sorted list of unique elements from a list:\n",
    "print(sorted(set([9, 0, 2, 1, 0])))"
   ]
  },
  {
   "cell_type": "code",
   "execution_count": 74,
   "id": "788b0c67",
   "metadata": {},
   "outputs": [
    {
     "name": "stdout",
     "output_type": "stream",
     "text": [
      "this is text\n"
     ]
    }
   ],
   "source": [
    "## -----------------------------------Defining Functions\n",
    "#Define a function with no arguments and no return values:\n",
    "def print_text():\n",
    "    print('this is text')\n",
    "    \n",
    "# call the function\n",
    "print_text()"
   ]
  },
  {
   "cell_type": "code",
   "execution_count": 65,
   "id": "4c6c511a",
   "metadata": {},
   "outputs": [
    {
     "name": "stdout",
     "output_type": "stream",
     "text": [
      "3\n"
     ]
    }
   ],
   "source": [
    "#Define a function with one argument and no return values:\n",
    "\n",
    "def print_this(x):\n",
    "    print(x)\n",
    "    \n",
    "# call the function\n",
    "print_this(3)\n"
   ]
  },
  {
   "cell_type": "code",
   "execution_count": 67,
   "id": "3872b779",
   "metadata": {},
   "outputs": [
    {
     "name": "stdout",
     "output_type": "stream",
     "text": [
      "9\n"
     ]
    }
   ],
   "source": [
    "def square_this(x):\n",
    "    return x**2\n",
    "\n",
    "# call the function\n",
    "var=square_this(3)\n",
    "print(var)"
   ]
  },
  {
   "cell_type": "code",
   "execution_count": 4,
   "id": "39d92ba0",
   "metadata": {},
   "outputs": [
    {
     "name": "stdout",
     "output_type": "stream",
     "text": [
      "14\n",
      "14\n",
      "14\n",
      "6\n",
      "valid operations are add and sub\n",
      "0\n"
     ]
    }
   ],
   "source": [
    "#Define a function with two 'positional arguments' (no default values) and one 'keyword argument' (has a default value):\n",
    "\n",
    "def calc(a, b, op='add'):\n",
    "    if op == 'add':\n",
    "        return a + b\n",
    "    elif op == 'sub':\n",
    "        return a - b\n",
    "    else:\n",
    "        print('valid operations are add and sub')\n",
    "        return 0\n",
    "        \n",
    "# call the function\n",
    "print(calc(10, 4, op='add'))\n",
    "\n",
    "# unnamed arguments are inferred by position\n",
    "print(calc(10, 4, 'add'))\n",
    "\n",
    "# default for 'op' is 'add'\n",
    "print(calc(10, 4))\n",
    "\n",
    "print(calc(10, 4, 'sub'))\n",
    "\n",
    "print(calc(10, 4, 'div'))\n"
   ]
  },
  {
   "cell_type": "code",
   "execution_count": 5,
   "id": "7df7061c",
   "metadata": {},
   "outputs": [],
   "source": [
    "# Use pass as a placeholder if you haven't written the function body:\n",
    "\n",
    "def stub():\n",
    "    pass\n"
   ]
  },
  {
   "cell_type": "code",
   "execution_count": 73,
   "id": "8efc68b6",
   "metadata": {},
   "outputs": [
    {
     "name": "stdout",
     "output_type": "stream",
     "text": [
      "(1, 3)\n",
      "min num:1\n",
      "max num:3\n"
     ]
    }
   ],
   "source": [
    "# Return two values from a single function:\n",
    "def min_max(nums):\n",
    "    return min(nums), max(nums)\n",
    "\n",
    "# return values can be assigned to a single variable as a tuple\n",
    "nums = [1, 2, 3]\n",
    "ans = min_max(nums)\n",
    "print(ans)\n",
    "\n",
    "# return values can be assigned into multiple variables using tuple unpacking\n",
    "a, b = min_max(nums)\n",
    "print(f\"min num:{a}\")\n",
    "print(f\"max num:{b}\")"
   ]
  },
  {
   "cell_type": "code",
   "execution_count": 79,
   "id": "970cf31e",
   "metadata": {},
   "outputs": [
    {
     "name": "stdout",
     "output_type": "stream",
     "text": [
      "4\n",
      "4\n",
      "['marge', 'homer', 'bart']\n",
      "['marge', 'homer', 'bart']\n"
     ]
    }
   ],
   "source": [
    "# Anonymous (Lambda) Functions\n",
    "#Primarily used to temporarily define a function for use by another function\n",
    "\n",
    "#Example 1:\n",
    "# -------> define a function the \"usual\" way\n",
    "def squared(x):\n",
    "    return x**2\n",
    "\n",
    "print(squared(2))\n",
    "\n",
    "# --------> define an identical function using lambda\n",
    "squared = lambda x: x**2\n",
    "\n",
    "print(squared(2))\n",
    "\n",
    "#Example 2:\n",
    "#Sort a list of strings by the last letter:\n",
    "# without using lambda\n",
    "simpsons = ['homer', 'marge', 'bart']\n",
    "def last_letter(word):\n",
    "    return word[-1]\n",
    "\n",
    "print(sorted(simpsons, key=last_letter))\n",
    "\n",
    "# using lambda\n",
    "print(sorted(simpsons, key=lambda word: word[-1]))\n",
    "# ---------------------------------------------------------------------------------------------------"
   ]
  },
  {
   "cell_type": "code",
   "execution_count": 93,
   "id": "9bde319a",
   "metadata": {},
   "outputs": [
    {
     "name": "stdout",
     "output_type": "stream",
     "text": [
      "0\n",
      "1\n",
      "2\n",
      "******************\n",
      "0\n",
      "1\n",
      "2\n",
      "********************\n",
      "0\n",
      "2\n",
      "4\n",
      "*********************\n",
      "APPLE\n",
      "BANANA\n",
      "CHERRY\n",
      "*********************\n",
      "APPLE\n",
      "BANANA\n",
      "CHERRY\n",
      "*********************\n",
      "0 apple\n",
      "1 banana\n",
      "2 cherry\n",
      "*********************\n",
      "dad homer\n",
      "mom marge\n",
      "size 6\n",
      "*********************\n",
      "Found the banana!\n",
      "*********************\n",
      "This will print 5 times\n",
      "This will print 5 times\n",
      "This will print 5 times\n",
      "This will print 5 times\n",
      "This will print 5 times\n"
     ]
    }
   ],
   "source": [
    "\n",
    "###---------------------------------For Loops and While Loops\n",
    "#range returns a list of integers (Python 2) or a sequence (Python 3):\n",
    "\n",
    "# includes the start value but excludes the stop value\n",
    "for i in range(0, 3):\n",
    "    print(i)\n",
    "    \n",
    "print(\"******************\")\n",
    "\n",
    "# default start value is 0\n",
    "for i in range(3):\n",
    "    print(i)\n",
    "    \n",
    "print(\"********************\")\n",
    "\n",
    "# third argument is the step value\n",
    "for i in range(0,5,2):\n",
    "    print(i)\n",
    "    \n",
    "print(\"*********************\")\n",
    "\n",
    "# Python 2 only: use xrange to create a sequence rather than a list (saves memory)\n",
    "#?????print(xrange(100, 100000, 5))\n",
    "\n",
    "\n",
    "#######for loops:\n",
    "    \n",
    "# not the recommended style\n",
    "fruits = ['apple', 'banana', 'cherry']\n",
    "for i in range(len(fruits)):\n",
    "    print(fruits[i].upper())\n",
    "    \n",
    "print(\"*********************\")\n",
    "\n",
    "\n",
    "# recommended style\n",
    "for fruit in fruits:\n",
    "    print(fruit.upper())\n",
    "    \n",
    "print(\"*********************\")\n",
    "\n",
    "# use enumerate if you need to access the index value within the loop\n",
    "for index, fruit in enumerate(fruits):\n",
    "    print(index, fruit)\n",
    "    \n",
    "print(\"*********************\")\n",
    "    \n",
    "# iterate through two things at once (using tuple unpacking)  IN \"Dictionary\"\n",
    "family = {'dad':'homer', 'mom':'marge', 'size':6}\n",
    "for key, value in family.items():\n",
    "    print(key, value)\n",
    "    \n",
    "print(\"*********************\")\n",
    "    \n",
    "####for/else loop:\n",
    "for fruit in fruits:\n",
    "    if fruit == 'banana':\n",
    "        print('Found the banana!')\n",
    "        break    # exit the loop and skip the 'else' block\n",
    "\n",
    "else:\n",
    "    # this block executes ONLY if the for loop completes without hitting 'break'\n",
    "        print(\"Can't find the banana\")\n",
    "        \n",
    "print(\"*********************\")\n",
    "\n",
    "\n",
    "#### while loop:\n",
    "count = 0\n",
    "while count < 5:\n",
    "    print('This will print 5 times')\n",
    "    count += 1    # equivalent to 'count = count + 1'"
   ]
  },
  {
   "cell_type": "code",
   "execution_count": 7,
   "id": "b58d431c",
   "metadata": {},
   "outputs": [
    {
     "name": "stdout",
     "output_type": "stream",
     "text": [
      "[1, 8, 27, 64, 125]\n",
      "[1, 8, 27, 64, 125]\n",
      "[8, 64]\n",
      "[8, 64]\n",
      "[1, 8, 9, 64, 25]\n",
      "[1, 8, 9, 64, 25]\n",
      "[1, 2, 3, 4]\n",
      "[1, 2, 3, 4]\n",
      "{5, 6}\n",
      "{'apple': 5, 'banana': 6, 'cherry': 6}\n",
      "{'apple': 0, 'banana': 1, 'cherry': 2}\n"
     ]
    }
   ],
   "source": [
    "############################## Comprehensions\n",
    "\n",
    "############# List comprehension:\n",
    "\n",
    "nums = [1, 2, 3, 4, 5]\n",
    "\n",
    "# M-1 for loop to create a list of cubes\n",
    "\n",
    "cubes = []\n",
    "for num in nums:\n",
    "    cubes.append(num**3)\n",
    "    \n",
    "print(cubes)\n",
    "\n",
    "\n",
    "# M-2 equivalent list comprehension\n",
    "\n",
    "cubes = [num**3 for num in nums]\n",
    "\n",
    "print(cubes)\n",
    "\n",
    "\n",
    "\n",
    "## M-1 for loop to create a list of cubes of even numbers\n",
    "cubes_of_even = []\n",
    "\n",
    "for num in nums:\n",
    "    if num % 2 == 0:\n",
    "        cubes_of_even.append(num**3)\n",
    "        \n",
    "print(cubes_of_even)\n",
    "\n",
    "\n",
    "# M-2 equivalent list comprehension\n",
    "# syntax: [expression for variable in iterable if condition]\n",
    "\n",
    "cubes_of_even = [num**3 for num in nums if num % 2 == 0]\n",
    "\n",
    "print(cubes_of_even)\n",
    "\n",
    "## M-1 for loop to cube even numbers and square odd numbers\n",
    "cubes_and_squares = []\n",
    "\n",
    "for num in nums:\n",
    "    if num % 2 == 0:\n",
    "        cubes_and_squares.append(num**3)\n",
    "    else:\n",
    "        cubes_and_squares.append(num**2)\n",
    "\n",
    "print(cubes_and_squares)\n",
    "\n",
    "# M-2 equivalent list comprehension (using a ternary expression)\n",
    "# syntax: [true_condition if condition else false_condition for variable in iterable]\n",
    "\n",
    "cubes_and_squares = [num**3 if num % 2 == 0 else num**2 for num in nums]\n",
    "\n",
    "print(cubes_and_squares)\n",
    "\n",
    "# M-1 for loop to flatten a 2d-matrix\n",
    "matrix = [[1, 2], [3, 4]]\n",
    "items = []\n",
    "for row in matrix:\n",
    "    for item in row:\n",
    "        items.append(item)\n",
    "        \n",
    "print(items)\n",
    "\n",
    "# M-2 equivalent list comprehension\n",
    "items = [item for row in matrix\n",
    "              for item in row]\n",
    "print(items)\n",
    "\n",
    "\n",
    "################ Set comprehension:\n",
    "\n",
    "fruits = ['apple', 'banana', 'cherry']\n",
    "\n",
    "unique_lengths = {len(fruit) for fruit in fruits}\n",
    "\n",
    "print(unique_lengths) #----------> set,so prints only unique values\n",
    "\n",
    "############## Dictionary comprehension:\n",
    "\n",
    "fruit_lengths = {fruit:len(fruit) for fruit in fruits}\n",
    "\n",
    "print(fruit_lengths)\n",
    "\n",
    "fruit_indices = {fruit:index for index, fruit in enumerate(fruits)}\n",
    "\n",
    "print(fruit_indices)"
   ]
  },
  {
   "cell_type": "code",
   "execution_count": 37,
   "id": "4846384d",
   "metadata": {},
   "outputs": [
    {
     "name": "stdout",
     "output_type": "stream",
     "text": [
      "[5, 5, 4]\n",
      "[5, 5, 4]\n",
      "['r', 'e', 't']\n",
      "['r', 'e', 't']\n",
      "[0, 2, 4]\n",
      "[0, 2, 4]\n"
     ]
    }
   ],
   "source": [
    "#########  Map(func,list) and Filter(func,list)  ====> to print map and filter outputs first convert them into list while implementing, then print\n",
    "# map applies a function to every element of a sequence and returns a list (Python 2) or iterator (Python 3):\n",
    "# M-1\n",
    "simpsons = ['homer', 'marge', 'bart']\n",
    "print(list(map(len, simpsons)))                          \n",
    "\n",
    "# M-2\n",
    "\n",
    "# equivalent list comprehension\n",
    "ans = [len(word) for word in simpsons]\n",
    "print(ans) \n",
    "\n",
    "# M-1\n",
    "print(list(map(lambda word: word[-1], simpsons)))\n",
    "\n",
    "# M-2\n",
    "# equivalent list comprehension\n",
    "ans = [word[-1] for word in simpsons]\n",
    "print(ans)\n",
    "\n",
    "##filter returns a list (Python 2) or iterator (Python 3) containing the elements from a sequence for which a condition is True:\n",
    "# M-1\n",
    "nums = range(5)\n",
    "print(list(filter(lambda x: x % 2 == 0, nums)))\n",
    "\n",
    "# M-2\n",
    "# equivalent list comprehension\n",
    "ans = [num for num in nums if num % 2 == 0]\n",
    "print(ans)"
   ]
  },
  {
   "cell_type": "code",
   "execution_count": 3,
   "id": "0101ba53",
   "metadata": {},
   "outputs": [
    {
     "name": "stdout",
     "output_type": "stream",
     "text": [
      "Enter q to Quit\n",
      "\n",
      "Enter a number2\n",
      "You entered a number greater than 0\n",
      "Thanks!!\n",
      "Enter q to Quit\n",
      "\n",
      "Enter a number3\n",
      "You entered a number greater than 0\n",
      "Thanks!!\n",
      "Enter q to Quit\n",
      "\n",
      "Enter a number4\n",
      "You entered a number greater than 0\n",
      "Thanks!!\n",
      "Enter q to Quit\n",
      "\n",
      "Enter a numbersg\n",
      "Your input resulted in an error and it is like this invalid literal for int() with base 10: 'sg'\n",
      "Thanks!!\n",
      "Enter q to Quit\n",
      "\n",
      "Enter a numberzfzc\n",
      "Your input resulted in an error and it is like this invalid literal for int() with base 10: 'zfzc'\n",
      "Thanks!!\n",
      "Enter q to Quit\n",
      "\n",
      "Enter a numberq\n"
     ]
    }
   ],
   "source": [
    "# error handling\n",
    "while(True):\n",
    "    print(\"Enter q to Quit\\n\")\n",
    "    a = input(\"Enter a number\")\n",
    "    if a == 'q':\n",
    "        break\n",
    "    try:\n",
    "        a = int(a)\n",
    "        if(a>0):\n",
    "            print(\"You entered a number greater than 0\")\n",
    "    except Exception as e:\n",
    "        print(f\"Your input resulted in an error and it is like this: {e}\")\n",
    "    print(\"Thanks!!\")        \n",
    "\n",
    "    "
   ]
  },
  {
   "cell_type": "code",
   "execution_count": 11,
   "id": "8ad661ce",
   "metadata": {},
   "outputs": [
    {
     "name": "stdout",
     "output_type": "stream",
     "text": [
      "Enter a number\n",
      "0\n",
      "Error 2 occured\n",
      "You have error of this kind: division by zero\n",
      "Note: can't divide any number by 0\n",
      "Thanks!!\n"
     ]
    }
   ],
   "source": [
    "try:\n",
    "    a = int(input(\"Enter a number\\n\"))\n",
    "    c=1/a\n",
    "    print(c)\n",
    "except ValueError as e:\n",
    "    print(\"Error 1 occured\")\n",
    "    print(f\"You have error of this kind: {e}\")\n",
    "    print(\"Note: Enter a valid value between 0 to 9\")\n",
    "except ZeroDivisionError as e:\n",
    "    print(\"Error 2 occured\")\n",
    "    print(f\"You have error of this kind: {e}\")\n",
    "    print(\"Note: can't divide any number by 0\")\n",
    "except error as e:\n",
    "    print(\"any other error occured\")\n",
    "print(\"Thanks!!\")"
   ]
  },
  {
   "cell_type": "code",
   "execution_count": 10,
   "id": "4cdf7f02",
   "metadata": {},
   "outputs": [
    {
     "ename": "ValueError",
     "evalue": "Enter a number please",
     "output_type": "error",
     "traceback": [
      "\u001b[1;31m---------------------------------------------------------------------------\u001b[0m",
      "\u001b[1;31mValueError\u001b[0m                                Traceback (most recent call last)",
      "\u001b[1;32m~\\AppData\\Local\\Temp/ipykernel_13532/3649599731.py\u001b[0m in \u001b[0;36mincrement\u001b[1;34m(num)\u001b[0m\n\u001b[0;32m      2\u001b[0m     \u001b[1;32mtry\u001b[0m\u001b[1;33m:\u001b[0m\u001b[1;33m\u001b[0m\u001b[1;33m\u001b[0m\u001b[0m\n\u001b[1;32m----> 3\u001b[1;33m         \u001b[1;32mreturn\u001b[0m \u001b[0mint\u001b[0m\u001b[1;33m(\u001b[0m\u001b[0mnum\u001b[0m\u001b[1;33m)\u001b[0m\u001b[1;33m+\u001b[0m\u001b[1;36m1\u001b[0m\u001b[1;33m\u001b[0m\u001b[1;33m\u001b[0m\u001b[0m\n\u001b[0m\u001b[0;32m      4\u001b[0m     \u001b[1;32mexcept\u001b[0m \u001b[0mValueError\u001b[0m \u001b[1;32mas\u001b[0m \u001b[0me\u001b[0m\u001b[1;33m:\u001b[0m\u001b[1;33m\u001b[0m\u001b[1;33m\u001b[0m\u001b[0m\n",
      "\u001b[1;31mValueError\u001b[0m: invalid literal for int() with base 10: 'sdb4'",
      "\nDuring handling of the above exception, another exception occurred:\n",
      "\u001b[1;31mValueError\u001b[0m                                Traceback (most recent call last)",
      "\u001b[1;32m~\\AppData\\Local\\Temp/ipykernel_13532/3649599731.py\u001b[0m in \u001b[0;36m<module>\u001b[1;34m\u001b[0m\n\u001b[0;32m      4\u001b[0m     \u001b[1;32mexcept\u001b[0m \u001b[0mValueError\u001b[0m \u001b[1;32mas\u001b[0m \u001b[0me\u001b[0m\u001b[1;33m:\u001b[0m\u001b[1;33m\u001b[0m\u001b[1;33m\u001b[0m\u001b[0m\n\u001b[0;32m      5\u001b[0m         \u001b[1;32mraise\u001b[0m \u001b[0mValueError\u001b[0m\u001b[1;33m(\u001b[0m\u001b[1;34m\"Enter a number please\"\u001b[0m\u001b[1;33m)\u001b[0m\u001b[1;33m\u001b[0m\u001b[1;33m\u001b[0m\u001b[0m\n\u001b[1;32m----> 6\u001b[1;33m \u001b[0ma\u001b[0m \u001b[1;33m=\u001b[0m \u001b[0mincrement\u001b[0m\u001b[1;33m(\u001b[0m\u001b[1;34m\"sdb4\"\u001b[0m\u001b[1;33m)\u001b[0m\u001b[1;33m\u001b[0m\u001b[1;33m\u001b[0m\u001b[0m\n\u001b[0m\u001b[0;32m      7\u001b[0m \u001b[0mincrement\u001b[0m\u001b[1;33m(\u001b[0m\u001b[0ma\u001b[0m\u001b[1;33m)\u001b[0m\u001b[1;33m\u001b[0m\u001b[1;33m\u001b[0m\u001b[0m\n\u001b[0;32m      8\u001b[0m \u001b[0mprint\u001b[0m\u001b[1;33m(\u001b[0m\u001b[0ma\u001b[0m\u001b[1;33m)\u001b[0m\u001b[1;33m\u001b[0m\u001b[1;33m\u001b[0m\u001b[0m\n",
      "\u001b[1;32m~\\AppData\\Local\\Temp/ipykernel_13532/3649599731.py\u001b[0m in \u001b[0;36mincrement\u001b[1;34m(num)\u001b[0m\n\u001b[0;32m      3\u001b[0m         \u001b[1;32mreturn\u001b[0m \u001b[0mint\u001b[0m\u001b[1;33m(\u001b[0m\u001b[0mnum\u001b[0m\u001b[1;33m)\u001b[0m\u001b[1;33m+\u001b[0m\u001b[1;36m1\u001b[0m\u001b[1;33m\u001b[0m\u001b[1;33m\u001b[0m\u001b[0m\n\u001b[0;32m      4\u001b[0m     \u001b[1;32mexcept\u001b[0m \u001b[0mValueError\u001b[0m \u001b[1;32mas\u001b[0m \u001b[0me\u001b[0m\u001b[1;33m:\u001b[0m\u001b[1;33m\u001b[0m\u001b[1;33m\u001b[0m\u001b[0m\n\u001b[1;32m----> 5\u001b[1;33m         \u001b[1;32mraise\u001b[0m \u001b[0mValueError\u001b[0m\u001b[1;33m(\u001b[0m\u001b[1;34m\"Enter a number please\"\u001b[0m\u001b[1;33m)\u001b[0m\u001b[1;33m\u001b[0m\u001b[1;33m\u001b[0m\u001b[0m\n\u001b[0m\u001b[0;32m      6\u001b[0m \u001b[0ma\u001b[0m \u001b[1;33m=\u001b[0m \u001b[0mincrement\u001b[0m\u001b[1;33m(\u001b[0m\u001b[1;34m\"sdb4\"\u001b[0m\u001b[1;33m)\u001b[0m\u001b[1;33m\u001b[0m\u001b[1;33m\u001b[0m\u001b[0m\n\u001b[0;32m      7\u001b[0m \u001b[0mincrement\u001b[0m\u001b[1;33m(\u001b[0m\u001b[0ma\u001b[0m\u001b[1;33m)\u001b[0m\u001b[1;33m\u001b[0m\u001b[1;33m\u001b[0m\u001b[0m\n",
      "\u001b[1;31mValueError\u001b[0m: Enter a number please"
     ]
    }
   ],
   "source": [
    "def increment(num):\n",
    "    try:\n",
    "        return int(num)+1\n",
    "    except Exception as e:\n",
    "        raise ValueError(\"Enter a number please\")\n",
    "a = increment(\"sdb4\")\n",
    "increment(a)\n",
    "print(a)"
   ]
  },
  {
   "cell_type": "code",
   "execution_count": 11,
   "id": "b9247e27",
   "metadata": {},
   "outputs": [
    {
     "name": "stdout",
     "output_type": "stream",
     "text": [
      "Enter a number:233\n",
      "We were successfull!\n"
     ]
    }
   ],
   "source": [
    "# else after try except block\n",
    "try: \n",
    "    i = int(input(\"Enter a number:\"))\n",
    "    c = 1/i\n",
    "except Exception as e:\n",
    "    print(e)\n",
    "else:                           # else will execute only when try runs successfully\n",
    "    print(\"We were successfull!\")"
   ]
  },
  {
   "cell_type": "code",
   "execution_count": 3,
   "id": "dea16764",
   "metadata": {},
   "outputs": [
    {
     "name": "stdout",
     "output_type": "stream",
     "text": [
      "Enter a number:sfwf\n",
      "invalid literal for int() with base 10: 'sfwf'\n",
      "We are in finally!!!\n",
      "We are done!!\n"
     ]
    }
   ],
   "source": [
    "# try with finally\n",
    "try: \n",
    "    i = int(input(\"Enter a number:\"))\n",
    "    c = 1/i\n",
    "except Exception as e:\n",
    "    print(e)\n",
    "    exit()\n",
    "finally:             # finally will execute not matter what! even if try runs ir even if error is thrown by exception\n",
    "    print(\"We are in finally!!!\")\n",
    "    \n",
    "print(\"We are done!!\")"
   ]
  },
  {
   "cell_type": "code",
   "execution_count": 2,
   "id": "fa7b04c2",
   "metadata": {},
   "outputs": [
    {
     "name": "stdout",
     "output_type": "stream",
     "text": [
      "Enter a number:asfc\n",
      "invalid literal for int() with base 10: 'asfc'\n",
      "We are in finally!!!\n"
     ]
    }
   ],
   "source": [
    "# try without finally\n",
    "try: \n",
    "    i = int(input(\"Enter a number:\"))\n",
    "    c = 1/i\n",
    "except Exception as e:\n",
    "    print(e)\n",
    "    exit()  # if exception occurs then it will exit the program without printing \"we are in finally\" ---> here the kernel dies\n",
    "# finally:             \n",
    "print(\"We are in finally!!!\") #-----------> this is not printed in vs code but here it is printing"
   ]
  },
  {
   "cell_type": "code",
   "execution_count": 1,
   "id": "24b5d406",
   "metadata": {},
   "outputs": [
    {
     "name": "stdout",
     "output_type": "stream",
     "text": [
      "I am in func1: 1\n",
      "I am in p-1: 19\n",
      "I am in func2: 1\n",
      "I am in p-1: 1\n"
     ]
    }
   ],
   "source": [
    "#global variables and local variables\n",
    "# P-1\n",
    "a = 19 # global variable\n",
    "def func1():\n",
    "    a = 1\n",
    "    print(f\"I am in func1: {a}\")\n",
    "\n",
    "func1()  #------> prints local variable from func1\n",
    "print(f\"I am in p-1: {a}\")  #-------->prints global variable\n",
    "\n",
    "\n",
    "# p-2\n",
    "a = 19 # global variable\n",
    "def func2():\n",
    "    global a\n",
    "    a = 1\n",
    "    print(f\"I am in func2: {a}\")\n",
    "\n",
    "func2()  #----------------> prints global variable from func2\n",
    "print(f\"I am in p-1: {a}\")  #-------->prints global variable"
   ]
  },
  {
   "cell_type": "code",
   "execution_count": 5,
   "id": "05a7359d",
   "metadata": {},
   "outputs": [
    {
     "name": "stdout",
     "output_type": "stream",
     "text": [
      "0 3\n",
      "1 23\n",
      "2 hetvi\n",
      "3 5.55\n",
      "4 False\n",
      "0 3\n",
      "1 23\n",
      "2 hetvi\n",
      "3 5.55\n",
      "4 False\n"
     ]
    }
   ],
   "source": [
    "# enumerate functions\n",
    "\n",
    "list1 = [3,23,\"hetvi\",5.55,False]\n",
    "\n",
    "# M-1: simple way (have to make extra variable named index)\n",
    "index=0\n",
    "for item in list1:\n",
    "    print(index,item)\n",
    "    index+=1\n",
    "    \n",
    "# M-2: using enumerate\n",
    "for index,item in enumerate(list1):\n",
    "    print(index, item)"
   ]
  },
  {
   "cell_type": "code",
   "execution_count": 13,
   "id": "41423423",
   "metadata": {},
   "outputs": [
    {
     "name": "stdout",
     "output_type": "stream",
     "text": [
      "[2, 4, 6, 8]\n",
      "[2, 4, 6, 8]\n",
      "***********************\n",
      "enter the number:5\n",
      "[5, 10, 15, 20, 25, 30, 35, 40, 45, 50]\n"
     ]
    }
   ],
   "source": [
    "# list comprehension\n",
    "\n",
    "a = [1,2,3,4,5,6,7,8,9]\n",
    "b=[]\n",
    "\n",
    "# M-1: simple way\n",
    "for item in a:\n",
    "    if item%2==0:\n",
    "        b.append(item)\n",
    "        \n",
    "print(b)\n",
    "\n",
    "# M-2 using list comprehension\n",
    "b = [i for i in a if i%2==0]\n",
    "print(b)\n",
    "print(\"***********************\")\n",
    "\n",
    "# example 2 of list comprehension : que: to apply list compre.. to print table of numbwer entered by user\n",
    "\n",
    "num = int(input(\"enter the number:\"))\n",
    "\n",
    "table = [num*i for i in range(1,11) ]\n",
    "print(table)"
   ]
  },
  {
   "cell_type": "code",
   "execution_count": 10,
   "id": "d4576560",
   "metadata": {},
   "outputs": [
    {
     "name": "stdout",
     "output_type": "stream",
     "text": [
      "{1, 2, 3, 4}\n"
     ]
    }
   ],
   "source": [
    "# set comprehension\n",
    "\n",
    "t = [1,2,3,4,3,4,2,4,2,1] # list\n",
    "s = { i for i in t} # making set from list by set compre...\n",
    "print(s)"
   ]
  },
  {
   "cell_type": "code",
   "execution_count": 4,
   "id": "82449625",
   "metadata": {},
   "outputs": [
    {
     "name": "stdout",
     "output_type": "stream",
     "text": [
      "566\n",
      "566\n",
      "64\n",
      "33\n"
     ]
    }
   ],
   "source": [
    "# lambda functions:\n",
    "\n",
    "# M-1 : simple way\n",
    "\n",
    "def func(a):\n",
    "    return a+5\n",
    "\n",
    "x=566\n",
    "func(x)\n",
    "print(x)\n",
    "\n",
    "# M-2 using Lambda func (less syntax) ---->syntax => func_name = lambda arguments : expression\n",
    "\n",
    "func = lambda a : a+5\n",
    "\n",
    "x=566\n",
    "func(x)\n",
    "print(x)\n",
    "\n",
    "# other examples of lambda func:\n",
    "\n",
    "square = lambda a : a*a\n",
    "sum = lambda a,b,c :a+b+c\n",
    "\n",
    "x=8\n",
    "print(square(x))\n",
    "print(sum(x,10,15))"
   ]
  },
  {
   "cell_type": "code",
   "execution_count": 26,
   "id": "a9dbe8df",
   "metadata": {},
   "outputs": [
    {
     "name": "stdout",
     "output_type": "stream",
     "text": [
      "pink and purple and black and white and yellow\n",
      "pink , purple , black , white , yellow\n",
      "pink * purple * black * white * yellow\n",
      "pink\tpurple\tblack\twhite\tyellow\n",
      "pink\n",
      "purple\n",
      "black\n",
      "white\n",
      "yellow\n",
      "<class 'str'>\n"
     ]
    }
   ],
   "source": [
    "# join method with list\n",
    "l = [\"pink\",\"purple\",\"black\",\"white\",\"yellow\"]\n",
    "\n",
    "sentence = \" and \".join(l)\n",
    "print(sentence)\n",
    "\n",
    "sentence = \" , \".join(l)\n",
    "print(sentence)\n",
    "\n",
    "sentence = \" * \".join(l)\n",
    "print(sentence)\n",
    "\n",
    "sentence = \"\\t\".join(l)\n",
    "print(sentence)\n",
    "\n",
    "sentence = \"\\n\".join(l)\n",
    "print(sentence)\n",
    "print(type(sentence))"
   ]
  },
  {
   "cell_type": "code",
   "execution_count": 25,
   "id": "60fb040d",
   "metadata": {},
   "outputs": [
    {
     "name": "stdout",
     "output_type": "stream",
     "text": [
      "pink and purple and black and white and yellow\n",
      "pink , purple , black , white , yellow\n",
      "pink * purple * black * white * yellow\n",
      "pink\tpurple\tblack\twhite\tyellow\n",
      "pink\n",
      "purple\n",
      "black\n",
      "white\n",
      "yellow\n",
      "<class 'str'>\n"
     ]
    }
   ],
   "source": [
    "# join method with tuple\n",
    "l = (\"pink\",\"purple\",\"black\",\"white\",\"yellow\")\n",
    "\n",
    "sentence = \" and \".join(l)\n",
    "print(sentence)\n",
    "\n",
    "sentence = \" , \".join(l)\n",
    "print(sentence)\n",
    "\n",
    "sentence = \" * \".join(l)\n",
    "print(sentence)\n",
    "\n",
    "sentence = \"\\t\".join(l)\n",
    "print(sentence)\n",
    "\n",
    "sentence = \"\\n\".join(l)\n",
    "print(sentence)\n",
    "print(type(sentence))"
   ]
  },
  {
   "cell_type": "code",
   "execution_count": 32,
   "id": "423f5c77",
   "metadata": {},
   "outputs": [
    {
     "name": "stdout",
     "output_type": "stream",
     "text": [
      "This is Hetvi and her age is 19 and she like pink\n",
      "This is Hetvi and her age is 19 and she likes pink\n",
      "This is 19 and her age is Hetvi and she likes pink\n",
      "This is 19 and her age is Hetvi and she likes pink\n"
     ]
    }
   ],
   "source": [
    "# format method (old way of giving arguments)\n",
    "\n",
    "name = \"Hetvi\"\n",
    "age = 19\n",
    "color = \"pink\"\n",
    "\n",
    "# f-string (new way)\n",
    "a = f\"This is {name} and her age is {age} and she like {color}\"\n",
    "print(a)\n",
    "\n",
    "# format \n",
    "a = \"This is {} and her age is {} and she likes {}\".format(name , age , color)\n",
    "print(a)\n",
    "\n",
    "# format \n",
    "a = \"This is {1} and her age is {0} and she likes {2}\".format(name , age , color)\n",
    "print(a)\n",
    "\n",
    "# format \n",
    "a = \"This is {arg2} and her age is {arg1} and she likes {arg3}\".format(arg1 = name ,arg2 = age, arg3 = color)\n",
    "print(a)\n"
   ]
  },
  {
   "cell_type": "code",
   "execution_count": 43,
   "id": "551a39af",
   "metadata": {},
   "outputs": [
    {
     "name": "stdout",
     "output_type": "stream",
     "text": [
      "[1, 4, 9]\n",
      "[1, 4, 9]\n",
      "[1, 4, 9]\n"
     ]
    }
   ],
   "source": [
    "# map function and map+lambda\n",
    "\n",
    "def square(num):\n",
    "    return num*num\n",
    "\n",
    "l = [1,2,3]\n",
    "\n",
    "# M-1 simple way\n",
    "\n",
    "l2 = []\n",
    "for item in l:\n",
    "    l2.append(square(item))\n",
    "print(l2)\n",
    "\n",
    "# M-2 by map\n",
    "\n",
    "print(list(map(square,l)))\n",
    "\n",
    "# M-3 map + lambda\n",
    "\n",
    "func_square = lambda i : i*i\n",
    "\n",
    "print(list(map(func_square,l)))"
   ]
  },
  {
   "cell_type": "code",
   "execution_count": 42,
   "id": "8709c276",
   "metadata": {},
   "outputs": [
    {
     "name": "stdout",
     "output_type": "stream",
     "text": [
      "[False, False, False, False, False, True, True, True, True, True]\n",
      "[6, 7, 8, 9, 10]\n",
      "[6, 7, 8, 9, 10]\n"
     ]
    }
   ],
   "source": [
    "# filter method and filter+lambda\n",
    "\n",
    "def greater_than_5(num):\n",
    "    if num>5:\n",
    "        return True\n",
    "    else:\n",
    "        return False\n",
    "\n",
    "l = [1,2,3,4,5,6,7,8,9,10]\n",
    "\n",
    "# M-1 simple way\n",
    "l2 = []\n",
    "for item in l:\n",
    "    l2.append(greater_than_5(item))\n",
    "print(l2)\n",
    "\n",
    "# M-2 by filter\n",
    "print(list(filter(greater_than_5,l)))\n",
    "\n",
    "# M-3 lambda + filter\n",
    "func_greater = lambda i : i>5\n",
    "    \n",
    "print(list(filter(func_greater,l)))\n"
   ]
  },
  {
   "cell_type": "code",
   "execution_count": 52,
   "id": "18bd2503",
   "metadata": {},
   "outputs": [
    {
     "name": "stdout",
     "output_type": "stream",
     "text": [
      "10\n"
     ]
    }
   ],
   "source": [
    "# reduce function -------------> need to import functools for it\n",
    "from functools import reduce\n",
    "\n",
    "l =[1,2,3,4]\n",
    "\n",
    "sum = lambda a,b : a+b\n",
    "\n",
    "print(reduce(sum,l))\n",
    "        "
   ]
  },
  {
   "cell_type": "code",
   "execution_count": 3,
   "id": "3af61d5d",
   "metadata": {},
   "outputs": [
    {
     "name": "stdout",
     "output_type": "stream",
     "text": [
      "['7', '14', '21', '28', '35', '42', '49', '56', '63', '70']\n",
      "7\n",
      "14\n",
      "21\n",
      "28\n",
      "35\n",
      "42\n",
      "49\n",
      "56\n",
      "63\n",
      "70\n"
     ]
    }
   ],
   "source": [
    "# to print list in vertical order using join \n",
    "l = [str(i*7) for i in range(1,11)]\n",
    "print(l)\n",
    "\n",
    "verticalTable = \"\\n\".join(l) # join is applied on list of str only so we converted numbers into str in 2nd line in compre.. list\n",
    "print(verticalTable)"
   ]
  },
  {
   "cell_type": "code",
   "execution_count": 4,
   "id": "768a52aa",
   "metadata": {},
   "outputs": [
    {
     "name": "stdout",
     "output_type": "stream",
     "text": [
      "99\n"
     ]
    }
   ],
   "source": [
    "# exercise to get max number from the list using reduce function\n",
    "from functools import reduce\n",
    "\n",
    "l =[1,34,56,78,0,4,99]\n",
    " \n",
    "a = reduce(max,l)\n",
    "print(a)\n"
   ]
  },
  {
   "cell_type": "code",
   "execution_count": null,
   "id": "3b35a468",
   "metadata": {},
   "outputs": [],
   "source": []
  }
 ],
 "metadata": {
  "kernelspec": {
   "display_name": "Python 3 (ipykernel)",
   "language": "python",
   "name": "python3"
  },
  "language_info": {
   "codemirror_mode": {
    "name": "ipython",
    "version": 3
   },
   "file_extension": ".py",
   "mimetype": "text/x-python",
   "name": "python",
   "nbconvert_exporter": "python",
   "pygments_lexer": "ipython3",
   "version": "3.9.7"
  }
 },
 "nbformat": 4,
 "nbformat_minor": 5
}
