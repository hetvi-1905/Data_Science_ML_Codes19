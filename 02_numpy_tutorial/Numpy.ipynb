{
 "cells": [
  {
   "cell_type": "code",
   "execution_count": 1,
   "id": "9471a8f9",
   "metadata": {},
   "outputs": [
    {
     "name": "stdout",
     "output_type": "stream",
     "text": [
      "Requirement already satisfied: numpy in d:\\anaconda\\lib\\site-packages (1.20.3)\n",
      "Note: you may need to restart the kernel to use updated packages.\n"
     ]
    }
   ],
   "source": [
    "pip install numpy"
   ]
  },
  {
   "cell_type": "code",
   "execution_count": 2,
   "id": "daf8ade4",
   "metadata": {},
   "outputs": [],
   "source": [
    "import numpy as np"
   ]
  },
  {
   "cell_type": "markdown",
   "id": "2cb39639",
   "metadata": {},
   "source": [
    "# basics\n"
   ]
  },
  {
   "cell_type": "code",
   "execution_count": 3,
   "id": "fff0743b",
   "metadata": {},
   "outputs": [
    {
     "name": "stdout",
     "output_type": "stream",
     "text": [
      "[1 2 3]\n"
     ]
    }
   ],
   "source": [
    "# 1-D array\n",
    "a = np.array([1,2,3])\n",
    "print(a)"
   ]
  },
  {
   "cell_type": "code",
   "execution_count": 4,
   "id": "78198841",
   "metadata": {},
   "outputs": [
    {
     "name": "stdout",
     "output_type": "stream",
     "text": [
      "[[1.1 8.8 5.5]\n",
      " [1.2 3.4 5.6]\n",
      " [1.2 3.4 5.6]]\n"
     ]
    }
   ],
   "source": [
    "# 1-D array\n",
    "b = np.array([[1.1,8.8,5.5],[1.2,3.4,5.6],[1.2,3.4,5.6]])\n",
    "print(b)"
   ]
  },
  {
   "cell_type": "code",
   "execution_count": 5,
   "id": "098cc967",
   "metadata": {},
   "outputs": [
    {
     "name": "stdout",
     "output_type": "stream",
     "text": [
      "[[[1.1  8.8  5.5  0.9 ]\n",
      "  [1.2  3.4  5.6  0.8 ]\n",
      "  [1.2  3.4  5.6  0.9 ]]\n",
      "\n",
      " [[1.1  8.8  5.5  0.8 ]\n",
      "  [1.2  3.4  5.6  0.99]\n",
      "  [1.2  3.4  5.6  0.8 ]]]\n"
     ]
    }
   ],
   "source": [
    "# 3-D array\n",
    "c = np.array([\n",
    "             [[1.1,8.8,5.5,0.9],[1.2,3.4,5.6,0.8],[1.2,3.4,5.6,0.9]],\n",
    "             [[1.1,8.8,5.5,0.8],[1.2,3.4,5.6,0.99],[1.2,3.4,5.6,0.8]]\n",
    "            ])\n",
    "print(c)"
   ]
  },
  {
   "cell_type": "code",
   "execution_count": 6,
   "id": "8b46393d",
   "metadata": {},
   "outputs": [
    {
     "name": "stdout",
     "output_type": "stream",
     "text": [
      "1\n",
      "2\n",
      "3\n"
     ]
    }
   ],
   "source": [
    "#Get Dimension\n",
    "print(a.ndim)\n",
    "print(b.ndim)\n",
    "print(c.ndim)"
   ]
  },
  {
   "cell_type": "code",
   "execution_count": 7,
   "id": "46f6ea25",
   "metadata": {},
   "outputs": [
    {
     "name": "stdout",
     "output_type": "stream",
     "text": [
      "(3,)\n",
      "(3, 3)\n",
      "(2, 3, 4)\n"
     ]
    }
   ],
   "source": [
    "# Get shape\n",
    "print(a.shape)\n",
    "print(b.shape)\n",
    "print(c.shape)"
   ]
  },
  {
   "cell_type": "code",
   "execution_count": 8,
   "id": "1362fc33",
   "metadata": {},
   "outputs": [
    {
     "name": "stdout",
     "output_type": "stream",
     "text": [
      "[1 2 3]\n",
      "[[9 8 7]\n",
      " [6 5 4]]\n",
      "1\n"
     ]
    }
   ],
   "source": [
    "import numpy as np\n",
    "\n",
    "a = np.array([1,2,3], dtype='int32')\n",
    "print(a)\n",
    "\n",
    "b = np.array([[9.0,8.0,7.0],[6.0,5.0,4.0]],dtype=int)\n",
    "print(b)\n",
    "\n",
    "# Get Dimension\n",
    "print(a.ndim)"
   ]
  },
  {
   "cell_type": "code",
   "execution_count": 9,
   "id": "0d799d0c",
   "metadata": {},
   "outputs": [
    {
     "name": "stdout",
     "output_type": "stream",
     "text": [
      "(2, 3)\n",
      "int32\n",
      "4\n",
      "3\n",
      "12\n"
     ]
    }
   ],
   "source": [
    "# Get Shape\n",
    "print(b.shape)\n",
    "\n",
    "# Get Type\n",
    "print(a.dtype)\n",
    "\n",
    "# Get Size of each item\n",
    "print(a.itemsize)\n",
    "\n",
    "# get size of numpyarray i.e number of elements in numpy array\n",
    "print(a.size)\n",
    "\n",
    "# Get total size\n",
    "print(a.nbytes)   # (itemsize * size)\n"
   ]
  },
  {
   "cell_type": "code",
   "execution_count": 10,
   "id": "dc02cc66",
   "metadata": {},
   "outputs": [
    {
     "name": "stdout",
     "output_type": "stream",
     "text": [
      "[[ 1  2  3  4  5  6  7]\n",
      " [ 8  9 10 11 12 13 14]]\n",
      "13\n",
      "[1 2 3 4 5 6 7]\n",
      "[ 3 10]\n",
      "[2 4 6]\n",
      "[[ 1  2  3  4  5  6  7]\n",
      " [ 8  9 10 11 12 20 14]]\n",
      "[[ 1  2 99  4  5  6  7]\n",
      " [ 8  9 77 11 12 20 14]]\n"
     ]
    }
   ],
   "source": [
    "#Accessing/Changing specific elements, rows, columns, etc\n",
    "a = np.array([[1,2,3,4,5,6,7],[8,9,10,11,12,13,14]])\n",
    "print(a)\n",
    "\n",
    "# Get a specific element [r, c]\n",
    "print(a[1, 5])\n",
    "\n",
    "# Get a specific row \n",
    "print(a[0, :])\n",
    "\n",
    "# Get a specific column\n",
    "print(a[:, 2])\n",
    "\n",
    "# Getting a little more fancy [startindex:endindex:stepsize]\n",
    "print(a[0, 1:-1:2])    \n",
    "# MIMPORTANT 0 = first row , 1 =  first element of first row i.e \"2\" , -1 means last elemnt of first row = \"7\" and 2 means stepsize \n",
    "# which means in 1st row , start from 2 to 7 and skip every one element between this interval\n",
    "\n",
    "a[1,5] = 20\n",
    "print(a)\n",
    "\n",
    "a[:,2] = [99,77] # changes all rows of 2nd col to 99 and 77 respectively one after another\n",
    "print(a) "
   ]
  },
  {
   "cell_type": "code",
   "execution_count": 11,
   "id": "e1a738ad",
   "metadata": {},
   "outputs": [
    {
     "name": "stdout",
     "output_type": "stream",
     "text": [
      "[[[1 2]\n",
      "  [3 4]]\n",
      "\n",
      " [[5 6]\n",
      "  [7 8]]]\n",
      "4\n",
      "[[[1 2]\n",
      "  [9 9]]\n",
      "\n",
      " [[5 6]\n",
      "  [8 8]]]\n"
     ]
    }
   ],
   "source": [
    "#*3-d example\n",
    "\n",
    "b = np.array([\n",
    "    [[1,2],[3,4]],\n",
    "    [[5,6],[7,8]]\n",
    "])\n",
    "print(b)\n",
    "\n",
    "# Get specific element \n",
    "print(b[0,1,1])\n",
    "\n",
    "# replace \n",
    "b[:,1,:] = [[9,9],[8,8]]\n",
    "print(b)"
   ]
  },
  {
   "cell_type": "code",
   "execution_count": 12,
   "id": "f4aef0cb",
   "metadata": {},
   "outputs": [
    {
     "name": "stdout",
     "output_type": "stream",
     "text": [
      "[[0. 0. 0.]\n",
      " [0. 0. 0.]]\n",
      "\n",
      "\n",
      "[[[1 1]\n",
      "  [1 1]]\n",
      "\n",
      " [[1 1]\n",
      "  [1 1]]\n",
      "\n",
      " [[1 1]\n",
      "  [1 1]]\n",
      "\n",
      " [[1 1]\n",
      "  [1 1]]]\n",
      "\n",
      "\n",
      "[[99 99]\n",
      " [99 99]]\n",
      "\n",
      "\n",
      "[[4 4 4 4 4 4 4]\n",
      " [4 4 4 4 4 4 4]]\n",
      "\n",
      "\n",
      "[[4 4 4 4 4 4 4]\n",
      " [4 4 4 4 4 4 4]]\n",
      "\n",
      "\n",
      "[[0.07221252 0.65550602]\n",
      " [0.35725665 0.19077736]\n",
      " [0.42197353 0.22706796]\n",
      " [0.30213826 0.91770132]]\n",
      "\n",
      "\n",
      "[[-3 -3  3]\n",
      " [-2  2 -1]\n",
      " [-4 -3 -4]]\n"
     ]
    }
   ],
   "source": [
    "#Initializing Different Types of Arrays\n",
    "# All 0s matrix\n",
    "print(np.zeros((2,3)))\n",
    "print(\"\\n\")\n",
    "\n",
    "# All 1s matrix\n",
    "print(np.ones((4,2,2), dtype='int32'))\n",
    "print(\"\\n\")\n",
    "\n",
    "# Any other number\n",
    "print(np.full((2,2), 99))\n",
    "print(\"\\n\")\n",
    "\n",
    "# Any other number (full_like)\n",
    "print(np.full_like(a, 4))\n",
    "print(\"\\n\")\n",
    "# or\n",
    "print(np.full(a.shape,4))\n",
    "print(\"\\n\")\n",
    "\n",
    "# Random decimal numbers\n",
    "print(np.random.rand(4,2))\n",
    "print(\"\\n\")\n",
    "\n",
    "# Random Integer values\n",
    "print(np.random.randint(-4,4, size=(3,3))) #range of random nos. is -4 to 3(can come) \n"
   ]
  },
  {
   "cell_type": "code",
   "execution_count": 13,
   "id": "2d9a8d08",
   "metadata": {},
   "outputs": [
    {
     "data": {
      "text/plain": [
       "array([[1, 0, 0, 0, 0],\n",
       "       [0, 1, 0, 0, 0],\n",
       "       [0, 0, 1, 0, 0],\n",
       "       [0, 0, 0, 1, 0],\n",
       "       [0, 0, 0, 0, 1]])"
      ]
     },
     "execution_count": 13,
     "metadata": {},
     "output_type": "execute_result"
    }
   ],
   "source": [
    "# The identity matrix\n",
    "np.identity((5),dtype=int)\n"
   ]
  },
  {
   "cell_type": "code",
   "execution_count": 14,
   "id": "f4eba266",
   "metadata": {},
   "outputs": [
    {
     "name": "stdout",
     "output_type": "stream",
     "text": [
      "[[1 2 3]\n",
      " [1 2 3]\n",
      " [1 2 3]]\n",
      "[[1 1 1 2 2 2 3 3 3]]\n"
     ]
    }
   ],
   "source": [
    "# Repeat an array\n",
    "arr = np.array([[1,2,3]])\n",
    "r1 = np.repeat(arr,3, axis=0)\n",
    "print(r1)\n",
    "\n",
    "r2 = np.repeat(arr,3, axis=1)\n",
    "print(r2)"
   ]
  },
  {
   "cell_type": "code",
   "execution_count": 15,
   "id": "1eaacd32",
   "metadata": {},
   "outputs": [
    {
     "name": "stdout",
     "output_type": "stream",
     "text": [
      "[[1. 1. 1. 1. 1.]\n",
      " [1. 1. 1. 1. 1.]\n",
      " [1. 1. 1. 1. 1.]\n",
      " [1. 1. 1. 1. 1.]\n",
      " [1. 1. 1. 1. 1.]]\n",
      "[[0. 0. 0.]\n",
      " [0. 9. 0.]\n",
      " [0. 0. 0.]]\n",
      "[[1. 1. 1. 1. 1.]\n",
      " [1. 0. 0. 0. 1.]\n",
      " [1. 0. 9. 0. 1.]\n",
      " [1. 0. 0. 0. 1.]\n",
      " [1. 1. 1. 1. 1.]]\n"
     ]
    }
   ],
   "source": [
    "#exercise\n",
    "output = np.ones((5,5))\n",
    "print(output)\n",
    "\n",
    "z = np.zeros((3,3))\n",
    "z[1,1] = 9\n",
    "print(z)\n",
    "\n",
    "output[1:-1,1:-1] = z\n",
    "print(output)"
   ]
  },
  {
   "cell_type": "code",
   "execution_count": 16,
   "id": "2d116e8d",
   "metadata": {},
   "outputs": [
    {
     "name": "stdout",
     "output_type": "stream",
     "text": [
      "way : 1\n",
      "[100   2   3]\n",
      "[100   2   3]\n",
      "\n",
      " way : 2\n",
      "[100   2   3]\n",
      "[1 2 3]\n"
     ]
    }
   ],
   "source": [
    "# Be careful when copying arrays!!!\n",
    "a = np.array([1,2,3])\n",
    "\n",
    "print(\"way : 1\")\n",
    "b = a \n",
    "# when we copy by using assignment operator, if we make changes in copy, it will automatically make changes in original as well\n",
    "\n",
    "b[0] = 100\n",
    "print(b)\n",
    "print(a)\n",
    "\n",
    "print(\"\\n way : 2\")\n",
    "a = np.array([1,2,3])\n",
    "b = a.copy()\n",
    "b[0] = 100\n",
    "print(b)\n",
    "print(a)"
   ]
  },
  {
   "cell_type": "code",
   "execution_count": 17,
   "id": "a7f3a2f4",
   "metadata": {},
   "outputs": [
    {
     "name": "stdout",
     "output_type": "stream",
     "text": [
      "[1 2 3 4]\n",
      "[3 4 5 6]\n",
      "[-1  0  1  2]\n",
      "[2 4 6 8]\n",
      "[0.5 1.  1.5 2. ]\n",
      "[2 2 4 4]\n",
      "[ 1  4  9 16]\n",
      "[ 0.54030231 -0.41614684 -0.9899925  -0.65364362]\n"
     ]
    }
   ],
   "source": [
    "#Mathematics\n",
    "a = np.array([1,2,3,4])\n",
    "print(a)\n",
    "\n",
    "print(a + 2)\n",
    "\n",
    "print(a - 2)\n",
    "\n",
    "print(a * 2)\n",
    "\n",
    "print(a / 2)\n",
    "\n",
    "b = np.array([1,0,1,0])\n",
    "print(a + b)\n",
    "print(a ** 2)\n",
    "\n",
    "# Take the sin/cos\n",
    "print(np.cos(a))\n",
    "\n",
    "# For a lot more (https://docs.scipy.org/doc/numpy/reference/routines.math.html)"
   ]
  },
  {
   "cell_type": "code",
   "execution_count": 18,
   "id": "62e47e74",
   "metadata": {},
   "outputs": [
    {
     "name": "stdout",
     "output_type": "stream",
     "text": [
      "[[1. 1. 1.]\n",
      " [1. 1. 1.]]\n",
      "[[5 5]\n",
      " [5 5]\n",
      " [5 5]]\n",
      "[[15. 15.]\n",
      " [15. 15.]]\n",
      "1.0\n"
     ]
    }
   ],
   "source": [
    "# Linear Algebra\n",
    "a = np.ones((2,3))\n",
    "print(a)\n",
    "\n",
    "b = np.full((3,2), 5)\n",
    "print(b)\n",
    "\n",
    "print(np.matmul(a,b))  # matmul = matrix multiplication\n",
    "\n",
    "# Find the determinant\n",
    "c = np.identity(3)\n",
    "print(np.linalg.det(c))    # linalg.det = to find determinant of matries\n",
    "\n",
    "## Reference docs (https://docs.scipy.org/doc/numpy/reference/routines.linalg.html)\n",
    "\n",
    "# Determinant\n",
    "# Trace\n",
    "# Singular Vector Decomposition\n",
    "# Eigenvalues\n",
    "# Matrix Norm\n",
    "# Inverse\n",
    "# Etc..."
   ]
  },
  {
   "cell_type": "code",
   "execution_count": 19,
   "id": "6aa36a65",
   "metadata": {},
   "outputs": [
    {
     "name": "stdout",
     "output_type": "stream",
     "text": [
      "[[1 2 3]\n",
      " [4 5 6]]\n",
      "1\n",
      "[3 6]\n",
      "[5 7 9]\n",
      "[5 7 9]\n",
      "[1 2 3]\n",
      "[4 5 6]\n",
      "[ 1  3  6 10 15 21]\n",
      "720\n",
      "[  1   2   6  24 120 720]\n",
      "[  1  32 729]\n"
     ]
    }
   ],
   "source": [
    "# Statistics\n",
    "stats = np.array([[1,2,3],[4,5,6]])            # ------> axis = 1\n",
    "print(stats)                                   # |\n",
    "                                               # |\n",
    "print(np.min(stats))                           # |\n",
    "                                               #\\|/ axis = 0\n",
    "print(np.max(stats, axis=1))\n",
    "\n",
    "print(np.sum(stats, axis=0))\n",
    "\n",
    "# or\n",
    "\n",
    "print(stats.sum(axis=0))\n",
    "print(stats.min(axis=0))\n",
    "print(stats.max(axis=0))\n",
    "print(stats.cumsum())\n",
    "print(stats.prod())\n",
    "print(stats.cumprod())\n",
    "\n",
    "print(np.power(stats[0],stats[1]))   # 1^4,2^5,3^6\n"
   ]
  },
  {
   "cell_type": "code",
   "execution_count": 20,
   "id": "43aee2b0",
   "metadata": {},
   "outputs": [
    {
     "name": "stdout",
     "output_type": "stream",
     "text": [
      "[[1 2 3 4]\n",
      " [5 6 7 8]]\n",
      "[[1]\n",
      " [2]\n",
      " [3]\n",
      " [4]\n",
      " [5]\n",
      " [6]\n",
      " [7]\n",
      " [8]]\n"
     ]
    }
   ],
   "source": [
    "# Reorganizing Arrays\n",
    "before = np.array([[1,2,3,4],[5,6,7,8]])  # 4 X 2\n",
    "print(before)\n",
    "\n",
    "# after = before.reshape((1,8))\n",
    "after = before.reshape((8,1)) \n",
    "\n",
    "# after = before.reshape(()) #Error: other any n X m will give error as n*m = no. of elements in the array (1-D,2-D,3-D....-D)\n",
    "print(after)"
   ]
  },
  {
   "cell_type": "code",
   "execution_count": 21,
   "id": "459bca26",
   "metadata": {},
   "outputs": [
    {
     "data": {
      "text/plain": [
       "array([[1, 2, 3, 4],\n",
       "       [5, 6, 7, 8],\n",
       "       [1, 2, 3, 4],\n",
       "       [5, 6, 7, 8]])"
      ]
     },
     "execution_count": 21,
     "metadata": {},
     "output_type": "execute_result"
    }
   ],
   "source": [
    "# Vertically stacking vectors\n",
    "v1 = np.array([1,2,3,4])\n",
    "v2 = np.array([5,6,7,8])\n",
    "\n",
    "np.vstack([v1,v2,v1,v2])"
   ]
  },
  {
   "cell_type": "code",
   "execution_count": 22,
   "id": "bafa6e0f",
   "metadata": {},
   "outputs": [
    {
     "data": {
      "text/plain": [
       "array([[1., 1., 1., 1., 0., 0.],\n",
       "       [1., 1., 1., 1., 0., 0.]])"
      ]
     },
     "execution_count": 22,
     "metadata": {},
     "output_type": "execute_result"
    }
   ],
   "source": [
    "# Horizontal  stack\n",
    "h1 = np.ones((2,4))\n",
    "h2 = np.zeros((2,2))\n",
    "\n",
    "np.hstack((h1,h2))"
   ]
  },
  {
   "cell_type": "code",
   "execution_count": 23,
   "id": "1f2746e2",
   "metadata": {},
   "outputs": [],
   "source": [
    "# Miscellaneous\n",
    "\n",
    "# Load Data from File\n",
    "# filedata = np.genfromtxt('data.txt', delimiter=',')\n",
    "# filedata = filedata.astype('int32')\n",
    "# print(filedata)\n",
    "\n",
    "# Boolean Masking and Advanced Indexing\n",
    "# (~((filedata > 50) & (filedata < 100)))"
   ]
  },
  {
   "cell_type": "code",
   "execution_count": 24,
   "id": "816e6aaf",
   "metadata": {},
   "outputs": [
    {
     "name": "stdout",
     "output_type": "stream",
     "text": [
      "1\n",
      "(10,)\n",
      "[0 1 2 3 4 5 6 7 8 9]\n",
      "2\n",
      "(2, 5)\n",
      "[[0 1 2 3 4]\n",
      " [5 6 7 8 9]]\n",
      "1\n",
      "(10,)\n",
      "[0 1 2 3 4 5 6 7 8 9]\n"
     ]
    }
   ],
   "source": [
    "a = np.arange(10)   # using range function of python as arange here to give nos. in continuous range order\n",
    "print(a.ndim)\n",
    "print(a.shape)\n",
    "print(a)\n",
    "\n",
    "b = a.reshape(2,5) \n",
    "# \"reshape\" function reshapes the array but doesn't make changes to the original one but assigns the reshaped array to new array or the old one as weel\n",
    "\n",
    "print(b.ndim)\n",
    "print(b.shape)\n",
    "print(b)\n",
    "\n",
    "print(a.ndim)\n",
    "print(a.shape)\n",
    "print(a)"
   ]
  },
  {
   "cell_type": "code",
   "execution_count": 25,
   "id": "1665dbca",
   "metadata": {},
   "outputs": [
    {
     "name": "stdout",
     "output_type": "stream",
     "text": [
      "[1.         1.44444444 1.88888889 2.33333333 2.77777778 3.22222222\n",
      " 3.66666667 4.11111111 4.55555556 5.        ]\n"
     ]
    }
   ],
   "source": [
    "linspace_arr = np.linspace(1,5,10)  # divides the range 1 to 5 into 10 equal parts \n",
    "print(linspace_arr)"
   ]
  },
  {
   "cell_type": "markdown",
   "id": "a3b5fb72",
   "metadata": {},
   "source": [
    "# reshaping and ravelling"
   ]
  },
  {
   "cell_type": "code",
   "execution_count": 26,
   "id": "18cf8e3d",
   "metadata": {},
   "outputs": [
    {
     "data": {
      "text/plain": [
       "array([ 0,  1,  2,  3,  4,  5,  6,  7,  8,  9, 10, 11, 12, 13, 14, 15, 16,\n",
       "       17, 18, 19, 20, 21, 22, 23, 24, 25, 26, 27, 28, 29, 30, 31, 32, 33,\n",
       "       34, 35, 36, 37, 38, 39, 40, 41, 42, 43, 44, 45, 46, 47, 48, 49, 50,\n",
       "       51, 52, 53, 54, 55, 56, 57, 58, 59, 60, 61, 62, 63, 64, 65, 66, 67,\n",
       "       68, 69, 70, 71, 72, 73, 74, 75, 76, 77, 78, 79, 80, 81, 82, 83, 84,\n",
       "       85, 86, 87, 88, 89, 90, 91, 92, 93, 94, 95, 96, 97, 98])"
      ]
     },
     "execution_count": 26,
     "metadata": {},
     "output_type": "execute_result"
    }
   ],
   "source": [
    "arr = np.arange(99)\n",
    "arr"
   ]
  },
  {
   "cell_type": "code",
   "execution_count": 27,
   "id": "236ee838",
   "metadata": {},
   "outputs": [
    {
     "data": {
      "text/plain": [
       "array([[ 0,  1,  2,  3,  4,  5,  6,  7,  8,  9, 10, 11, 12, 13, 14, 15,\n",
       "        16, 17, 18, 19, 20, 21, 22, 23, 24, 25, 26, 27, 28, 29, 30, 31,\n",
       "        32],\n",
       "       [33, 34, 35, 36, 37, 38, 39, 40, 41, 42, 43, 44, 45, 46, 47, 48,\n",
       "        49, 50, 51, 52, 53, 54, 55, 56, 57, 58, 59, 60, 61, 62, 63, 64,\n",
       "        65],\n",
       "       [66, 67, 68, 69, 70, 71, 72, 73, 74, 75, 76, 77, 78, 79, 80, 81,\n",
       "        82, 83, 84, 85, 86, 87, 88, 89, 90, 91, 92, 93, 94, 95, 96, 97,\n",
       "        98]])"
      ]
     },
     "execution_count": 27,
     "metadata": {},
     "output_type": "execute_result"
    }
   ],
   "source": [
    "arr.reshape(3,33) # shapes in N X M form    \n",
    "# doesn't modify the original array\n",
    "# (here we r printing only one thing so we can write like this else we have to write like new_arry = old_array.reshape(m,n))"
   ]
  },
  {
   "cell_type": "code",
   "execution_count": 28,
   "id": "79850df1",
   "metadata": {},
   "outputs": [
    {
     "name": "stdout",
     "output_type": "stream",
     "text": [
      "(99,)\n",
      "[ 0  1  2  3  4  5  6  7  8  9 10 11 12 13 14 15 16 17 18 19 20 21 22 23\n",
      " 24 25 26 27 28 29 30 31 32 33 34 35 36 37 38 39 40 41 42 43 44 45 46 47\n",
      " 48 49 50 51 52 53 54 55 56 57 58 59 60 61 62 63 64 65 66 67 68 69 70 71\n",
      " 72 73 74 75 76 77 78 79 80 81 82 83 84 85 86 87 88 89 90 91 92 93 94 95\n",
      " 96 97 98]\n"
     ]
    }
   ],
   "source": [
    "print(arr.shape)\n",
    "print(arr.ravel()) # makes any shaped array - flatten !!   # doesn't modify the original array"
   ]
  },
  {
   "cell_type": "code",
   "execution_count": 29,
   "id": "0a4d0cce",
   "metadata": {},
   "outputs": [
    {
     "name": "stdout",
     "output_type": "stream",
     "text": [
      "2\n",
      "3\n"
     ]
    }
   ],
   "source": [
    "one = np.array([1,2,7,0,5,3])\n",
    "print(one.argmax())  # returns the index of max and min nos.\n",
    "print(one.argmin())"
   ]
  },
  {
   "cell_type": "code",
   "execution_count": 30,
   "id": "8ece733f",
   "metadata": {},
   "outputs": [
    {
     "data": {
      "text/plain": [
       "array([3, 0, 1, 5, 4, 2], dtype=int64)"
      ]
     },
     "execution_count": 30,
     "metadata": {},
     "output_type": "execute_result"
    }
   ],
   "source": [
    "one.argsort() # sort the array in increasing order of their indexes"
   ]
  },
  {
   "cell_type": "code",
   "execution_count": 31,
   "id": "8a948798",
   "metadata": {},
   "outputs": [
    {
     "name": "stdout",
     "output_type": "stream",
     "text": [
      "[[1 2 7]\n",
      " [0 5 3]]\n",
      "[0 1 0]\n",
      "[2 1]\n",
      "[1 0 1]\n",
      "[0 0]\n"
     ]
    }
   ],
   "source": [
    "two = one.reshape(2,3)\n",
    "print(two)\n",
    "print(two.argmax(axis=0))\n",
    "print(two.argmax(axis=1))\n",
    "print(two.argmin(axis=0))\n",
    "print(two.argmin(axis=1))\n"
   ]
  },
  {
   "cell_type": "code",
   "execution_count": 32,
   "id": "fc5f57b2",
   "metadata": {},
   "outputs": [
    {
     "name": "stdout",
     "output_type": "stream",
     "text": [
      "[ 0  1  2  3  4  5  6  7  8  9 10 11 12 13 14]\n"
     ]
    },
    {
     "data": {
      "text/plain": [
       "(array([ 3,  4,  5,  6,  7,  8,  9, 10, 11, 12, 13, 14], dtype=int64),)"
      ]
     },
     "execution_count": 32,
     "metadata": {},
     "output_type": "execute_result"
    }
   ],
   "source": [
    "hetvi = np.arange(15)\n",
    "print(hetvi)\n",
    "np.where(hetvi>2)   # gives indexes of the numbers that are greater than 2 or that satisfies the where condition"
   ]
  },
  {
   "cell_type": "code",
   "execution_count": 33,
   "id": "36cb815d",
   "metadata": {},
   "outputs": [
    {
     "data": {
      "text/plain": [
       "(array([1, 1, 1, 2, 2, 2, 3, 3, 3, 4, 4, 4], dtype=int64),\n",
       " array([0, 1, 2, 0, 1, 2, 0, 1, 2, 0, 1, 2], dtype=int64))"
      ]
     },
     "execution_count": 33,
     "metadata": {},
     "output_type": "execute_result"
    }
   ],
   "source": [
    "hetvi2D = hetvi.reshape(5,3)\n",
    "np.where(hetvi2D>2) \n",
    "# shows indexes of one axis and then other axis that satisfies where condition like (1,0),(1,1),(1,2),(2,0),(2,1)....\n",
    "# all except(0,0),(0,1),(0,2)"
   ]
  },
  {
   "cell_type": "code",
   "execution_count": 34,
   "id": "9b3fb455",
   "metadata": {},
   "outputs": [
    {
     "name": "stdout",
     "output_type": "stream",
     "text": [
      "[99.  91.  90.  99.8 99.7]\n",
      "90.0\n",
      "99.8\n"
     ]
    }
   ],
   "source": [
    "s = np.array([99,91,90,99.8,99.7])\n",
    "print(s)\n",
    "print(s.min())  # instead of indexes these functions gives min and max numbers(elements) of array\n",
    "print(s.max())"
   ]
  },
  {
   "cell_type": "markdown",
   "id": "ed79f368",
   "metadata": {},
   "source": [
    " "
   ]
  },
  {
   "cell_type": "code",
   "execution_count": 35,
   "id": "014aea27",
   "metadata": {},
   "outputs": [
    {
     "name": "stdout",
     "output_type": "stream",
     "text": [
      "[[1 2 3]\n",
      " [4 5 6]]\n",
      "[[1 4]\n",
      " [2 5]\n",
      " [3 6]]\n"
     ]
    }
   ],
   "source": [
    "array = np.array([[1,2,3],[4,5,6]])\n",
    "print(array)\n",
    "print(array.T)  # transpose of matrix"
   ]
  },
  {
   "cell_type": "code",
   "execution_count": 53,
   "id": "d271c5f4",
   "metadata": {},
   "outputs": [
    {
     "name": "stdout",
     "output_type": "stream",
     "text": [
      "[ 0  1  2  3  4  5  6  7  8  9 10 11 12 13 14 15]\n",
      "[[ 0  1  2  3  4  5  6  7]\n",
      " [ 8  9 10 11 12 13 14 15]]\n",
      "(2, 8)\n",
      "[0 1 2 3 4 5 6 7] [ 8  9 10 11 12 13 14 15]\n",
      "[ 8  9 10 11 12 13 14 15]\n",
      "1 9\n",
      "15\n"
     ]
    }
   ],
   "source": [
    "hetvi = np.arange(16)\n",
    "print(hetvi)\n",
    "hetvi2 = hetvi.reshape(2,8)\n",
    "print(hetvi2)\n",
    "print(hetvi2.shape)\n",
    "print(hetvi2[0],hetvi2[1])  #Imp  # by writing like this we get 0 as first row and 1 as second row\n",
    "print(hetvi2[-1])         # prints last row \n",
    "print(hetvi2[0,1],hetvi2[1,1]) #Imp\n",
    "print(hetvi2[-1,-1])     #Imp last = -1 last second = -2...."
   ]
  },
  {
   "cell_type": "markdown",
   "id": "1b90165e",
   "metadata": {},
   "source": [
    "# Datatypes "
   ]
  },
  {
   "cell_type": "code",
   "execution_count": 48,
   "id": "d4fb532e",
   "metadata": {},
   "outputs": [
    {
     "name": "stdout",
     "output_type": "stream",
     "text": [
      "[[1 2 3]\n",
      " [1 2 3]]\n",
      "int32\n",
      "[[1. 2. 3.]\n",
      " [1. 2. 3.]]\n",
      "float64\n",
      "[[1 2 3]\n",
      " [1 2 3]]\n",
      "int32\n",
      "[[1 2 3]\n",
      " [1 2 3]]\n",
      "int64\n",
      "[[1. 2. 3.]\n",
      " [1. 2. 3.]]\n",
      "float32\n",
      "[[1 2 3]\n",
      " [1 2 3]]\n",
      "int16\n",
      "[[1.+0.j 2.+0.j]\n",
      " [3.+0.j 4.+0.j]]\n",
      "complex128\n"
     ]
    }
   ],
   "source": [
    "arr = np.array([[1,2,3],[1,2,3]])\n",
    "print(arr)\n",
    "print(arr.dtype.name)           # default int is of 32 bytes\n",
    "\n",
    "\n",
    "arr1 = np.array([[1,2,3],[1,2,3]], dtype = float)\n",
    "print(arr1)                    \n",
    "print(arr1.dtype.name)          # default float is of 64 bytes\n",
    "\n",
    "arr2 = np.array([[1,2,3],[1,2,3]], dtype = np.int32)\n",
    "print(arr2)\n",
    "print(arr2.dtype.name)     # ---> command to know the name of datatype\n",
    "\n",
    "arr3 = np.array([[1,2,3],[1,2,3]], dtype = np.int64)\n",
    "print(arr3)\n",
    "print(arr3.dtype.name)\n",
    "\n",
    "\n",
    "arr4 = np.array([[1,2,3],[1,2,3]], dtype = np.float32)\n",
    "print(arr4)\n",
    "print(arr4.dtype.name)\n",
    "\n",
    "arr5= np.array([[1,2,3],[1,2,3]], dtype = np.int16)\n",
    "print(arr5)\n",
    "print(arr5.dtype.name)\n",
    "\n",
    "c = np.array([[1, 2], [3, 4]], dtype=complex)\n",
    "print(c)\n",
    "print(c.dtype.name)       # --------> default complex is of 128 bytes"
   ]
  },
  {
   "cell_type": "code",
   "execution_count": 38,
   "id": "4cbee239",
   "metadata": {},
   "outputs": [
    {
     "name": "stdout",
     "output_type": "stream",
     "text": [
      "[ 32766  32767 -32768]\n",
      "[65535     0     1]\n"
     ]
    }
   ],
   "source": [
    "\n",
    "# np.int16 Integer (-32768 to 32767)\n",
    "\n",
    "# np.int32 Integer (-2147483648 to 2147483647)\n",
    "\n",
    "# np.int64 Integer (-9223372036854775808 to 9223372036854775887)\n",
    "\n",
    "array_a = np.array( [32766, 32767, 32768],dtype = np.int16)\n",
    "print(array_a)    # bcoz 32768 is out of int16 bound therefore it will give negative no. to show error\n",
    "\n",
    "# np.uint16 Unsigned integer (0 to 65535)\n",
    "\n",
    "# np.uint32 Unsigned integer (0 to 4294967295)\n",
    "\n",
    "# np.uint64 Unsigned integer (0 to 18446744073709551615)\n",
    "array_b = np.array([-1,0,1],dtype = np.uint16)\n",
    "print(array_b)    # bcoz negative no. doesnot come in unsigned int16 so \"-1\" is out of bound and so it shows different no. to show error\n",
    "\n",
    "# np.float Same as Python's"
   ]
  },
  {
   "cell_type": "code",
   "execution_count": 39,
   "id": "be8ee456",
   "metadata": {},
   "outputs": [
    {
     "name": "stdout",
     "output_type": "stream",
     "text": [
      "[[False False False]\n",
      " [False False  True]\n",
      " [ True  True  True]]\n",
      "[ 6 17 28 39]\n"
     ]
    }
   ],
   "source": [
    "# boolean\n",
    "test_data = np.array([[1,2,3],[4,5,6],[17,28,39]])\n",
    "greater_than_five = test_data > 5\n",
    "print(greater_than_five)\n",
    "print(test_data[greater_than_five])"
   ]
  },
  {
   "cell_type": "code",
   "execution_count": 40,
   "id": "946f21ec",
   "metadata": {},
   "outputs": [
    {
     "name": "stdout",
     "output_type": "stream",
     "text": [
      "[[ 0  0  0]\n",
      " [ 0  0  6]\n",
      " [17 28 39]]\n",
      "[[ 0  0  0]\n",
      " [ 0  0 -1]\n",
      " [-1 -1 -1]]\n",
      "[[-1 -1 -1]\n",
      " [-1 -1  6]\n",
      " [17 28 39]]\n"
     ]
    }
   ],
   "source": [
    "# where\n",
    "\n",
    "drop_under_5_array = np.where(test_data > 5 , test_data , 0)\n",
    "print(drop_under_5_array)\n",
    "\n",
    "drop_under_5_array2 = np.where(test_data > 5 ,-1 , 0)\n",
    "print(drop_under_5_array2)\n",
    "\n",
    "drop_under_5_array3 = np.where(test_data > 5 ,test_data , -1)\n",
    "print(drop_under_5_array3)"
   ]
  },
  {
   "cell_type": "code",
   "execution_count": 41,
   "id": "02064616",
   "metadata": {},
   "outputs": [
    {
     "name": "stdout",
     "output_type": "stream",
     "text": [
      "[[False False False]\n",
      " [False False  True]\n",
      " [ True False False]]\n",
      "[ 6 17]\n"
     ]
    }
   ],
   "source": [
    "# logical_and   (used for 2 conditions)\n",
    "drop_under_5_and_over_20 = np.logical_and(test_data > 5 , test_data <20)\n",
    "print(drop_under_5_and_over_20)\n",
    "print(test_data[drop_under_5_and_over_20])"
   ]
  },
  {
   "cell_type": "code",
   "execution_count": 42,
   "id": "124ac072",
   "metadata": {},
   "outputs": [
    {
     "name": "stdout",
     "output_type": "stream",
     "text": [
      "[[2 1 2 1]\n",
      " [3 2 3 2]\n",
      " [4 3 4 3]]\n",
      "[[2 2 2 2]\n",
      " [4 4 4 4]\n",
      " [6 6 6 6]]\n"
     ]
    }
   ],
   "source": [
    "# broadcasting #imp\n",
    "arr_a = np.array([[1,1,1,1],[2,2,2,2],[3,3,3,3]])  \n",
    "arr_b = np.array([1,0,1,0])  # this is same as [[1,0,1,0],[1,0,1,0],[1,0,1,0],[1,0,1,0]] + arr_a\n",
    "\n",
    "print(arr_a + arr_b)\n",
    "\n",
    "arr_c = np.array([[1],[2],[3]])  # this is same as [[1,1,1,1],[2,2,2,2],[3,3,3,3]]\n",
    "print(arr_a + arr_c)"
   ]
  },
  {
   "cell_type": "code",
   "execution_count": 43,
   "id": "bacf4efc",
   "metadata": {},
   "outputs": [],
   "source": [
    "# for more reference go to official numpy documentation and press ctrl+f to find any command "
   ]
  },
  {
   "cell_type": "markdown",
   "id": "90521e79",
   "metadata": {},
   "source": [
    "# more from documentation quich start\n"
   ]
  },
  {
   "cell_type": "code",
   "execution_count": 44,
   "id": "9144aa25",
   "metadata": {},
   "outputs": [
    {
     "name": "stdout",
     "output_type": "stream",
     "text": [
      "[[1.+0.j 2.+0.j]\n",
      " [3.+0.j 4.+0.j]]\n"
     ]
    }
   ],
   "source": [
    "c = np.array([[1, 2], [3, 4]], dtype=complex)\n",
    "print(c)"
   ]
  },
  {
   "cell_type": "code",
   "execution_count": 45,
   "id": "641085c5",
   "metadata": {},
   "outputs": [
    {
     "data": {
      "text/plain": [
       "array([[4.24399158e-314, 4.24399158e-314, 8.48798317e-314],\n",
       "       [8.48798317e-314, 1.27319747e-313, 1.27319747e-313]])"
      ]
     },
     "execution_count": 45,
     "metadata": {},
     "output_type": "execute_result"
    }
   ],
   "source": [
    "np.empty((2, 3))"
   ]
  },
  {
   "cell_type": "code",
   "execution_count": 47,
   "id": "45e65baf",
   "metadata": {},
   "outputs": [
    {
     "name": "stdout",
     "output_type": "stream",
     "text": [
      "[[2 0]\n",
      " [0 4]]\n",
      "[[5 4]\n",
      " [3 4]]\n",
      "[[5 4]\n",
      " [3 4]]\n"
     ]
    }
   ],
   "source": [
    "A = np.array([[1, 1],\n",
    "              [0, 1]])\n",
    "B = np.array([[2, 0],\n",
    "              [3, 4]])\n",
    "print(A * B)     # elementwise product\n",
    "\n",
    "print(A @ B)     # matrix product\n",
    "\n",
    "print(A.dot(B))  # another way of  matrix product\n"
   ]
  },
  {
   "cell_type": "code",
   "execution_count": 50,
   "id": "81e428a9",
   "metadata": {},
   "outputs": [
    {
     "name": "stdout",
     "output_type": "stream",
     "text": [
      "[[0.51182162 0.9504637  0.14415961]\n",
      " [0.94864945 0.31183145 0.42332645]]\n"
     ]
    }
   ],
   "source": [
    "rg = np.random.default_rng(1)  # create instance of default random number generator\n",
    "b = rg.random((2, 3))\n",
    "print(b)"
   ]
  },
  {
   "cell_type": "code",
   "execution_count": 52,
   "id": "4f8cae4f",
   "metadata": {},
   "outputs": [
    {
     "name": "stdout",
     "output_type": "stream",
     "text": [
      "[0 1 2]\n",
      "[1.         2.71828183 7.3890561 ]\n",
      "[0.         1.         1.41421356]\n",
      "[2. 0. 6.]\n",
      "[2. 0. 6.]\n"
     ]
    }
   ],
   "source": [
    "# universal functions\n",
    "B = np.arange(3)\n",
    "print(B)\n",
    "\n",
    "print(np.exp(B)) # e^B\n",
    "\n",
    "print(np.sqrt(B))\n",
    "\n",
    "C = np.array([2., -1., 4.])\n",
    "\n",
    "print(np.add(B, C))  # to add two arrays\n",
    "# or\n",
    "print(B + C)        # to add two arrays"
   ]
  },
  {
   "cell_type": "code",
   "execution_count": 55,
   "id": "65f90c77",
   "metadata": {},
   "outputs": [
    {
     "name": "stdout",
     "output_type": "stream",
     "text": [
      "(2, 2, 3)\n",
      "[[100 101 102]\n",
      " [110 112 113]]\n",
      "[[  2  13]\n",
      " [102 113]]\n"
     ]
    }
   ],
   "source": [
    "c = np.array([[[  0,  1,  2],  # a 3D array (two stacked 2D arrays)\n",
    "               [ 10, 12, 13]],\n",
    "              [[100, 101, 102],\n",
    "               [110, 112, 113]]])\n",
    "print(c.shape)\n",
    "\n",
    "print(c[1, ...])                # same as c[1, :, :] or c[1]\n",
    "  \n",
    "print(c[..., 2])               # same as c[:, :, 2]\n"
   ]
  },
  {
   "cell_type": "markdown",
   "id": "8c43e1d8",
   "metadata": {},
   "source": [
    "# spliting one array into equal parts"
   ]
  },
  {
   "cell_type": "code",
   "execution_count": 58,
   "id": "016a2d1f",
   "metadata": {},
   "outputs": [
    {
     "name": "stdout",
     "output_type": "stream",
     "text": [
      "[[1. 0. 8. 8. 8. 4. 2. 0. 6. 7. 8. 2.]\n",
      " [2. 6. 8. 9. 1. 4. 8. 4. 5. 0. 6. 9.]]\n",
      "[array([[1., 0., 8., 8.],\n",
      "       [2., 6., 8., 9.]]), array([[8., 4., 2., 0.],\n",
      "       [1., 4., 8., 4.]]), array([[6., 7., 8., 2.],\n",
      "       [5., 0., 6., 9.]])]\n"
     ]
    }
   ],
   "source": [
    "a = np.floor(10 * rg.random((2, 12)))\n",
    "print(a)\n",
    "\n",
    "\n",
    "print(np.hsplit(a, 3))\n",
    "# # [\n",
    "#   array([[6., 7., 6., 9.],\n",
    "#          [8., 5., 5., 7.]]),\n",
    "#   array([[0., 5., 4., 0.],\n",
    "#          [1., 8., 6., 7.]]),\n",
    "#   array([[6., 8., 5., 2.],\n",
    "#          [1., 8., 1., 0.]])\n",
    "#   ]"
   ]
  },
  {
   "cell_type": "markdown",
   "id": "b31d986c",
   "metadata": {},
   "source": [
    "# Different types of copies"
   ]
  },
  {
   "cell_type": "code",
   "execution_count": 75,
   "id": "3e90f3be",
   "metadata": {},
   "outputs": [
    {
     "name": "stdout",
     "output_type": "stream",
     "text": [
      "True\n",
      "[[ 1 99  2  3]\n",
      " [ 4  5  6  7]\n",
      " [ 8  9 10 11]]\n",
      "[[ 1 99  2  3]\n",
      " [ 4  5  6  7]\n",
      " [ 8  9 10 11]]\n",
      "\n",
      "2nd method of copy\n",
      "\n",
      "False\n",
      "True\n",
      "False\n",
      "(3, 4)\n",
      "(2, 6)\n",
      "[[   1   99    2    3]\n",
      " [1234    5    6    7]\n",
      " [   8    9   10   11]]\n",
      "[[   1   99    2    3 1234    5]\n",
      " [   6    7    8    9   10   11]]\n",
      "\n",
      "3rd way of copy\n",
      "\n",
      "False\n",
      "False\n",
      "[[   1   99    2    3]\n",
      " [1234    5    6    7]\n",
      " [   8    9   10   11]]\n",
      "[[9999   99    2    3]\n",
      " [1234    5    6    7]\n",
      " [   8    9   10   11]]\n"
     ]
    }
   ],
   "source": [
    "# 1)No copy at all\n",
    "a = np.array([[ 1,  1,  2,  3],\n",
    "              [ 4,  5,  6,  7],\n",
    "              [ 8,  9, 10, 11]])\n",
    "b = a            # no new object is created\n",
    "print(b is a)      \n",
    "b[0,1] = 99     # changes in b(copy) will also be reflected in a(original)\n",
    "print(a)\n",
    "print(b)\n",
    "\n",
    "# 2) shallow copy\n",
    "print(\"\\n2nd method of copy\\n\")\n",
    "c = a.view()\n",
    "print(c is a)\n",
    "\n",
    "print(c.base is a)            # c is a view of the data owned by a\n",
    "\n",
    "print(c.flags.owndata)\n",
    "\n",
    "c = c.reshape((2, 6))  # a's shape doesn't change\n",
    "print(a.shape)\n",
    "print(c.shape)\n",
    "\n",
    "c[0, 4] = 1234         # a's data changes\n",
    "print(a)\n",
    "print(c)\n",
    "\n",
    "# 3) deep copy\n",
    "print(\"\\n3rd way of copy\\n\")\n",
    "\n",
    "d = a.copy()  # a new array object with new data is created\n",
    "print(d is a)\n",
    "\n",
    "print(d.base is a)  # d doesn't share anything with a\n",
    "\n",
    "d[0, 0] = 9999      # changes made in copy (d here) will only be in d and will not reflected in  original array(a here)\n",
    "print(a)\n",
    "print(d)"
   ]
  },
  {
   "cell_type": "code",
   "execution_count": 73,
   "id": "9e4bc5d9",
   "metadata": {},
   "outputs": [
    {
     "name": "stdout",
     "output_type": "stream",
     "text": [
      "[[   1   10   10    3]\n",
      " [1234   10   10    7]\n",
      " [   8   10   10   11]]\n"
     ]
    }
   ],
   "source": [
    "#Slicing an array returns a view of it:\n",
    "\n",
    "s = a[:, 1:3]\n",
    "s[:] = 10         # s[:] is a view of s. Note the difference between s = 10 and s[:] = 10\n",
    "print(a)"
   ]
  },
  {
   "cell_type": "code",
   "execution_count": 79,
   "id": "c2ab5b89",
   "metadata": {},
   "outputs": [
    {
     "name": "stdout",
     "output_type": "stream",
     "text": [
      "[0 1 2 3 4]\n",
      "[0 0 2 0 0]\n"
     ]
    }
   ],
   "source": [
    "# indexing again\n",
    "a = np.arange(5)\n",
    "print(a)\n",
    "\n",
    "a[[1, 3, 4]] = 0\n",
    "print(a)\n"
   ]
  },
  {
   "cell_type": "code",
   "execution_count": 80,
   "id": "0ae9245b",
   "metadata": {},
   "outputs": [
    {
     "name": "stdout",
     "output_type": "stream",
     "text": [
      "[2 1 3 3 4]\n"
     ]
    }
   ],
   "source": [
    "#However, when the list of indices contains repetitions, the assignment is done several times, leaving behind the last value:\n",
    "\n",
    "a = np.arange(5)\n",
    "a[[0, 0, 2]] = [1, 2, 3]\n",
    "print(a)"
   ]
  },
  {
   "cell_type": "code",
   "execution_count": 81,
   "id": "50a5a671",
   "metadata": {},
   "outputs": [
    {
     "name": "stdout",
     "output_type": "stream",
     "text": [
      "[1 1 3 3 4]\n"
     ]
    }
   ],
   "source": [
    "#This is reasonable enough, but watch out if you want to use Python’s += construct, as it may not do what you expect:\n",
    "\n",
    "a = np.arange(5)\n",
    "a[[0, 0, 2]] += 1\n",
    "print(a)\n"
   ]
  },
  {
   "cell_type": "code",
   "execution_count": 82,
   "id": "62f8bfaf",
   "metadata": {},
   "outputs": [
    {
     "data": {
      "text/plain": [
       "(2, 5, 3)"
      ]
     },
     "execution_count": 82,
     "metadata": {},
     "output_type": "execute_result"
    }
   ],
   "source": [
    "#“Automatic” Reshaping\n",
    "a = np.arange(30)\n",
    "b = a.reshape((2, -1, 3))  # -1 means \"whatever is needed\"\n",
    "b.shape"
   ]
  },
  {
   "cell_type": "code",
   "execution_count": null,
   "id": "5d72fd38",
   "metadata": {},
   "outputs": [],
   "source": []
  }
 ],
 "metadata": {
  "kernelspec": {
   "display_name": "Python 3 (ipykernel)",
   "language": "python",
   "name": "python3"
  },
  "language_info": {
   "codemirror_mode": {
    "name": "ipython",
    "version": 3
   },
   "file_extension": ".py",
   "mimetype": "text/x-python",
   "name": "python",
   "nbconvert_exporter": "python",
   "pygments_lexer": "ipython3",
   "version": "3.9.7"
  }
 },
 "nbformat": 4,
 "nbformat_minor": 5
}
