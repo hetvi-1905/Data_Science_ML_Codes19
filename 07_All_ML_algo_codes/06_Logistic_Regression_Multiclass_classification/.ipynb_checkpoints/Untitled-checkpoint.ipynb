{
 "cells": [
  {
   "cell_type": "code",
   "execution_count": 1,
   "id": "9928d810",
   "metadata": {},
   "outputs": [],
   "source": [
    "%matplotlib inline\n",
    "import matplotlib.pyplot as plt\n",
    "\n",
    "from sklearn.datasets import load_digits"
   ]
  },
  {
   "cell_type": "code",
   "execution_count": 2,
   "id": "70ad444b",
   "metadata": {},
   "outputs": [],
   "source": [
    "digits = load_digits()"
   ]
  },
  {
   "cell_type": "code",
   "execution_count": 3,
   "id": "867d35dc",
   "metadata": {},
   "outputs": [
    {
     "data": {
      "text/plain": [
       "['DESCR', 'data', 'feature_names', 'frame', 'images', 'target', 'target_names']"
      ]
     },
     "execution_count": 3,
     "metadata": {},
     "output_type": "execute_result"
    }
   ],
   "source": [
    "dir(digits)  # to see the columns from excel file (its not a dataframe yet)"
   ]
  },
  {
   "cell_type": "code",
   "execution_count": 4,
   "id": "17330c32",
   "metadata": {},
   "outputs": [
    {
     "data": {
      "text/plain": [
       "array([ 0.,  0.,  5., 13.,  9.,  1.,  0.,  0.,  0.,  0., 13., 15., 10.,\n",
       "       15.,  5.,  0.,  0.,  3., 15.,  2.,  0., 11.,  8.,  0.,  0.,  4.,\n",
       "       12.,  0.,  0.,  8.,  8.,  0.,  0.,  5.,  8.,  0.,  0.,  9.,  8.,\n",
       "        0.,  0.,  4., 11.,  0.,  1., 12.,  7.,  0.,  0.,  2., 14.,  5.,\n",
       "       10., 12.,  0.,  0.,  0.,  0.,  6., 13., 10.,  0.,  0.,  0.])"
      ]
     },
     "execution_count": 4,
     "metadata": {},
     "output_type": "execute_result"
    }
   ],
   "source": [
    "digits.data[0]  # 8 X 8 bytes pixels = 64 total pixels(bits) are there in data where each row has 64 pixels bits i.e 64 cols and such n rows"
   ]
  },
  {
   "cell_type": "code",
   "execution_count": 5,
   "id": "e2c353c5",
   "metadata": {},
   "outputs": [
    {
     "data": {
      "text/plain": [
       "<Figure size 432x288 with 0 Axes>"
      ]
     },
     "metadata": {},
     "output_type": "display_data"
    },
    {
     "data": {
      "image/png": "[encoded data removed]",
      "text/plain": [
       "<Figure size 288x288 with 1 Axes>"
      ]
     },
     "metadata": {
      "needs_background": "light"
     },
     "output_type": "display_data"
    },
    {
     "data": {
      "image/png": "[encoded data removed]",
      "text/plain": [
       "<Figure size 288x288 with 1 Axes>"
      ]
     },
     "metadata": {
      "needs_background": "light"
     },
     "output_type": "display_data"
    },
    {
     "data": {
      "image/png": "[encoded data removed]",
      "text/plain": [
       "<Figure size 288x288 with 1 Axes>"
      ]
     },
     "metadata": {
      "needs_background": "light"
     },
     "output_type": "display_data"
    },
    {
     "data": {
      "image/png": "[encoded data removed]",
      "text/plain": [
       "<Figure size 288x288 with 1 Axes>"
      ]
     },
     "metadata": {
      "needs_background": "light"
     },
     "output_type": "display_data"
    },
    {
     "data": {
      "image/png": "[encoded data removed]",
      "text/plain": [
       "<Figure size 288x288 with 1 Axes>"
      ]
     },
     "metadata": {
      "needs_background": "light"
     },
     "output_type": "display_data"
    }
   ],
   "source": [
    "plt.gray()\n",
    "for i in range(5):\n",
    "    plt.matshow(digits.images[i])"
   ]
  },
  {
   "cell_type": "code",
   "execution_count": 7,
   "id": "9176a313",
   "metadata": {},
   "outputs": [
    {
     "data": {
      "text/plain": [
       "array([0, 1, 2, 3, 4])"
      ]
     },
     "execution_count": 7,
     "metadata": {},
     "output_type": "execute_result"
    }
   ],
   "source": [
    "digits.target[0:5]  # ans of the image is there in target"
   ]
  },
  {
   "cell_type": "code",
   "execution_count": 13,
   "id": "82dc603a",
   "metadata": {},
   "outputs": [],
   "source": [
    "from sklearn.model_selection import train_test_split\n",
    "X_train,X_test,y_train,y_test = train_test_split(digits.data,digits.target,test_size=0.2)"
   ]
  },
  {
   "cell_type": "code",
   "execution_count": 14,
   "id": "09e626bc",
   "metadata": {},
   "outputs": [
    {
     "data": {
      "text/plain": [
       "360"
      ]
     },
     "execution_count": 14,
     "metadata": {},
     "output_type": "execute_result"
    }
   ],
   "source": [
    "len(X_test)"
   ]
  },
  {
   "cell_type": "code",
   "execution_count": 15,
   "id": "29eb7224",
   "metadata": {},
   "outputs": [
    {
     "data": {
      "text/plain": [
       "1437"
      ]
     },
     "execution_count": 15,
     "metadata": {},
     "output_type": "execute_result"
    }
   ],
   "source": [
    "len(X_train)"
   ]
  },
  {
   "cell_type": "code",
   "execution_count": 16,
   "id": "52b14d74",
   "metadata": {},
   "outputs": [],
   "source": [
    "from sklearn.linear_model import LogisticRegression\n",
    "model = LogisticRegression()"
   ]
  },
  {
   "cell_type": "code",
   "execution_count": 17,
   "id": "803a97c8",
   "metadata": {},
   "outputs": [
    {
     "name": "stderr",
     "output_type": "stream",
     "text": [
      "D:\\Anaconda\\lib\\site-packages\\sklearn\\linear_model\\_logistic.py:763: ConvergenceWarning: lbfgs failed to converge (status=1):\n",
      "STOP: TOTAL NO. of ITERATIONS REACHED LIMIT.\n",
      "\n",
      "Increase the number of iterations (max_iter) or scale the data as shown in:\n",
      "    https://scikit-learn.org/stable/modules/preprocessing.html\n",
      "Please also refer to the documentation for alternative solver options:\n",
      "    https://scikit-learn.org/stable/modules/linear_model.html#logistic-regression\n",
      "  n_iter_i = _check_optimize_result(\n"
     ]
    },
    {
     "data": {
      "text/plain": [
       "LogisticRegression()"
      ]
     },
     "execution_count": 17,
     "metadata": {},
     "output_type": "execute_result"
    }
   ],
   "source": [
    "model.fit(X_train,y_train)"
   ]
  },
  {
   "cell_type": "code",
   "execution_count": 18,
   "id": "05daddf1",
   "metadata": {},
   "outputs": [
    {
     "data": {
      "text/plain": [
       "0.9638888888888889"
      ]
     },
     "execution_count": 18,
     "metadata": {},
     "output_type": "execute_result"
    }
   ],
   "source": [
    "model.score(X_test,y_test)"
   ]
  },
  {
   "cell_type": "code",
   "execution_count": 19,
   "id": "ac0886d6",
   "metadata": {},
   "outputs": [
    {
     "data": {
      "text/plain": [
       "array([5, 3, 3, 1, 4, 2, 5, 7, 9, 1, 6, 1, 2, 1, 3, 5, 2, 0, 8, 1, 5, 1,\n",
       "       1, 0, 4, 6, 9, 0, 9, 5, 8, 2, 9, 8, 8, 7, 5, 4, 0, 3, 5, 2, 3, 4,\n",
       "       2, 1, 4, 7, 2, 1, 3, 9, 1, 1, 6, 5, 6, 8, 1, 2, 0, 4, 3, 5, 4, 9,\n",
       "       8, 7, 5, 2, 4, 2, 8, 0, 0, 6, 5, 6, 0, 3, 0, 8, 0, 8, 5, 4, 5, 3,\n",
       "       3, 4, 2, 7, 3, 3, 3, 4, 2, 6, 4, 1, 7, 6, 6, 1, 8, 7, 9, 9, 0, 6,\n",
       "       8, 0, 1, 7, 8, 4, 8, 1, 7, 4, 0, 6, 3, 0, 2, 9, 1, 7, 7, 2, 4, 8,\n",
       "       0, 4, 8, 8, 7, 0, 5, 5, 2, 8, 3, 6, 6, 8, 0, 4, 2, 2, 0, 2, 8, 8,\n",
       "       5, 8, 9, 2, 5, 0, 9, 7, 9, 9, 2, 5, 2, 4, 7, 5, 8, 1, 7, 9, 8, 7,\n",
       "       3, 2, 2, 6, 0, 8, 7, 3, 3, 5, 4, 2, 5, 4, 0, 2, 6, 3, 8, 1, 5, 5,\n",
       "       4, 8, 2, 6, 7, 1, 8, 2, 1, 4, 6, 8, 2, 5, 8, 7, 7, 1, 6, 5, 5, 3,\n",
       "       9, 0, 9, 7, 4, 3, 6, 9, 2, 5, 8, 6, 1, 3, 8, 8, 4, 6, 9, 1, 1, 5,\n",
       "       5, 3, 5, 3, 4, 7, 7, 6, 0, 9, 5, 1, 4, 5, 9, 5, 9, 2, 4, 1, 8, 3,\n",
       "       4, 0, 2, 6, 6, 2, 2, 8, 0, 3, 6, 8, 2, 0, 4, 2, 2, 0, 1, 3, 1, 2,\n",
       "       3, 0, 6, 7, 7, 9, 5, 4, 8, 1, 8, 8, 9, 9, 3, 0, 2, 1, 8, 4, 8, 5,\n",
       "       5, 8, 9, 2, 9, 9, 9, 7, 1, 7, 5, 2, 0, 0, 0, 1, 5, 6, 2, 8, 6, 2,\n",
       "       5, 3, 5, 5, 4, 7, 7, 2, 8, 8, 7, 9, 3, 6, 7, 3, 2, 0, 0, 6, 0, 1,\n",
       "       5, 7, 8, 9, 6, 2, 4, 4])"
      ]
     },
     "execution_count": 19,
     "metadata": {},
     "output_type": "execute_result"
    }
   ],
   "source": [
    "model.predict(X_test)"
   ]
  },
  {
   "cell_type": "code",
   "execution_count": 20,
   "id": "595e4bed",
   "metadata": {},
   "outputs": [
    {
     "data": {
      "text/plain": [
       "array([5, 3, 3, 1, 4, 2, 5, 7, 9, 1, 6, 1, 2, 1, 3, 5, 2, 0, 4, 1, 5, 1,\n",
       "       1, 0, 4, 6, 9, 0, 9, 5, 8, 2, 9, 8, 8, 7, 5, 4, 0, 3, 3, 2, 3, 4,\n",
       "       2, 1, 4, 7, 2, 8, 3, 9, 1, 1, 6, 0, 6, 8, 1, 2, 0, 4, 3, 5, 4, 9,\n",
       "       8, 7, 5, 8, 4, 2, 8, 0, 0, 6, 5, 6, 0, 3, 0, 8, 0, 8, 5, 4, 5, 3,\n",
       "       3, 9, 2, 7, 3, 3, 3, 4, 2, 6, 4, 1, 7, 6, 6, 1, 8, 7, 9, 9, 0, 6,\n",
       "       1, 0, 1, 7, 8, 4, 8, 1, 7, 4, 0, 6, 3, 0, 2, 9, 1, 7, 7, 2, 4, 8,\n",
       "       0, 4, 8, 8, 7, 0, 5, 5, 2, 8, 3, 6, 6, 8, 0, 4, 8, 2, 0, 2, 6, 8,\n",
       "       5, 8, 9, 2, 5, 0, 9, 7, 9, 9, 2, 5, 2, 4, 7, 5, 8, 1, 7, 1, 8, 7,\n",
       "       3, 2, 2, 6, 0, 8, 7, 3, 3, 5, 4, 2, 5, 4, 0, 2, 6, 3, 8, 1, 5, 5,\n",
       "       4, 8, 2, 6, 7, 1, 8, 2, 1, 4, 6, 8, 2, 5, 8, 7, 7, 1, 6, 5, 5, 3,\n",
       "       9, 0, 9, 7, 4, 3, 6, 9, 2, 5, 8, 6, 1, 3, 8, 8, 4, 6, 9, 1, 1, 5,\n",
       "       5, 3, 5, 3, 4, 7, 7, 6, 0, 9, 3, 1, 4, 5, 9, 6, 9, 2, 4, 1, 8, 3,\n",
       "       4, 0, 2, 6, 6, 2, 2, 8, 0, 3, 6, 8, 2, 0, 4, 2, 2, 0, 1, 3, 1, 2,\n",
       "       3, 0, 6, 7, 7, 9, 5, 4, 8, 1, 8, 8, 9, 9, 3, 0, 2, 1, 8, 4, 8, 5,\n",
       "       5, 8, 9, 2, 9, 9, 9, 7, 1, 7, 5, 2, 0, 0, 0, 1, 3, 6, 2, 8, 6, 2,\n",
       "       5, 3, 5, 5, 4, 7, 7, 2, 8, 8, 7, 9, 3, 6, 7, 3, 2, 0, 0, 6, 0, 1,\n",
       "       5, 7, 8, 9, 6, 2, 4, 4])"
      ]
     },
     "execution_count": 20,
     "metadata": {},
     "output_type": "execute_result"
    }
   ],
   "source": [
    "y_test"
   ]
  },
  {
   "cell_type": "code",
   "execution_count": 23,
   "id": "c1428f68",
   "metadata": {},
   "outputs": [
    {
     "data": {
      "text/plain": [
       "<matplotlib.image.AxesImage at 0x2d71e91e5e0>"
      ]
     },
     "execution_count": 23,
     "metadata": {},
     "output_type": "execute_result"
    },
    {
     "data": {
      "image/png": "[encoded data removed]",
      "text/plain": [
       "<Figure size 288x288 with 1 Axes>"
      ]
     },
     "metadata": {
      "needs_background": "light"
     },
     "output_type": "display_data"
    }
   ],
   "source": [
    "plt.matshow(digits.images[22])"
   ]
  },
  {
   "cell_type": "code",
   "execution_count": 24,
   "id": "36596be8",
   "metadata": {},
   "outputs": [
    {
     "data": {
      "text/plain": [
       "2"
      ]
     },
     "execution_count": 24,
     "metadata": {},
     "output_type": "execute_result"
    }
   ],
   "source": [
    "digits.target[22]"
   ]
  },
  {
   "cell_type": "code",
   "execution_count": 27,
   "id": "8f9283a4",
   "metadata": {},
   "outputs": [
    {
     "data": {
      "text/plain": [
       "array([2])"
      ]
     },
     "execution_count": 27,
     "metadata": {},
     "output_type": "execute_result"
    }
   ],
   "source": [
    "model.predict([digits.data[22]])  # not giving img but data id of that img i.e 22(img) -> data (22)"
   ]
  },
  {
   "cell_type": "code",
   "execution_count": 29,
   "id": "97529d31",
   "metadata": {},
   "outputs": [
    {
     "data": {
      "text/plain": [
       "array([0, 1, 2, 3, 4])"
      ]
     },
     "execution_count": 29,
     "metadata": {},
     "output_type": "execute_result"
    }
   ],
   "source": [
    "model.predict(digits.data[0:5])"
   ]
  },
  {
   "cell_type": "code",
   "execution_count": 30,
   "id": "73731828",
   "metadata": {},
   "outputs": [],
   "source": [
    "y_predicted = model.predict(X_test)\n",
    "from sklearn.metrics import confusion_matrix"
   ]
  },
  {
   "cell_type": "code",
   "execution_count": 32,
   "id": "030d74c9",
   "metadata": {},
   "outputs": [
    {
     "data": {
      "text/plain": [
       "array([[35,  0,  0,  0,  0,  1,  0,  0,  0,  0],\n",
       "       [ 0, 33,  0,  0,  0,  0,  0,  0,  1,  1],\n",
       "       [ 0,  0, 43,  0,  0,  0,  0,  0,  0,  0],\n",
       "       [ 0,  0,  0, 32,  0,  3,  0,  0,  0,  0],\n",
       "       [ 0,  0,  0,  0, 33,  0,  0,  0,  1,  0],\n",
       "       [ 0,  0,  0,  0,  0, 37,  0,  0,  0,  0],\n",
       "       [ 0,  0,  0,  0,  0,  1, 31,  0,  1,  0],\n",
       "       [ 0,  0,  0,  0,  0,  0,  0, 32,  0,  0],\n",
       "       [ 0,  1,  2,  0,  0,  0,  0,  0, 42,  0],\n",
       "       [ 0,  0,  0,  0,  1,  0,  0,  0,  0, 29]], dtype=int64)"
      ]
     },
     "execution_count": 32,
     "metadata": {},
     "output_type": "execute_result"
    }
   ],
   "source": [
    "cm = confusion_matrix(y_test,y_predicted)\n",
    "cm"
   ]
  },
  {
   "cell_type": "code",
   "execution_count": 34,
   "id": "252ac9a3",
   "metadata": {},
   "outputs": [
    {
     "data": {
      "text/plain": [
       "Text(69.0, 0.5, 'Truth')"
      ]
     },
     "execution_count": 34,
     "metadata": {},
     "output_type": "execute_result"
    },
    {
     "data": {
      "image/png": "[encoded data removed]",
      "text/plain": [
       "<Figure size 720x504 with 2 Axes>"
      ]
     },
     "metadata": {
      "needs_background": "light"
     },
     "output_type": "display_data"
    }
   ],
   "source": [
    "import seaborn as sn\n",
    "plt.figure(figsize = (10,7))\n",
    "sn.heatmap(cm,annot = True)\n",
    "plt.xlabel(\"Prediction\")\n",
    "plt.ylabel(\"Truth\")"
   ]
  },
  {
   "cell_type": "code",
   "execution_count": null,
   "id": "91ad30b6",
   "metadata": {},
   "outputs": [],
   "source": []
  }
 ],
 "metadata": {
  "kernelspec": {
   "display_name": "Python 3 (ipykernel)",
   "language": "python",
   "name": "python3"
  },
  "language_info": {
   "codemirror_mode": {
    "name": "ipython",
    "version": 3
   },
   "file_extension": ".py",
   "mimetype": "text/x-python",
   "name": "python",
   "nbconvert_exporter": "python",
   "pygments_lexer": "ipython3",
   "version": "3.9.7"
  }
 },
 "nbformat": 4,
 "nbformat_minor": 5
}
