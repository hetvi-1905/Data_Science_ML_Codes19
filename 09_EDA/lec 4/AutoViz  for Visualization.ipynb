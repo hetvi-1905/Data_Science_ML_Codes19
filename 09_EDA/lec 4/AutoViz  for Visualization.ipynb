{
 "cells": [
  {
   "cell_type": "markdown",
   "id": "8a510d40",
   "metadata": {},
   "source": [
    "# AutoViz Not Working as error occuring in installation!!"
   ]
  },
  {
   "cell_type": "code",
   "execution_count": 1,
   "id": "d156a452",
   "metadata": {},
   "outputs": [
    {
     "name": "stdout",
     "output_type": "stream",
     "text": [
      "Collecting autoviz"
     ]
    },
    {
     "name": "stderr",
     "output_type": "stream",
     "text": [
      "ERROR: pip's dependency resolver does not currently take into account all the packages that are installed. This behaviour is the source of the following dependency conflicts.\n",
      "spyder 5.1.5 requires pyqt5<5.13, which is not installed.\n",
      "spyder 5.1.5 requires pyqtwebengine<5.13, which is not installed.\n",
      "conda-repo-cli 1.0.4 requires pathlib, which is not installed.\n",
      "numba 0.54.1 requires numpy<1.21,>=1.17, but you have numpy 1.22.3 which is incompatible.\n",
      "distributed 2021.10.0 requires dask==2021.10.0, but you have dask 2021.12.0 which is incompatible.\n"
     ]
    },
    {
     "name": "stdout",
     "output_type": "stream",
     "text": [
      "\n",
      "  Using cached autoviz-0.1.38-py3-none-any.whl (59 kB)\n",
      "Requirement already satisfied: statsmodels in c:\\users\\dell\\anaconda3\\lib\\site-packages (from autoviz) (0.12.2)\n",
      "Requirement already satisfied: matplotlib>=3.3.3 in c:\\users\\dell\\anaconda3\\lib\\site-packages (from autoviz) (3.4.3)\n",
      "Requirement already satisfied: fsspec>=0.8.3 in c:\\users\\dell\\anaconda3\\lib\\site-packages (from autoviz) (2021.10.1)\n",
      "Requirement already satisfied: holoviews>=1.14.6 in c:\\users\\dell\\anaconda3\\lib\\site-packages (from autoviz) (1.14.8)\n",
      "Requirement already satisfied: ipython in c:\\users\\dell\\anaconda3\\lib\\site-packages (from autoviz) (7.29.0)\n",
      "Requirement already satisfied: nltk in c:\\users\\dell\\anaconda3\\lib\\site-packages (from autoviz) (3.7)\n",
      "Requirement already satisfied: bokeh>=2.4.2 in c:\\users\\dell\\anaconda3\\lib\\site-packages (from autoviz) (2.4.2)\n",
      "Requirement already satisfied: wordcloud in c:\\users\\dell\\anaconda3\\lib\\site-packages (from autoviz) (1.8.1)\n",
      "Collecting emoji\n",
      "  Using cached emoji-1.7.0-py3-none-any.whl\n",
      "Requirement already satisfied: jupyter in c:\\users\\dell\\anaconda3\\lib\\site-packages (from autoviz) (1.0.0)\n",
      "Collecting hvplot>=0.7.3\n",
      "  Using cached hvplot-0.7.3-py2.py3-none-any.whl (3.1 MB)\n",
      "Requirement already satisfied: xlrd in c:\\users\\dell\\anaconda3\\lib\\site-packages (from autoviz) (2.0.1)\n",
      "Requirement already satisfied: xgboost in c:\\users\\dell\\anaconda3\\lib\\site-packages (from autoviz) (1.6.0)\n",
      "Collecting textblob\n",
      "  Using cached textblob-0.17.1-py2.py3-none-any.whl (636 kB)\n",
      "Requirement already satisfied: typing-extensions>=4.1.1 in c:\\users\\dell\\anaconda3\\lib\\site-packages (from autoviz) (4.2.0)\n",
      "Requirement already satisfied: scikit-learn in c:\\users\\dell\\anaconda3\\lib\\site-packages (from autoviz) (0.24.2)\n",
      "Requirement already satisfied: seaborn>=0.11.1 in c:\\users\\dell\\anaconda3\\lib\\site-packages (from autoviz) (0.11.2)\n",
      "Requirement already satisfied: panel~=0.12.6 in c:\\users\\dell\\anaconda3\\lib\\site-packages (from autoviz) (0.12.7)\n",
      "Requirement already satisfied: pandas in c:\\users\\dell\\anaconda3\\lib\\site-packages (from autoviz) (1.3.4)\n",
      "Requirement already satisfied: Jinja2>=2.9 in c:\\users\\dell\\appdata\\roaming\\python\\python39\\site-packages (from bokeh>=2.4.2->autoviz) (3.1.1)\n",
      "Requirement already satisfied: packaging>=16.8 in c:\\users\\dell\\anaconda3\\lib\\site-packages (from bokeh>=2.4.2->autoviz) (21.0)\n",
      "Requirement already satisfied: numpy>=1.11.3 in c:\\users\\dell\\anaconda3\\lib\\site-packages (from bokeh>=2.4.2->autoviz) (1.22.3)\n",
      "Requirement already satisfied: pillow>=7.1.0 in c:\\users\\dell\\anaconda3\\lib\\site-packages (from bokeh>=2.4.2->autoviz) (8.4.0)\n",
      "Requirement already satisfied: tornado>=5.1 in c:\\users\\dell\\anaconda3\\lib\\site-packages (from bokeh>=2.4.2->autoviz) (6.1)\n",
      "Requirement already satisfied: PyYAML>=3.10 in c:\\users\\dell\\anaconda3\\lib\\site-packages (from bokeh>=2.4.2->autoviz) (6.0)\n",
      "Requirement already satisfied: param<2.0,>=1.9.3 in c:\\users\\dell\\anaconda3\\lib\\site-packages (from holoviews>=1.14.6->autoviz) (1.12.1)\n",
      "Requirement already satisfied: colorcet in c:\\users\\dell\\anaconda3\\lib\\site-packages (from holoviews>=1.14.6->autoviz) (3.0.0)\n",
      "Requirement already satisfied: pyviz-comms>=0.7.4 in c:\\users\\dell\\anaconda3\\lib\\site-packages (from holoviews>=1.14.6->autoviz) (2.2.0)\n",
      "Requirement already satisfied: kiwisolver>=1.0.1 in c:\\users\\dell\\anaconda3\\lib\\site-packages (from matplotlib>=3.3.3->autoviz) (1.3.1)\n",
      "Requirement already satisfied: python-dateutil>=2.7 in c:\\users\\dell\\anaconda3\\lib\\site-packages (from matplotlib>=3.3.3->autoviz) (2.8.2)\n",
      "Requirement already satisfied: pyparsing>=2.2.1 in c:\\users\\dell\\anaconda3\\lib\\site-packages (from matplotlib>=3.3.3->autoviz) (3.0.4)\n",
      "Requirement already satisfied: cycler>=0.10 in c:\\users\\dell\\anaconda3\\lib\\site-packages (from matplotlib>=3.3.3->autoviz) (0.10.0)\n",
      "Requirement already satisfied: pytz>=2017.3 in c:\\users\\dell\\anaconda3\\lib\\site-packages (from pandas->autoviz) (2021.3)\n",
      "Requirement already satisfied: markdown in c:\\users\\dell\\anaconda3\\lib\\site-packages (from panel~=0.12.6->autoviz) (3.3.6)\n",
      "Requirement already satisfied: requests in c:\\users\\dell\\anaconda3\\lib\\site-packages (from panel~=0.12.6->autoviz) (2.26.0)\n",
      "Collecting setuptools<61,>=42\n",
      "  Downloading setuptools-60.10.0-py3-none-any.whl (1.1 MB)\n",
      "     ---------------------------------------- 1.1/1.1 MB 665.4 kB/s eta 0:00:00\n",
      "Requirement already satisfied: tqdm>=4.48.0 in c:\\users\\dell\\anaconda3\\lib\\site-packages (from panel~=0.12.6->autoviz) (4.62.3)\n",
      "Requirement already satisfied: bleach in c:\\users\\dell\\anaconda3\\lib\\site-packages (from panel~=0.12.6->autoviz) (4.0.0)\n",
      "Requirement already satisfied: pyct>=0.4.4 in c:\\users\\dell\\anaconda3\\lib\\site-packages (from panel~=0.12.6->autoviz) (0.4.8)\n",
      "Requirement already satisfied: scipy>=1.0 in c:\\users\\dell\\anaconda3\\lib\\site-packages (from seaborn>=0.11.1->autoviz) (1.7.1)\n",
      "Requirement already satisfied: prompt-toolkit!=3.0.0,!=3.0.1,<3.1.0,>=2.0.0 in c:\\users\\dell\\anaconda3\\lib\\site-packages (from ipython->autoviz) (3.0.20)\n",
      "Requirement already satisfied: pickleshare in c:\\users\\dell\\anaconda3\\lib\\site-packages (from ipython->autoviz) (0.7.5)\n",
      "Requirement already satisfied: colorama in c:\\users\\dell\\anaconda3\\lib\\site-packages (from ipython->autoviz) (0.4.4)\n",
      "Requirement already satisfied: backcall in c:\\users\\dell\\anaconda3\\lib\\site-packages (from ipython->autoviz) (0.2.0)\n",
      "Requirement already satisfied: matplotlib-inline in c:\\users\\dell\\anaconda3\\lib\\site-packages (from ipython->autoviz) (0.1.2)\n",
      "Requirement already satisfied: decorator in c:\\users\\dell\\anaconda3\\lib\\site-packages (from ipython->autoviz) (5.1.0)\n",
      "Requirement already satisfied: jedi>=0.16 in c:\\users\\dell\\anaconda3\\lib\\site-packages (from ipython->autoviz) (0.18.0)\n",
      "Requirement already satisfied: pygments in c:\\users\\dell\\anaconda3\\lib\\site-packages (from ipython->autoviz) (2.10.0)\n",
      "Requirement already satisfied: traitlets>=4.2 in c:\\users\\dell\\anaconda3\\lib\\site-packages (from ipython->autoviz) (5.1.0)\n",
      "Requirement already satisfied: ipykernel in c:\\users\\dell\\anaconda3\\lib\\site-packages (from jupyter->autoviz) (6.4.1)\n",
      "Requirement already satisfied: jupyter-console in c:\\users\\dell\\anaconda3\\lib\\site-packages (from jupyter->autoviz) (6.4.0)\n",
      "Requirement already satisfied: nbconvert in c:\\users\\dell\\appdata\\roaming\\python\\python39\\site-packages (from jupyter->autoviz) (6.5.0)\n",
      "Requirement already satisfied: qtconsole in c:\\users\\dell\\anaconda3\\lib\\site-packages (from jupyter->autoviz) (5.1.1)\n",
      "Requirement already satisfied: notebook in c:\\users\\dell\\anaconda3\\lib\\site-packages (from jupyter->autoviz) (6.4.5)\n",
      "Requirement already satisfied: ipywidgets in c:\\users\\dell\\anaconda3\\lib\\site-packages (from jupyter->autoviz) (7.6.5)\n",
      "Requirement already satisfied: regex>=2021.8.3 in c:\\users\\dell\\anaconda3\\lib\\site-packages (from nltk->autoviz) (2021.8.3)\n",
      "Requirement already satisfied: joblib in c:\\users\\dell\\anaconda3\\lib\\site-packages (from nltk->autoviz) (1.0.1)\n",
      "Requirement already satisfied: click in c:\\users\\dell\\anaconda3\\lib\\site-packages (from nltk->autoviz) (8.0.3)\n",
      "Requirement already satisfied: threadpoolctl>=2.0.0 in c:\\users\\dell\\anaconda3\\lib\\site-packages (from scikit-learn->autoviz) (2.2.0)\n",
      "Requirement already satisfied: patsy>=0.5 in c:\\users\\dell\\anaconda3\\lib\\site-packages (from statsmodels->autoviz) (0.5.2)\n",
      "Requirement already satisfied: six in c:\\users\\dell\\anaconda3\\lib\\site-packages (from cycler>=0.10->matplotlib>=3.3.3->autoviz) (1.16.0)\n",
      "Requirement already satisfied: parso<0.9.0,>=0.8.0 in c:\\users\\dell\\anaconda3\\lib\\site-packages (from jedi>=0.16->ipython->autoviz) (0.8.2)\n",
      "Requirement already satisfied: MarkupSafe>=2.0 in c:\\users\\dell\\anaconda3\\lib\\site-packages (from Jinja2>=2.9->bokeh>=2.4.2->autoviz) (2.0.1)\n",
      "Requirement already satisfied: wcwidth in c:\\users\\dell\\anaconda3\\lib\\site-packages (from prompt-toolkit!=3.0.0,!=3.0.1,<3.1.0,>=2.0.0->ipython->autoviz) (0.2.5)\n",
      "Requirement already satisfied: webencodings in c:\\users\\dell\\anaconda3\\lib\\site-packages (from bleach->panel~=0.12.6->autoviz) (0.5.1)\n",
      "Requirement already satisfied: debugpy<2.0,>=1.0.0 in c:\\users\\dell\\anaconda3\\lib\\site-packages (from ipykernel->jupyter->autoviz) (1.4.1)\n",
      "Requirement already satisfied: ipython-genutils in c:\\users\\dell\\anaconda3\\lib\\site-packages (from ipykernel->jupyter->autoviz) (0.2.0)\n",
      "Requirement already satisfied: jupyter-client<8.0 in c:\\users\\dell\\anaconda3\\lib\\site-packages (from ipykernel->jupyter->autoviz) (6.1.12)\n",
      "Requirement already satisfied: nbformat>=4.2.0 in c:\\users\\dell\\anaconda3\\lib\\site-packages (from ipywidgets->jupyter->autoviz) (5.1.3)\n",
      "Requirement already satisfied: widgetsnbextension~=3.5.0 in c:\\users\\dell\\anaconda3\\lib\\site-packages (from ipywidgets->jupyter->autoviz) (3.5.1)\n",
      "Requirement already satisfied: jupyterlab-widgets>=1.0.0 in c:\\users\\dell\\anaconda3\\lib\\site-packages (from ipywidgets->jupyter->autoviz) (1.0.0)\n",
      "Requirement already satisfied: importlib-metadata>=4.4 in c:\\users\\dell\\anaconda3\\lib\\site-packages (from markdown->panel~=0.12.6->autoviz) (4.8.1)\n",
      "Requirement already satisfied: pandocfilters>=1.4.1 in c:\\users\\dell\\anaconda3\\lib\\site-packages (from nbconvert->jupyter->autoviz) (1.4.3)\n",
      "Requirement already satisfied: entrypoints>=0.2.2 in c:\\users\\dell\\anaconda3\\lib\\site-packages (from nbconvert->jupyter->autoviz) (0.3)\n",
      "Requirement already satisfied: jupyter-core>=4.7 in c:\\users\\dell\\anaconda3\\lib\\site-packages (from nbconvert->jupyter->autoviz) (4.8.1)\n",
      "Requirement already satisfied: beautifulsoup4 in c:\\users\\dell\\anaconda3\\lib\\site-packages (from nbconvert->jupyter->autoviz) (4.10.0)\n",
      "Requirement already satisfied: defusedxml in c:\\users\\dell\\anaconda3\\lib\\site-packages (from nbconvert->jupyter->autoviz) (0.7.1)\n",
      "Requirement already satisfied: tinycss2 in c:\\users\\dell\\appdata\\roaming\\python\\python39\\site-packages (from nbconvert->jupyter->autoviz) (1.1.1)\n",
      "Requirement already satisfied: jupyterlab-pygments in c:\\users\\dell\\anaconda3\\lib\\site-packages (from nbconvert->jupyter->autoviz) (0.1.2)\n",
      "Requirement already satisfied: mistune<2,>=0.8.1 in c:\\users\\dell\\anaconda3\\lib\\site-packages (from nbconvert->jupyter->autoviz) (0.8.4)\n",
      "Requirement already satisfied: nbclient>=0.5.0 in c:\\users\\dell\\anaconda3\\lib\\site-packages (from nbconvert->jupyter->autoviz) (0.5.3)\n",
      "Requirement already satisfied: pyzmq>=17 in c:\\users\\dell\\anaconda3\\lib\\site-packages (from notebook->jupyter->autoviz) (22.2.1)\n",
      "Requirement already satisfied: Send2Trash>=1.5.0 in c:\\users\\dell\\anaconda3\\lib\\site-packages (from notebook->jupyter->autoviz) (1.8.0)\n",
      "Requirement already satisfied: argon2-cffi in c:\\users\\dell\\anaconda3\\lib\\site-packages (from notebook->jupyter->autoviz) (20.1.0)\n",
      "Requirement already satisfied: terminado>=0.8.3 in c:\\users\\dell\\anaconda3\\lib\\site-packages (from notebook->jupyter->autoviz) (0.9.4)\n",
      "Requirement already satisfied: prometheus-client in c:\\users\\dell\\anaconda3\\lib\\site-packages (from notebook->jupyter->autoviz) (0.11.0)\n",
      "Requirement already satisfied: qtpy in c:\\users\\dell\\anaconda3\\lib\\site-packages (from qtconsole->jupyter->autoviz) (1.10.0)\n",
      "Requirement already satisfied: charset-normalizer~=2.0.0 in c:\\users\\dell\\anaconda3\\lib\\site-packages (from requests->panel~=0.12.6->autoviz) (2.0.4)\n",
      "Requirement already satisfied: idna<4,>=2.5 in c:\\users\\dell\\anaconda3\\lib\\site-packages (from requests->panel~=0.12.6->autoviz) (3.2)\n",
      "Requirement already satisfied: urllib3<1.27,>=1.21.1 in c:\\users\\dell\\anaconda3\\lib\\site-packages (from requests->panel~=0.12.6->autoviz) (1.26.7)\n",
      "Requirement already satisfied: certifi>=2017.4.17 in c:\\users\\dell\\anaconda3\\lib\\site-packages (from requests->panel~=0.12.6->autoviz) (2021.10.8)\n",
      "Requirement already satisfied: zipp>=0.5 in c:\\users\\dell\\anaconda3\\lib\\site-packages (from importlib-metadata>=4.4->markdown->panel~=0.12.6->autoviz) (3.6.0)\n",
      "Requirement already satisfied: pywin32>=1.0 in c:\\users\\dell\\anaconda3\\lib\\site-packages (from jupyter-core>=4.7->nbconvert->jupyter->autoviz) (228)\n",
      "Requirement already satisfied: nest-asyncio in c:\\users\\dell\\anaconda3\\lib\\site-packages (from nbclient>=0.5.0->nbconvert->jupyter->autoviz) (1.5.1)\n",
      "Requirement already satisfied: async-generator in c:\\users\\dell\\anaconda3\\lib\\site-packages (from nbclient>=0.5.0->nbconvert->jupyter->autoviz) (1.10)\n",
      "Requirement already satisfied: jsonschema!=2.5.0,>=2.4 in c:\\users\\dell\\anaconda3\\lib\\site-packages (from nbformat>=4.2.0->ipywidgets->jupyter->autoviz) (3.2.0)\n",
      "Requirement already satisfied: pywinpty>=0.5 in c:\\users\\dell\\anaconda3\\lib\\site-packages (from terminado>=0.8.3->notebook->jupyter->autoviz) (0.5.7)\n",
      "Requirement already satisfied: cffi>=1.0.0 in c:\\users\\dell\\anaconda3\\lib\\site-packages (from argon2-cffi->notebook->jupyter->autoviz) (1.14.6)\n",
      "Requirement already satisfied: soupsieve>1.2 in c:\\users\\dell\\anaconda3\\lib\\site-packages (from beautifulsoup4->nbconvert->jupyter->autoviz) (2.2.1)\n",
      "Requirement already satisfied: pycparser in c:\\users\\dell\\anaconda3\\lib\\site-packages (from cffi>=1.0.0->argon2-cffi->notebook->jupyter->autoviz) (2.20)\n",
      "Requirement already satisfied: pyrsistent>=0.14.0 in c:\\users\\dell\\anaconda3\\lib\\site-packages (from jsonschema!=2.5.0,>=2.4->nbformat>=4.2.0->ipywidgets->jupyter->autoviz) (0.18.0)\n",
      "Requirement already satisfied: attrs>=17.4.0 in c:\\users\\dell\\anaconda3\\lib\\site-packages (from jsonschema!=2.5.0,>=2.4->nbformat>=4.2.0->ipywidgets->jupyter->autoviz) (21.2.0)\n",
      "Installing collected packages: emoji, setuptools, textblob, hvplot, autoviz\n",
      "  Attempting uninstall: setuptools\n",
      "    Found existing installation: setuptools 62.1.0\n",
      "    Uninstalling setuptools-62.1.0:\n",
      "      Successfully uninstalled setuptools-62.1.0\n",
      "Successfully installed autoviz-0.1.38 emoji-1.7.0 hvplot-0.7.3 setuptools-60.10.0 textblob-0.17.1\n"
     ]
    }
   ],
   "source": [
    "!pip install autoviz"
   ]
  },
  {
   "cell_type": "code",
   "execution_count": 9,
   "id": "a2e99182",
   "metadata": {},
   "outputs": [
    {
     "name": "stdout",
     "output_type": "stream",
     "text": [
      "Shape of your Data Set loaded: (891, 12)\n",
      "############## C L A S S I F Y I N G  V A R I A B L E S  ####################\n",
      "Classifying variables in data set...\n",
      "    12 Predictors classified...\n",
      "        2 variables removed since they were ID or low-information variables\n",
      "Number of All Scatter Plots = 3\n",
      "\n",
      "**********************************************************************\n",
      "  Resource \u001b[93mwordnet\u001b[0m not found.\n",
      "  Please use the NLTK Downloader to obtain the resource:\n",
      "\n",
      "  \u001b[31m>>> import nltk\n",
      "  >>> nltk.download('wordnet')\n",
      "  \u001b[0m\n",
      "  For more information see: https://www.nltk.org/data.html\n",
      "\n",
      "  Attempted to load \u001b[93mcorpora/wordnet\u001b[0m\n",
      "\n",
      "  Searched in:\n",
      "    - 'C:\\\\Users\\\\Dell/nltk_data'\n",
      "    - 'C:\\\\Users\\\\Dell\\\\anaconda3\\\\nltk_data'\n",
      "    - 'C:\\\\Users\\\\Dell\\\\anaconda3\\\\share\\\\nltk_data'\n",
      "    - 'C:\\\\Users\\\\Dell\\\\anaconda3\\\\lib\\\\nltk_data'\n",
      "    - 'C:\\\\Users\\\\Dell\\\\AppData\\\\Roaming\\\\nltk_data'\n",
      "    - 'C:\\\\nltk_data'\n",
      "    - 'D:\\\\nltk_data'\n",
      "    - 'E:\\\\nltk_data'\n",
      "**********************************************************************\n",
      "\n",
      "Could not draw wordcloud plot for Ticket\n",
      "\n",
      "**********************************************************************\n",
      "  Resource \u001b[93mwordnet\u001b[0m not found.\n",
      "  Please use the NLTK Downloader to obtain the resource:\n",
      "\n",
      "  \u001b[31m>>> import nltk\n",
      "  >>> nltk.download('wordnet')\n",
      "  \u001b[0m\n",
      "  For more information see: https://www.nltk.org/data.html\n",
      "\n",
      "  Attempted to load \u001b[93mcorpora/wordnet\u001b[0m\n",
      "\n",
      "  Searched in:\n",
      "    - 'C:\\\\Users\\\\Dell/nltk_data'\n",
      "    - 'C:\\\\Users\\\\Dell\\\\anaconda3\\\\nltk_data'\n",
      "    - 'C:\\\\Users\\\\Dell\\\\anaconda3\\\\share\\\\nltk_data'\n",
      "    - 'C:\\\\Users\\\\Dell\\\\anaconda3\\\\lib\\\\nltk_data'\n",
      "    - 'C:\\\\Users\\\\Dell\\\\AppData\\\\Roaming\\\\nltk_data'\n",
      "    - 'C:\\\\nltk_data'\n",
      "    - 'D:\\\\nltk_data'\n",
      "    - 'E:\\\\nltk_data'\n",
      "**********************************************************************\n",
      "\n",
      "Could not draw wordcloud plot for Cabin\n",
      "Time to run AutoViz = 1 seconds \n",
      "\n",
      " ###################### AUTO VISUALIZATION Completed ########################\n"
     ]
    }
   ],
   "source": [
    "from autoviz.AutoViz_Class import AutoViz_Class\n",
    "AV = AutoViz_Class()\n",
    "df = AV.AutoViz('titanic.csv')\n",
    "#df.show_html(\"titanic.html\")"
   ]
  },
  {
   "cell_type": "code",
   "execution_count": 7,
   "id": "0b8fcd10",
   "metadata": {},
   "outputs": [
    {
     "name": "stderr",
     "output_type": "stream",
     "text": [
      "[nltk_data] Downloading package punkt to\n",
      "[nltk_data]     C:\\Users\\Dell\\AppData\\Roaming\\nltk_data...\n",
      "[nltk_data]   Unzipping tokenizers\\punkt.zip.\n"
     ]
    },
    {
     "data": {
      "text/plain": [
       "True"
      ]
     },
     "execution_count": 7,
     "metadata": {},
     "output_type": "execute_result"
    }
   ],
   "source": [
    "import nltk\n",
    "nltk.download('punkt')"
   ]
  },
  {
   "cell_type": "code",
   "execution_count": null,
   "id": "708e5493",
   "metadata": {},
   "outputs": [],
   "source": []
  }
 ],
 "metadata": {
  "kernelspec": {
   "display_name": "Python 3 (ipykernel)",
   "language": "python",
   "name": "python3"
  },
  "language_info": {
   "codemirror_mode": {
    "name": "ipython",
    "version": 3
   },
   "file_extension": ".py",
   "mimetype": "text/x-python",
   "name": "python",
   "nbconvert_exporter": "python",
   "pygments_lexer": "ipython3",
   "version": "3.9.7"
  }
 },
 "nbformat": 4,
 "nbformat_minor": 5
}
