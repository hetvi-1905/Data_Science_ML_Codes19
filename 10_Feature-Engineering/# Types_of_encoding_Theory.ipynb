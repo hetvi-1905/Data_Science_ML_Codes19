{
 "cells": [
  {
   "cell_type": "markdown",
   "id": "4409b74f",
   "metadata": {},
   "source": [
    "# Types of Encoding\n",
    "## 1) Nominal Encoding\n",
    "###  - One Hot Encoding\n",
    "###  - One Hot Encoding with many categorical features (limiting the categories to top n)\n",
    "###  - Mean Encoding\n",
    "## 2) Ordinal Encoding ( first , second ,...)\n",
    "###  - Label Encoding\n",
    "###  - Target Guided Ordinal Encoding"
   ]
  },
  {
   "cell_type": "code",
   "execution_count": null,
   "id": "d63526fb",
   "metadata": {},
   "outputs": [],
   "source": []
  }
 ],
 "metadata": {
  "kernelspec": {
   "display_name": "Python 3 (ipykernel)",
   "language": "python",
   "name": "python3"
  },
  "language_info": {
   "codemirror_mode": {
    "name": "ipython",
    "version": 3
   },
   "file_extension": ".py",
   "mimetype": "text/x-python",
   "name": "python",
   "nbconvert_exporter": "python",
   "pygments_lexer": "ipython3",
   "version": "3.9.7"
  }
 },
 "nbformat": 4,
 "nbformat_minor": 5
}
